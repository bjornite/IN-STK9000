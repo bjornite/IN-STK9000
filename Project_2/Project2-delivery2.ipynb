{
 "cells": [
  {
   "cell_type": "code",
   "execution_count": 3,
   "metadata": {},
   "outputs": [],
   "source": [
    "import numpy as np\n",
    "import pandas as pd\n",
    "\n",
    "import matplotlib.pyplot as plt\n",
    "import seaborn as sns\n",
    "sns.set()\n",
    "\n",
    "from sklearn import cluster\n",
    "from sklearn.model_selection import train_test_split\n",
    "from sklearn.metrics import pairwise_distances_argmin\n",
    "\n",
    "from sklearn.cluster import AgglomerativeClustering, KMeans\n",
    "import scipy.cluster.hierarchy as shc"
   ]
  },
  {
   "cell_type": "code",
   "execution_count": 4,
   "metadata": {},
   "outputs": [
    {
     "name": "stderr",
     "output_type": "stream",
     "text": [
      "Using TensorFlow backend.\n"
     ]
    }
   ],
   "source": [
    "from keras.models import Model\n",
    "from keras.models import Sequential\n",
    "from keras.layers import Dense, Dropout, BatchNormalization\n",
    "from keras.optimizers import RMSprop\n",
    "from keras import regularizers"
   ]
  },
  {
   "cell_type": "code",
   "execution_count": 5,
   "metadata": {},
   "outputs": [],
   "source": [
    "# Read the data\n",
    "features = pd.read_csv('./medical/historical_X.dat', header=None, sep=\" \").values\n",
    "actions = pd.read_csv('./medical/historical_A.dat', header=None, sep=\" \").values\n",
    "outcome = pd.read_csv('./medical/historical_Y.dat', header=None, sep=\" \").values\n",
    "observations = features[:, :128]\n",
    "labels = features[:,128] + features[:,129]*2"
   ]
  },
  {
   "cell_type": "code",
   "execution_count": 6,
   "metadata": {},
   "outputs": [],
   "source": [
    "#Start by implementing a model\n",
    "\n",
    "\n",
    "# -*- Mode: python -*-\n",
    "# A simple reference recommender\n",
    "#\n",
    "#\n",
    "# This is a medical scenario with historical data. \n",
    "#\n",
    "# General functions\n",
    "#\n",
    "# - set_reward\n",
    "# \n",
    "# There is a set of functions for dealing with historical data:\n",
    "#\n",
    "# - fit_data\n",
    "# - fit_treatment_outcome\n",
    "# - estimate_utiltiy\n",
    "#\n",
    "# There is a set of functions for online decision making\n",
    "#\n",
    "# - predict_proba\n",
    "# - recommend\n",
    "# - observe\n",
    "\n",
    "from sklearn import linear_model\n",
    "from sklearn.model_selection import GridSearchCV\n",
    "import numpy as np\n",
    "\n",
    "\n",
    "class NNDoctor:\n",
    "    def __init__(self, \n",
    "                 n_actions=1, \n",
    "                 n_outcomes=1, \n",
    "                 layer_sizes=[64, 16],\n",
    "                 batch_size=5,\n",
    "                 epochs=5,\n",
    "                 optimizer=\"adam\",\n",
    "                 loss=\"binary_crossentropy\",\n",
    "                 alpha = 0.001):\n",
    "        self.n_actions = n_actions\n",
    "        self.n_outcomes = n_outcomes\n",
    "        self.reward = self._default_reward\n",
    "        self.layer_sizes = layer_sizes\n",
    "        self.batch_size = batch_size\n",
    "        self.epochs = epochs\n",
    "        self.optimizer = optimizer\n",
    "        self.loss = loss\n",
    "        self.alpha = alpha\n",
    "        \n",
    "    def _default_reward(self, action, outcome):\n",
    "        return -0.1*action + outcome\n",
    "        \n",
    "    def get_params(self, deep=True):\n",
    "        return {k: v for k, v in self.__dict__.items() if not callable(v)}\n",
    "\n",
    "    def set_params(self, **parameters):\n",
    "        for parameter, value in parameters.items():\n",
    "            setattr(self, parameter, value)\n",
    "        return self\n",
    "\n",
    "    def predict_proba(self, X):\n",
    "        return self.model.predict(X)\n",
    "\n",
    "    def fit(self, X, y):\n",
    "        self.model = self.build_network(X, y)\n",
    "        self.model.fit(X, y, epochs=self.epochs, batch_size=self.batch_size, verbose=0)\n",
    "\n",
    "    def predict(self, Xtest):\n",
    "        return self.model.predict(Xtest)\n",
    "    \n",
    "    def build_network(self, X, y):\n",
    "        model = Sequential()\n",
    "        for layer_size in self.layer_sizes:\n",
    "            model.add(Dense(layer_size, activation='elu',kernel_regularizer=regularizers.l2(self.alpha)))\n",
    "        model.add(Dense(1, activation='sigmoid'))\n",
    "        model.compile(loss=self.loss,\n",
    "                      optimizer=self.optimizer,\n",
    "                      metrics=['accuracy'])\n",
    "        return model\n",
    "    \n",
    "    def score(self, X, y):\n",
    "        return (self.model.predict(X)**2 - y**2).mean()\n",
    "    \n",
    "class NNRecommender:\n",
    "\n",
    "    #################################\n",
    "    # Initialise\n",
    "    #\n",
    "    # Set the recommender with a default number of actions and outcomes.  This is\n",
    "    # because the number of actions in historical data can be\n",
    "    # different from the ones that you can take with your policy.\n",
    "    model = None\n",
    "    \n",
    "    def __init__(self, n_actions, n_outcomes):\n",
    "        self.n_actions = n_actions\n",
    "        self.n_outcomes = n_outcomes\n",
    "        self.reward = self._default_reward\n",
    "\n",
    "    ## By default, the reward is just equal to the outcome, as the actions play no role.\n",
    "    def _default_reward(self, action, outcome):\n",
    "        return -0.1*action + outcome\n",
    "\n",
    "    # Set the reward function r(a, y)\n",
    "    def set_reward(self, reward):\n",
    "        self.reward = reward\n",
    "    \n",
    "    ##################################\n",
    "    # Fit a model from patient data.\n",
    "    #\n",
    "    # This will generally speaking be an\n",
    "    # unsupervised model. Anything from a Gaussian mixture model to a\n",
    "    # neural network is a valid choice.  However, you can give special\n",
    "    # meaning to different parts of the data, and use a supervised\n",
    "    # model instead.\n",
    "    def fit_data(self, data):\n",
    "        print(\"Preprocessing data\")\n",
    "        return None\n",
    "\n",
    "    def train_model(self, X, a, y):\n",
    "        param_grid = {'layer_sizes': [[32, 16], [64, 16]],\n",
    "        'batch_size': [5, 10],\n",
    "        'epochs': [1, 5],\n",
    "        'optimizer': ['Adam', 'sgd'],\n",
    "        'loss': ['mse'],\n",
    "        'alpha': [0.001, 0.0001]}\n",
    "        #self.model = GridSearchCV(NNDoctor(), param_grid, cv=10, n_jobs=4)\n",
    "        self.model = NNDoctor()\n",
    "        self.model.fit(np.concatenate((X, a), axis=1), y)\n",
    "        #print(self.model.best_params_)\n",
    "\n",
    "    ## Fit a model from patient data, actions and their effects\n",
    "    ## Here we assume that the outcome is a direct function of data and actions\n",
    "    ## This model can then be used in estimate_utility(), predict_proba() and recommend()\n",
    "    def fit_treatment_outcome(self, data, actions, outcome):\n",
    "        print(\"Fitting treatment outcomes\")\n",
    "        self.train_model(data, actions, outcome)\n",
    "        return self.model\n",
    "\n",
    "    ## Estimate the utility of a specific policy from historical data (data, actions, outcome),\n",
    "    ## where utility is the expected reward of the policy.\n",
    "    ##\n",
    "    ## If policy is not given, simply use the average reward of the observed actions and outcomes.\n",
    "    ##\n",
    "    ## If a policy is given, then you can either use importance\n",
    "    ## sampling, or use the model you have fitted from historical data\n",
    "    ## to get an estimate of the utility.\n",
    "    ##\n",
    "    ## The policy should be a recommender that implements get_action_probability()\n",
    "    def estimate_utility(self, data, actions, outcome, policy=None):\n",
    "        if policy is None:\n",
    "            return self.reward(actions, outcome).mean()\n",
    "        else:\n",
    "            #predictions_ones = self.model.predict(np.concatenate((data, np.ones(len(data)).reshape(-1,1)), axis = 1))\n",
    "            #predictions_zeros = self.model.predict(np.concatenate((data, np.zeros(len(data)).reshape(-1,1)), axis = 1))\n",
    "            #predictions = np.concatenate((predictions_zeros, predictions_ones), axis=1)\n",
    "            #policy_actions = np.array([policy.get_action_probabilities(x) for x in data])\n",
    "            policy_actions = np.array([policy.recommend(x) for x in data])\n",
    "            predicted_outcomes = self.model.predict(np.concatenate((data, policy_actions.reshape(-1,1)), axis=1))\n",
    "            return self.reward(policy_actions, predicted_outcomes.reshape(1,-1)).mean()\n",
    "            #print(policy_actions)\n",
    "            #res_matrix = np.dot(predictions.T, policy_actions)\n",
    "            #print(res_matrix)\n",
    "            #return (-0.1*policy_actions.sum() + (res_matrix[0][0] + res_matrix[1][1])) / len(data)\n",
    "\n",
    "    # Return a distribution of effects for a given person's data and a specific treatment.\n",
    "    # This should be an numpy.array of length self.n_outcomes\n",
    "    def predict_proba(self, data, treatment):\n",
    "        predictions = self.model.predict(np.concatenate((data, [treatment])).reshape(1,-1)).ravel()\n",
    "        return predictions\n",
    "\n",
    "    # Return a distribution of recommendations for a specific user datum\n",
    "    # This should a numpy array of size equal to self.n_actions, summing up to 1\n",
    "    def get_action_probabilities(self, user_data):\n",
    "        #print(\"Recommending\")\n",
    "        predictions = []\n",
    "        for a in range(self.n_actions):\n",
    "            estimated_outcome = self.model.predict(np.concatenate((user_data, [a])).reshape(1,-1))[0][0]\n",
    "            estimated_reward = self.reward(a, estimated_outcome)\n",
    "            predictions.append(estimated_reward)\n",
    "        return np.exp(predictions)/np.sum(np.exp(predictions))\n",
    "    \n",
    "    def estimate_historic_utility(self, data, actions, outcome):\n",
    "        estimated_outcome = self.model.predict(np.concatenate((data, actions), axis=1))\n",
    "        #outcome_prob = 1/(1 + np.exp(0.5-estimated_outcome))\n",
    "        return self.reward(actions, estimated_outcome).mean()\n",
    "\n",
    "    # Return recommendations for a specific user datum\n",
    "    # This should be an integer in range(self.n_actions)\n",
    "    def recommend(self, user_data):\n",
    "        return np.argmax(self.get_action_probabilities(user_data))\n",
    "\n",
    "    # Observe the effect of an action. This is an opportunity for you\n",
    "    # to refit your models, to take the new information into account.\n",
    "    def observe(self, user, action, outcome):\n",
    "        return None\n",
    "\n",
    "    # After all the data has been obtained, do a final analysis. This can consist of a number of things:\n",
    "    # 1. Recommending a specific fixed treatment policy\n",
    "    # 2. Suggesting looking at specific genes more closely\n",
    "    # 3. Showing whether or not the new treatment might be better than the old, and by how much.\n",
    "    # 4. Outputting an estimate of the advantage of gene-targeting treatments versus the best fixed treatment\n",
    "    def final_analysis(self):\n",
    "        return None\n"
   ]
  },
  {
   "cell_type": "code",
   "execution_count": 7,
   "metadata": {},
   "outputs": [
    {
     "name": "stdout",
     "output_type": "stream",
     "text": [
      "Fitting treatment outcomes\n",
      "WARNING:tensorflow:From /Users/jolyndevis/anaconda3/lib/python3.7/site-packages/keras/backend/tensorflow_backend.py:66: The name tf.get_default_graph is deprecated. Please use tf.compat.v1.get_default_graph instead.\n",
      "\n",
      "WARNING:tensorflow:From /Users/jolyndevis/anaconda3/lib/python3.7/site-packages/keras/optimizers.py:793: The name tf.train.Optimizer is deprecated. Please use tf.compat.v1.train.Optimizer instead.\n",
      "\n",
      "WARNING:tensorflow:From /Users/jolyndevis/anaconda3/lib/python3.7/site-packages/keras/backend/tensorflow_backend.py:541: The name tf.placeholder is deprecated. Please use tf.compat.v1.placeholder instead.\n",
      "\n",
      "WARNING:tensorflow:From /Users/jolyndevis/anaconda3/lib/python3.7/site-packages/keras/backend/tensorflow_backend.py:4432: The name tf.random_uniform is deprecated. Please use tf.random.uniform instead.\n",
      "\n",
      "WARNING:tensorflow:From /Users/jolyndevis/anaconda3/lib/python3.7/site-packages/keras/backend/tensorflow_backend.py:3657: The name tf.log is deprecated. Please use tf.math.log instead.\n",
      "\n",
      "WARNING:tensorflow:From /Users/jolyndevis/anaconda3/lib/python3.7/site-packages/tensorflow/python/ops/nn_impl.py:180: add_dispatch_support.<locals>.wrapper (from tensorflow.python.ops.array_ops) is deprecated and will be removed in a future version.\n",
      "Instructions for updating:\n",
      "Use tf.where in 2.0, which has the same broadcast rule as np.where\n",
      "WARNING:tensorflow:From /Users/jolyndevis/anaconda3/lib/python3.7/site-packages/keras/backend/tensorflow_backend.py:1033: The name tf.assign_add is deprecated. Please use tf.compat.v1.assign_add instead.\n",
      "\n"
     ]
    },
    {
     "data": {
      "text/plain": [
       "<__main__.NNDoctor at 0x1a39231e10>"
      ]
     },
     "execution_count": 7,
     "metadata": {},
     "output_type": "execute_result"
    }
   ],
   "source": [
    "nn = NNRecommender(len(np.unique(actions)), outcome.shape[1])\n",
    "f_train, f_test, a_train, a_test, o_train, o_test = train_test_split(features, actions, outcome, test_size=.3)\n",
    "nn.fit_treatment_outcome(f_train, a_train, o_train)"
   ]
  },
  {
   "cell_type": "code",
   "execution_count": 8,
   "metadata": {},
   "outputs": [
    {
     "data": {
      "text/plain": [
       "0.11912"
      ]
     },
     "execution_count": 8,
     "metadata": {},
     "output_type": "execute_result"
    }
   ],
   "source": [
    "# Exercise 1.1:\n",
    "# Implemented estimate_utility above\n",
    "#rec = RandomRecommender(actions.shape[1], actions.shape[1])\n",
    "nn.estimate_utility(features, actions, outcome)"
   ]
  },
  {
   "cell_type": "code",
   "execution_count": 14,
   "metadata": {},
   "outputs": [
    {
     "name": "stdout",
     "output_type": "stream",
     "text": [
      "mean utility: 0.1191\n",
      "Utility std: 0.0033\n"
     ]
    },
    {
     "data": {
      "image/png": "[encoded data removed]",
      "text/plain": [
       "<Figure size 432x288 with 1 Axes>"
      ]
     },
     "metadata": {},
     "output_type": "display_data"
    }
   ],
   "source": [
    "# Exercise 1.2:\n",
    "# Use bootstrap on the historical dataset to estimate variance of the utility\n",
    "n = features.shape[0]\n",
    "num_samples = 1000\n",
    "utils = []\n",
    "for i in range(num_samples):\n",
    "    randlist = np.random.randint(n, size=n)\n",
    "    sample_features = features[randlist]\n",
    "    sample_actions = actions[randlist]\n",
    "    sample_outcome = outcome[randlist]\n",
    "    utils.append(nn.estimate_utility(sample_features, sample_actions, sample_outcome))\n",
    "plt.hist(utils)\n",
    "print(\"mean utility: {0:.4f}\".format(np.mean(utils)))\n",
    "print(\"Utility std: {0:.4f}\".format(np.std(utils)))"
   ]
  },
  {
   "cell_type": "code",
   "execution_count": 15,
   "metadata": {},
   "outputs": [
    {
     "name": "stdout",
     "output_type": "stream",
     "text": [
      "mean utility: 0.1335\n",
      "Utility std: 0.0029\n"
     ]
    },
    {
     "data": {
      "image/png": "[encoded data removed]",
      "text/plain": [
       "<Figure size 432x288 with 1 Axes>"
      ]
     },
     "metadata": {},
     "output_type": "display_data"
    }
   ],
   "source": [
    "#Exercise 2.1:\n",
    "\n",
    "n = f_test.shape[0]\n",
    "num_samples = 100\n",
    "utils = []\n",
    "for i in range(num_samples):\n",
    "    randlist = np.random.randint(n, size=n)\n",
    "    sample_features = f_test[randlist]\n",
    "    sample_actions = a_test[randlist]\n",
    "    sample_outcome = o_test[randlist]\n",
    "    utils.append(nn.estimate_historic_utility(sample_features, sample_actions, sample_outcome))\n",
    "plt.hist(utils)\n",
    "print(\"mean utility: {0:.4f}\".format(np.mean(utils)))\n",
    "print(\"Utility std: {0:.4f}\".format(np.std(utils)))"
   ]
  },
  {
   "cell_type": "code",
   "execution_count": 9,
   "metadata": {},
   "outputs": [
    {
     "data": {
      "text/plain": [
       "0.1118"
      ]
     },
     "execution_count": 9,
     "metadata": {},
     "output_type": "execute_result"
    }
   ],
   "source": [
    "nn.estimate_utility(f_test, a_test, o_test)"
   ]
  },
  {
   "cell_type": "code",
   "execution_count": 10,
   "metadata": {},
   "outputs": [
    {
     "data": {
      "text/plain": [
       "0.45870542218089105"
      ]
     },
     "execution_count": 10,
     "metadata": {},
     "output_type": "execute_result"
    }
   ],
   "source": [
    "#Excercise 2.2:\n",
    "\n",
    "nn.estimate_utility(f_test, a_test, o_test, nn)"
   ]
  },
  {
   "cell_type": "code",
   "execution_count": null,
   "metadata": {},
   "outputs": [],
   "source": []
  }
 ],
 "metadata": {
  "kernelspec": {
   "display_name": "Python 3",
   "language": "python",
   "name": "python3"
  },
  "language_info": {
   "codemirror_mode": {
    "name": "ipython",
    "version": 3
   },
   "file_extension": ".py",
   "mimetype": "text/x-python",
   "name": "python",
   "nbconvert_exporter": "python",
   "pygments_lexer": "ipython3",
   "version": "3.6.5"
  }
 },
 "nbformat": 4,
 "nbformat_minor": 2
}
