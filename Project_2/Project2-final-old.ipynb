{
 "cells": [
  {
   "cell_type": "code",
   "execution_count": 27,
   "metadata": {},
   "outputs": [],
   "source": [
    "import numpy as np\n",
    "import pandas as pd\n",
    "\n",
    "%matplotlib inline\n",
    "import matplotlib.pyplot as plt\n",
    "import seaborn as sns; sns.set()\n",
    "\n",
    "from sklearn import cluster\n",
    "from sklearn.model_selection import train_test_split\n",
    "from sklearn.metrics import pairwise_distances_argmin\n",
    "\n",
    "from sklearn.cluster import AgglomerativeClustering\n",
    "import scipy.cluster.hierarchy as shc\n",
    "\n",
    "from kmodes.kmodes import KModes"
   ]
  },
  {
   "cell_type": "markdown",
   "metadata": {},
   "source": [
    "### Discovering structure in the data\n",
    "It is uncertain if the symptoms present are all due to the same disease, or if they are different conditions with similar symptoms. (a) looking at only the attributes, estimate whether a single-cluster model is more likely than a multiple-cluster model. You can use anything, starting from a simple clustering algorithm like k-means to a hierarchical Bayesian model. (b) Try and determine whether some particular factors are important for disease epidemiology and may require further investigations."
   ]
  },
  {
   "cell_type": "code",
   "execution_count": 28,
   "metadata": {},
   "outputs": [],
   "source": [
    "# Read the data\n",
    "features = pd.read_csv('./medical/historical_X.dat', header=None, sep=\" \").values\n",
    "actions = pd.read_csv('./medical/historical_A.dat', header=None, sep=\" \").values\n",
    "outcome = pd.read_csv('./medical/historical_Y.dat', header=None, sep=\" \").values\n",
    "observations = features[:, :128]\n",
    "labels = features[:,128] + features[:,129]*2"
   ]
  },
  {
   "cell_type": "code",
   "execution_count": 29,
   "metadata": {},
   "outputs": [],
   "source": [
    "symptoms = np.append(observations, labels[:,None], 1)"
   ]
  },
  {
   "cell_type": "code",
   "execution_count": 30,
   "metadata": {},
   "outputs": [
    {
     "name": "stdout",
     "output_type": "stream",
     "text": [
      "(5168, 129)\n",
      "(4832, 129)\n"
     ]
    }
   ],
   "source": [
    "symptoms_true = symptoms[np.where(symptoms[:,128] != 0)]\n",
    "symptoms_false = symptoms[np.where(symptoms[:,128] == 0)]\n",
    "\n",
    "print(symptoms_true.shape)\n",
    "print(symptoms_false.shape)"
   ]
  },
  {
   "cell_type": "markdown",
   "metadata": {},
   "source": [
    "We want the dendrogram of the observations data only."
   ]
  },
  {
   "cell_type": "code",
   "execution_count": null,
   "metadata": {},
   "outputs": [],
   "source": [
    "plt.figure(figsize=(10, 7))\n",
    "plt.title(\"Dendrogram observation data\")\n",
    "dend = shc.dendrogram(shc.linkage(observations, method='ward'))\n",
    "plt.savefig('Images/dendrogram_observations')\n",
    "plt.show()"
   ]
  },
  {
   "cell_type": "markdown",
   "metadata": {},
   "source": [
    "We can also have a look at the elbow plot. We use KModes here instead of KMeans, which is suited for categorical data. The 'Cao' method uses an intitialization based on density."
   ]
  },
  {
   "cell_type": "code",
   "execution_count": null,
   "metadata": {},
   "outputs": [],
   "source": [
    "from yellowbrick.cluster import KElbowVisualizer\n",
    "\n",
    "model = KModes(init='Cao', n_init = 1, n_jobs=-1)\n",
    "visualizer = KElbowVisualizer(model, k=(2,10), timings = False, locate_elbow = False)\n",
    "visualizer.fit(observations)        # Fit the data to the visualizer\n",
    "visualizer.show(outpath = \"Images/kelbow_kmodes.png\")"
   ]
  },
  {
   "cell_type": "code",
   "execution_count": 6,
   "metadata": {},
   "outputs": [
    {
     "name": "stdout",
     "output_type": "stream",
     "text": [
      "Init: initializing centroids\n",
      "Init: initializing clusters\n",
      "Starting iterations...\n",
      "Run 1, iteration: 1/100, moves: 0, cost: 631180.0\n",
      "Init: initializing centroids\n",
      "Init: initializing clusters\n",
      "Starting iterations...\n",
      "Run 1, iteration: 1/100, moves: 534, cost: 483164.0\n",
      "Run 1, iteration: 2/100, moves: 404, cost: 482292.0\n",
      "Run 1, iteration: 3/100, moves: 305, cost: 481822.0\n",
      "Run 1, iteration: 4/100, moves: 211, cost: 481450.0\n",
      "Run 1, iteration: 5/100, moves: 248, cost: 481186.0\n",
      "Run 1, iteration: 6/100, moves: 88, cost: 481186.0\n",
      "Init: initializing centroids\n",
      "Init: initializing clusters\n",
      "Starting iterations...\n",
      "Run 1, iteration: 1/100, moves: 1352, cost: 446008.0\n",
      "Run 1, iteration: 2/100, moves: 934, cost: 442497.0\n",
      "Run 1, iteration: 3/100, moves: 827, cost: 440755.0\n",
      "Run 1, iteration: 4/100, moves: 410, cost: 440273.0\n",
      "Run 1, iteration: 5/100, moves: 256, cost: 440023.0\n",
      "Run 1, iteration: 6/100, moves: 131, cost: 439975.0\n",
      "Run 1, iteration: 7/100, moves: 29, cost: 439975.0\n",
      "Init: initializing centroids\n",
      "Init: initializing clusters\n",
      "Starting iterations...\n",
      "Run 1, iteration: 1/100, moves: 1595, cost: 425044.0\n",
      "Run 1, iteration: 2/100, moves: 1332, cost: 419793.0\n",
      "Run 1, iteration: 3/100, moves: 803, cost: 418616.0\n",
      "Run 1, iteration: 4/100, moves: 502, cost: 417684.0\n",
      "Run 1, iteration: 5/100, moves: 519, cost: 416148.0\n",
      "Run 1, iteration: 6/100, moves: 634, cost: 414933.0\n",
      "Run 1, iteration: 7/100, moves: 413, cost: 414686.0\n",
      "Run 1, iteration: 8/100, moves: 81, cost: 414686.0\n",
      "Init: initializing centroids\n",
      "Init: initializing clusters\n",
      "Starting iterations...\n",
      "Run 1, iteration: 1/100, moves: 1514, cost: 404233.0\n",
      "Run 1, iteration: 2/100, moves: 991, cost: 401607.0\n",
      "Run 1, iteration: 3/100, moves: 800, cost: 400232.0\n",
      "Run 1, iteration: 4/100, moves: 588, cost: 398980.0\n",
      "Run 1, iteration: 5/100, moves: 521, cost: 398189.0\n",
      "Run 1, iteration: 6/100, moves: 309, cost: 398089.0\n",
      "Run 1, iteration: 7/100, moves: 48, cost: 398089.0\n",
      "Init: initializing centroids\n",
      "Init: initializing clusters\n",
      "Starting iterations...\n",
      "Run 1, iteration: 1/100, moves: 1635, cost: 391781.0\n",
      "Run 1, iteration: 2/100, moves: 1174, cost: 389056.0\n",
      "Run 1, iteration: 3/100, moves: 709, cost: 388461.0\n",
      "Run 1, iteration: 4/100, moves: 202, cost: 388427.0\n",
      "Run 1, iteration: 5/100, moves: 9, cost: 388427.0\n",
      "Init: initializing centroids\n",
      "Init: initializing clusters\n",
      "Starting iterations...\n",
      "Run 1, iteration: 1/100, moves: 1725, cost: 380020.0\n",
      "Run 1, iteration: 2/100, moves: 1159, cost: 377908.0\n",
      "Run 1, iteration: 3/100, moves: 639, cost: 377047.0\n",
      "Run 1, iteration: 4/100, moves: 395, cost: 376632.0\n",
      "Run 1, iteration: 5/100, moves: 403, cost: 376085.0\n",
      "Run 1, iteration: 6/100, moves: 405, cost: 375880.0\n",
      "Run 1, iteration: 7/100, moves: 222, cost: 375792.0\n",
      "Run 1, iteration: 8/100, moves: 1, cost: 375792.0\n",
      "Init: initializing centroids\n",
      "Init: initializing clusters\n",
      "Starting iterations...\n",
      "Run 1, iteration: 1/100, moves: 1773, cost: 369278.0\n",
      "Run 1, iteration: 2/100, moves: 1005, cost: 367171.0\n",
      "Run 1, iteration: 3/100, moves: 820, cost: 366054.0\n",
      "Run 1, iteration: 4/100, moves: 373, cost: 365630.0\n",
      "Run 1, iteration: 5/100, moves: 279, cost: 365598.0\n",
      "Run 1, iteration: 6/100, moves: 31, cost: 365598.0\n",
      "Init: initializing centroids\n",
      "Init: initializing clusters\n",
      "Starting iterations...\n",
      "Run 1, iteration: 1/100, moves: 1719, cost: 361618.0\n",
      "Run 1, iteration: 2/100, moves: 948, cost: 359892.0\n",
      "Run 1, iteration: 3/100, moves: 838, cost: 358518.0\n",
      "Run 1, iteration: 4/100, moves: 507, cost: 357821.0\n",
      "Run 1, iteration: 5/100, moves: 453, cost: 357582.0\n",
      "Run 1, iteration: 6/100, moves: 89, cost: 357582.0\n"
     ]
    },
    {
     "ename": "ValueError",
     "evalue": "x and y must have same first dimension, but have shapes (14,) and (9,)",
     "output_type": "error",
     "traceback": [
      "\u001b[0;31m---------------------------------------------------------------------------\u001b[0m",
      "\u001b[0;31mValueError\u001b[0m                                Traceback (most recent call last)",
      "\u001b[0;32m<ipython-input-6-13f85f398c4f>\u001b[0m in \u001b[0;36m<module>\u001b[0;34m\u001b[0m\n\u001b[1;32m      6\u001b[0m \u001b[0;34m\u001b[0m\u001b[0m\n\u001b[1;32m      7\u001b[0m \u001b[0my\u001b[0m \u001b[0;34m=\u001b[0m \u001b[0mnp\u001b[0m\u001b[0;34m.\u001b[0m\u001b[0marray\u001b[0m\u001b[0;34m(\u001b[0m\u001b[0;34m[\u001b[0m\u001b[0mi\u001b[0m \u001b[0;32mfor\u001b[0m \u001b[0mi\u001b[0m \u001b[0;32min\u001b[0m \u001b[0mrange\u001b[0m\u001b[0;34m(\u001b[0m\u001b[0;36m1\u001b[0m\u001b[0;34m,\u001b[0m\u001b[0;36m15\u001b[0m\u001b[0;34m,\u001b[0m\u001b[0;36m1\u001b[0m\u001b[0;34m)\u001b[0m\u001b[0;34m]\u001b[0m\u001b[0;34m)\u001b[0m\u001b[0;34m\u001b[0m\u001b[0;34m\u001b[0m\u001b[0m\n\u001b[0;32m----> 8\u001b[0;31m \u001b[0mplt\u001b[0m\u001b[0;34m.\u001b[0m\u001b[0mplot\u001b[0m\u001b[0;34m(\u001b[0m\u001b[0my\u001b[0m\u001b[0;34m,\u001b[0m\u001b[0mcost\u001b[0m\u001b[0;34m)\u001b[0m\u001b[0;34m\u001b[0m\u001b[0;34m\u001b[0m\u001b[0m\n\u001b[0m\u001b[1;32m      9\u001b[0m \u001b[0mplt\u001b[0m\u001b[0;34m.\u001b[0m\u001b[0mxlabel\u001b[0m\u001b[0;34m(\u001b[0m\u001b[0;34m'Clusters'\u001b[0m\u001b[0;34m)\u001b[0m\u001b[0;34m\u001b[0m\u001b[0;34m\u001b[0m\u001b[0m\n\u001b[1;32m     10\u001b[0m \u001b[0mplt\u001b[0m\u001b[0;34m.\u001b[0m\u001b[0mylabel\u001b[0m\u001b[0;34m(\u001b[0m\u001b[0;34m'Cost'\u001b[0m\u001b[0;34m)\u001b[0m\u001b[0;34m\u001b[0m\u001b[0;34m\u001b[0m\u001b[0m\n",
      "\u001b[0;32m~/anaconda3/lib/python3.7/site-packages/matplotlib/pyplot.py\u001b[0m in \u001b[0;36mplot\u001b[0;34m(scalex, scaley, data, *args, **kwargs)\u001b[0m\n\u001b[1;32m   2787\u001b[0m     return gca().plot(\n\u001b[1;32m   2788\u001b[0m         *args, scalex=scalex, scaley=scaley, **({\"data\": data} if data\n\u001b[0;32m-> 2789\u001b[0;31m         is not None else {}), **kwargs)\n\u001b[0m\u001b[1;32m   2790\u001b[0m \u001b[0;34m\u001b[0m\u001b[0m\n\u001b[1;32m   2791\u001b[0m \u001b[0;34m\u001b[0m\u001b[0m\n",
      "\u001b[0;32m~/anaconda3/lib/python3.7/site-packages/matplotlib/axes/_axes.py\u001b[0m in \u001b[0;36mplot\u001b[0;34m(self, scalex, scaley, data, *args, **kwargs)\u001b[0m\n\u001b[1;32m   1664\u001b[0m         \"\"\"\n\u001b[1;32m   1665\u001b[0m         \u001b[0mkwargs\u001b[0m \u001b[0;34m=\u001b[0m \u001b[0mcbook\u001b[0m\u001b[0;34m.\u001b[0m\u001b[0mnormalize_kwargs\u001b[0m\u001b[0;34m(\u001b[0m\u001b[0mkwargs\u001b[0m\u001b[0;34m,\u001b[0m \u001b[0mmlines\u001b[0m\u001b[0;34m.\u001b[0m\u001b[0mLine2D\u001b[0m\u001b[0;34m.\u001b[0m\u001b[0m_alias_map\u001b[0m\u001b[0;34m)\u001b[0m\u001b[0;34m\u001b[0m\u001b[0;34m\u001b[0m\u001b[0m\n\u001b[0;32m-> 1666\u001b[0;31m         \u001b[0mlines\u001b[0m \u001b[0;34m=\u001b[0m \u001b[0;34m[\u001b[0m\u001b[0;34m*\u001b[0m\u001b[0mself\u001b[0m\u001b[0;34m.\u001b[0m\u001b[0m_get_lines\u001b[0m\u001b[0;34m(\u001b[0m\u001b[0;34m*\u001b[0m\u001b[0margs\u001b[0m\u001b[0;34m,\u001b[0m \u001b[0mdata\u001b[0m\u001b[0;34m=\u001b[0m\u001b[0mdata\u001b[0m\u001b[0;34m,\u001b[0m \u001b[0;34m**\u001b[0m\u001b[0mkwargs\u001b[0m\u001b[0;34m)\u001b[0m\u001b[0;34m]\u001b[0m\u001b[0;34m\u001b[0m\u001b[0;34m\u001b[0m\u001b[0m\n\u001b[0m\u001b[1;32m   1667\u001b[0m         \u001b[0;32mfor\u001b[0m \u001b[0mline\u001b[0m \u001b[0;32min\u001b[0m \u001b[0mlines\u001b[0m\u001b[0;34m:\u001b[0m\u001b[0;34m\u001b[0m\u001b[0;34m\u001b[0m\u001b[0m\n\u001b[1;32m   1668\u001b[0m             \u001b[0mself\u001b[0m\u001b[0;34m.\u001b[0m\u001b[0madd_line\u001b[0m\u001b[0;34m(\u001b[0m\u001b[0mline\u001b[0m\u001b[0;34m)\u001b[0m\u001b[0;34m\u001b[0m\u001b[0;34m\u001b[0m\u001b[0m\n",
      "\u001b[0;32m~/anaconda3/lib/python3.7/site-packages/matplotlib/axes/_base.py\u001b[0m in \u001b[0;36m__call__\u001b[0;34m(self, *args, **kwargs)\u001b[0m\n\u001b[1;32m    223\u001b[0m                 \u001b[0mthis\u001b[0m \u001b[0;34m+=\u001b[0m \u001b[0margs\u001b[0m\u001b[0;34m[\u001b[0m\u001b[0;36m0\u001b[0m\u001b[0;34m]\u001b[0m\u001b[0;34m,\u001b[0m\u001b[0;34m\u001b[0m\u001b[0;34m\u001b[0m\u001b[0m\n\u001b[1;32m    224\u001b[0m                 \u001b[0margs\u001b[0m \u001b[0;34m=\u001b[0m \u001b[0margs\u001b[0m\u001b[0;34m[\u001b[0m\u001b[0;36m1\u001b[0m\u001b[0;34m:\u001b[0m\u001b[0;34m]\u001b[0m\u001b[0;34m\u001b[0m\u001b[0;34m\u001b[0m\u001b[0m\n\u001b[0;32m--> 225\u001b[0;31m             \u001b[0;32myield\u001b[0m \u001b[0;32mfrom\u001b[0m \u001b[0mself\u001b[0m\u001b[0;34m.\u001b[0m\u001b[0m_plot_args\u001b[0m\u001b[0;34m(\u001b[0m\u001b[0mthis\u001b[0m\u001b[0;34m,\u001b[0m \u001b[0mkwargs\u001b[0m\u001b[0;34m)\u001b[0m\u001b[0;34m\u001b[0m\u001b[0;34m\u001b[0m\u001b[0m\n\u001b[0m\u001b[1;32m    226\u001b[0m \u001b[0;34m\u001b[0m\u001b[0m\n\u001b[1;32m    227\u001b[0m     \u001b[0;32mdef\u001b[0m \u001b[0mget_next_color\u001b[0m\u001b[0;34m(\u001b[0m\u001b[0mself\u001b[0m\u001b[0;34m)\u001b[0m\u001b[0;34m:\u001b[0m\u001b[0;34m\u001b[0m\u001b[0;34m\u001b[0m\u001b[0m\n",
      "\u001b[0;32m~/anaconda3/lib/python3.7/site-packages/matplotlib/axes/_base.py\u001b[0m in \u001b[0;36m_plot_args\u001b[0;34m(self, tup, kwargs)\u001b[0m\n\u001b[1;32m    389\u001b[0m             \u001b[0mx\u001b[0m\u001b[0;34m,\u001b[0m \u001b[0my\u001b[0m \u001b[0;34m=\u001b[0m \u001b[0mindex_of\u001b[0m\u001b[0;34m(\u001b[0m\u001b[0mtup\u001b[0m\u001b[0;34m[\u001b[0m\u001b[0;34m-\u001b[0m\u001b[0;36m1\u001b[0m\u001b[0;34m]\u001b[0m\u001b[0;34m)\u001b[0m\u001b[0;34m\u001b[0m\u001b[0;34m\u001b[0m\u001b[0m\n\u001b[1;32m    390\u001b[0m \u001b[0;34m\u001b[0m\u001b[0m\n\u001b[0;32m--> 391\u001b[0;31m         \u001b[0mx\u001b[0m\u001b[0;34m,\u001b[0m \u001b[0my\u001b[0m \u001b[0;34m=\u001b[0m \u001b[0mself\u001b[0m\u001b[0;34m.\u001b[0m\u001b[0m_xy_from_xy\u001b[0m\u001b[0;34m(\u001b[0m\u001b[0mx\u001b[0m\u001b[0;34m,\u001b[0m \u001b[0my\u001b[0m\u001b[0;34m)\u001b[0m\u001b[0;34m\u001b[0m\u001b[0;34m\u001b[0m\u001b[0m\n\u001b[0m\u001b[1;32m    392\u001b[0m \u001b[0;34m\u001b[0m\u001b[0m\n\u001b[1;32m    393\u001b[0m         \u001b[0;32mif\u001b[0m \u001b[0mself\u001b[0m\u001b[0;34m.\u001b[0m\u001b[0mcommand\u001b[0m \u001b[0;34m==\u001b[0m \u001b[0;34m'plot'\u001b[0m\u001b[0;34m:\u001b[0m\u001b[0;34m\u001b[0m\u001b[0;34m\u001b[0m\u001b[0m\n",
      "\u001b[0;32m~/anaconda3/lib/python3.7/site-packages/matplotlib/axes/_base.py\u001b[0m in \u001b[0;36m_xy_from_xy\u001b[0;34m(self, x, y)\u001b[0m\n\u001b[1;32m    268\u001b[0m         \u001b[0;32mif\u001b[0m \u001b[0mx\u001b[0m\u001b[0;34m.\u001b[0m\u001b[0mshape\u001b[0m\u001b[0;34m[\u001b[0m\u001b[0;36m0\u001b[0m\u001b[0;34m]\u001b[0m \u001b[0;34m!=\u001b[0m \u001b[0my\u001b[0m\u001b[0;34m.\u001b[0m\u001b[0mshape\u001b[0m\u001b[0;34m[\u001b[0m\u001b[0;36m0\u001b[0m\u001b[0;34m]\u001b[0m\u001b[0;34m:\u001b[0m\u001b[0;34m\u001b[0m\u001b[0;34m\u001b[0m\u001b[0m\n\u001b[1;32m    269\u001b[0m             raise ValueError(\"x and y must have same first dimension, but \"\n\u001b[0;32m--> 270\u001b[0;31m                              \"have shapes {} and {}\".format(x.shape, y.shape))\n\u001b[0m\u001b[1;32m    271\u001b[0m         \u001b[0;32mif\u001b[0m \u001b[0mx\u001b[0m\u001b[0;34m.\u001b[0m\u001b[0mndim\u001b[0m \u001b[0;34m>\u001b[0m \u001b[0;36m2\u001b[0m \u001b[0;32mor\u001b[0m \u001b[0my\u001b[0m\u001b[0;34m.\u001b[0m\u001b[0mndim\u001b[0m \u001b[0;34m>\u001b[0m \u001b[0;36m2\u001b[0m\u001b[0;34m:\u001b[0m\u001b[0;34m\u001b[0m\u001b[0;34m\u001b[0m\u001b[0m\n\u001b[1;32m    272\u001b[0m             raise ValueError(\"x and y can be no greater than 2-D, but have \"\n",
      "\u001b[0;31mValueError\u001b[0m: x and y must have same first dimension, but have shapes (14,) and (9,)"
     ]
    },
    {
     "data": {
      "image/png": "[encoded data removed]",
      "text/plain": [
       "<Figure size 576x396 with 1 Axes>"
      ]
     },
     "metadata": {},
     "output_type": "display_data"
    }
   ],
   "source": [
    "cost = []\n",
    "for num_clusters in list(range(1,10)):\n",
    "    kmode = KModes(n_clusters=num_clusters, init = \"Cao\", n_init = 1, verbose=1)\n",
    "    kmode.fit_predict(observations)\n",
    "    cost.append(kmode.cost_)\n",
    "\n",
    "y = np.array([i for i in range(1,15,1)])\n",
    "plt.plot(y,cost)\n",
    "plt.xlabel('Clusters')\n",
    "plt.ylabel('Cost')\n",
    "plt.show()"
   ]
  },
  {
   "cell_type": "code",
   "execution_count": null,
   "metadata": {},
   "outputs": [],
   "source": []
  },
  {
   "cell_type": "code",
   "execution_count": null,
   "metadata": {},
   "outputs": [],
   "source": []
  },
  {
   "cell_type": "code",
   "execution_count": 31,
   "metadata": {},
   "outputs": [],
   "source": [
    "k = 4"
   ]
  },
  {
   "cell_type": "code",
   "execution_count": 32,
   "metadata": {},
   "outputs": [],
   "source": [
    "def find_clusters(X, n_clusters, rseed = 2):\n",
    "    rng = np.random.RandomState(rseed)\n",
    "    i = rng.permutation(X.shape[0])[:n_clusters]\n",
    "    centers = X[i]\n",
    "\n",
    "    while True:\n",
    "        labels = pairwise_distances_argmin(X, centers)\n",
    "        new_centers = np.array([X[labels == i].mean(0)\n",
    "                                for i in range(n_clusters)])\n",
    "\n",
    "        if np.all(centers == new_centers):\n",
    "            break\n",
    "        centers = new_centers\n",
    "\n",
    "    return centers, labels"
   ]
  },
  {
   "cell_type": "code",
   "execution_count": 33,
   "metadata": {},
   "outputs": [
    {
     "data": {
      "text/plain": [
       "array([3, 0, 2, ..., 1, 0, 3])"
      ]
     },
     "execution_count": 33,
     "metadata": {},
     "output_type": "execute_result"
    }
   ],
   "source": [
    "centers, k_clusters = find_clusters(observations, k)\n",
    "\n",
    "k_clusters"
   ]
  },
  {
   "cell_type": "code",
   "execution_count": null,
   "metadata": {},
   "outputs": [],
   "source": []
  },
  {
   "cell_type": "code",
   "execution_count": 34,
   "metadata": {},
   "outputs": [
    {
     "name": "stdout",
     "output_type": "stream",
     "text": [
      "Init: initializing centroids\n",
      "Init: initializing clusters\n",
      "Starting iterations...\n",
      "Run 1, iteration: 1/100, moves: 1725, cost: 424311.0\n",
      "Run 1, iteration: 2/100, moves: 1077, cost: 421030.0\n",
      "Run 1, iteration: 3/100, moves: 951, cost: 417570.0\n",
      "Run 1, iteration: 4/100, moves: 815, cost: 416113.0\n",
      "Run 1, iteration: 5/100, moves: 474, cost: 415286.0\n",
      "Run 1, iteration: 6/100, moves: 322, cost: 414782.0\n",
      "Run 1, iteration: 7/100, moves: 301, cost: 414685.0\n",
      "Run 1, iteration: 8/100, moves: 6, cost: 414685.0\n",
      "Init: initializing centroids\n",
      "Init: initializing clusters\n",
      "Starting iterations...\n",
      "Run 2, iteration: 1/100, moves: 2052, cost: 421869.0\n",
      "Run 2, iteration: 2/100, moves: 936, cost: 419828.0\n",
      "Run 2, iteration: 3/100, moves: 612, cost: 417919.0\n",
      "Run 2, iteration: 4/100, moves: 548, cost: 416752.0\n",
      "Run 2, iteration: 5/100, moves: 345, cost: 416548.0\n",
      "Run 2, iteration: 6/100, moves: 4, cost: 416548.0\n",
      "Init: initializing centroids\n",
      "Init: initializing clusters\n",
      "Starting iterations...\n",
      "Run 3, iteration: 1/100, moves: 2578, cost: 425976.0\n",
      "Run 3, iteration: 2/100, moves: 1246, cost: 422126.0\n",
      "Run 3, iteration: 3/100, moves: 855, cost: 421119.0\n",
      "Run 3, iteration: 4/100, moves: 505, cost: 420065.0\n",
      "Run 3, iteration: 5/100, moves: 568, cost: 419194.0\n",
      "Run 3, iteration: 6/100, moves: 329, cost: 419036.0\n",
      "Run 3, iteration: 7/100, moves: 89, cost: 419036.0\n",
      "Init: initializing centroids\n",
      "Init: initializing clusters\n",
      "Starting iterations...\n",
      "Run 4, iteration: 1/100, moves: 2016, cost: 428507.0\n",
      "Run 4, iteration: 2/100, moves: 1173, cost: 423092.0\n",
      "Run 4, iteration: 3/100, moves: 991, cost: 421415.0\n",
      "Run 4, iteration: 4/100, moves: 434, cost: 420942.0\n",
      "Run 4, iteration: 5/100, moves: 297, cost: 420551.0\n",
      "Run 4, iteration: 6/100, moves: 274, cost: 420174.0\n",
      "Run 4, iteration: 7/100, moves: 396, cost: 419011.0\n",
      "Run 4, iteration: 8/100, moves: 525, cost: 418142.0\n",
      "Run 4, iteration: 9/100, moves: 473, cost: 417355.0\n",
      "Run 4, iteration: 10/100, moves: 415, cost: 416810.0\n",
      "Run 4, iteration: 11/100, moves: 312, cost: 416483.0\n",
      "Run 4, iteration: 12/100, moves: 163, cost: 416358.0\n",
      "Run 4, iteration: 13/100, moves: 131, cost: 416358.0\n",
      "Init: initializing centroids\n",
      "Init: initializing clusters\n",
      "Starting iterations...\n",
      "Run 5, iteration: 1/100, moves: 2570, cost: 428273.0\n",
      "Run 5, iteration: 2/100, moves: 1810, cost: 422676.0\n",
      "Run 5, iteration: 3/100, moves: 693, cost: 421813.0\n",
      "Run 5, iteration: 4/100, moves: 337, cost: 420813.0\n",
      "Run 5, iteration: 5/100, moves: 551, cost: 420129.0\n",
      "Run 5, iteration: 6/100, moves: 148, cost: 420129.0\n",
      "Best run was number 1\n"
     ]
    }
   ],
   "source": [
    "km = KModes(n_clusters=k, init='Huang', n_init=5, verbose=1)\n",
    "\n",
    "clusters = km.fit_predict(observations)"
   ]
  },
  {
   "cell_type": "code",
   "execution_count": 35,
   "metadata": {},
   "outputs": [
    {
     "data": {
      "text/plain": [
       "array([2, 3, 0, ..., 1, 0, 3], dtype=uint16)"
      ]
     },
     "execution_count": 35,
     "metadata": {},
     "output_type": "execute_result"
    }
   ],
   "source": [
    "clusters"
   ]
  },
  {
   "cell_type": "code",
   "execution_count": 9,
   "metadata": {},
   "outputs": [],
   "source": [
    "obs_clusters_kmeans = np.append(observations, clusters[:,None], 1)"
   ]
  },
  {
   "cell_type": "code",
   "execution_count": 10,
   "metadata": {},
   "outputs": [],
   "source": [
    "obs_clusters_kmeans = np.append(obs_clusters_kmeans, labels[:,None], 1)"
   ]
  },
  {
   "cell_type": "code",
   "execution_count": 11,
   "metadata": {},
   "outputs": [
    {
     "data": {
      "text/plain": [
       "(10000, 130)"
      ]
     },
     "execution_count": 11,
     "metadata": {},
     "output_type": "execute_result"
    }
   ],
   "source": [
    "obs_clusters_kmeans.shape\n",
    "\n",
    "# last column (130) is labels\n",
    "# 129 is clusters "
   ]
  },
  {
   "cell_type": "code",
   "execution_count": 12,
   "metadata": {},
   "outputs": [],
   "source": [
    "symptoms_true_k = obs_clusters_kmeans[np.where(obs_clusters_kmeans[:,129] != 0)]\n",
    "symptoms_false_k = obs_clusters_kmeans[np.where(obs_clusters_kmeans[:,129] == 0)]"
   ]
  },
  {
   "cell_type": "code",
   "execution_count": 13,
   "metadata": {},
   "outputs": [],
   "source": [
    "clusters_no_symp_k = symptoms_false_k[:,128]\n",
    "clusters_symp_k = symptoms_true_k[:,128]"
   ]
  },
  {
   "cell_type": "code",
   "execution_count": 14,
   "metadata": {},
   "outputs": [
    {
     "data": {
      "image/png": "[encoded data removed]",
      "text/plain": [
       "<Figure size 1080x360 with 3 Axes>"
      ]
     },
     "metadata": {
      "needs_background": "light"
     },
     "output_type": "display_data"
    }
   ],
   "source": [
    "fig1, ax = plt.subplots(figsize = (15, 5), ncols = 3)\n",
    "sns.countplot(clusters, ax = ax[0])\n",
    "sns.countplot(clusters_no_symp_k, ax = ax[1])\n",
    "sns.countplot(clusters_symp_k, ax = ax[2])\n",
    "\n",
    "fig1.suptitle(\"KModes clusters\", fontsize=14)\n",
    "ax[0].set_title('Countplot of data per cluster')\n",
    "ax[1].set_title('Countplot no symptoms data per cluster')\n",
    "ax[2].set_title('Countplot symptoms data per cluster')\n",
    "\n",
    "\n",
    "plt.show()"
   ]
  },
  {
   "cell_type": "code",
   "execution_count": 15,
   "metadata": {},
   "outputs": [],
   "source": [
    "k = 3"
   ]
  },
  {
   "cell_type": "code",
   "execution_count": 16,
   "metadata": {},
   "outputs": [
    {
     "ename": "NameError",
     "evalue": "name 'find_clusters' is not defined",
     "output_type": "error",
     "traceback": [
      "\u001b[0;31m---------------------------------------------------------------------------\u001b[0m",
      "\u001b[0;31mNameError\u001b[0m                                 Traceback (most recent call last)",
      "\u001b[0;32m<ipython-input-16-69e3ac26b1d3>\u001b[0m in \u001b[0;36m<module>\u001b[0;34m\u001b[0m\n\u001b[1;32m      2\u001b[0m \u001b[0mlabels_symp_true\u001b[0m \u001b[0;34m=\u001b[0m \u001b[0msymptoms_true\u001b[0m\u001b[0;34m[\u001b[0m\u001b[0;34m:\u001b[0m\u001b[0;34m,\u001b[0m\u001b[0;36m128\u001b[0m\u001b[0;34m]\u001b[0m\u001b[0;34m\u001b[0m\u001b[0;34m\u001b[0m\u001b[0m\n\u001b[1;32m      3\u001b[0m \u001b[0;34m\u001b[0m\u001b[0m\n\u001b[0;32m----> 4\u001b[0;31m \u001b[0mcenters_symp\u001b[0m\u001b[0;34m,\u001b[0m \u001b[0mk_clusters_symp\u001b[0m \u001b[0;34m=\u001b[0m \u001b[0mfind_clusters\u001b[0m\u001b[0;34m(\u001b[0m\u001b[0mobs_symp_true\u001b[0m\u001b[0;34m,\u001b[0m \u001b[0mk\u001b[0m\u001b[0;34m)\u001b[0m\u001b[0;34m\u001b[0m\u001b[0;34m\u001b[0m\u001b[0m\n\u001b[0m\u001b[1;32m      5\u001b[0m \u001b[0msymp_clusters\u001b[0m \u001b[0;34m=\u001b[0m \u001b[0mnp\u001b[0m\u001b[0;34m.\u001b[0m\u001b[0mappend\u001b[0m\u001b[0;34m(\u001b[0m\u001b[0mobs_symp_true\u001b[0m\u001b[0;34m,\u001b[0m \u001b[0mk_clusters_symp\u001b[0m\u001b[0;34m[\u001b[0m\u001b[0;34m:\u001b[0m\u001b[0;34m,\u001b[0m\u001b[0;32mNone\u001b[0m\u001b[0;34m]\u001b[0m\u001b[0;34m,\u001b[0m \u001b[0;36m1\u001b[0m\u001b[0;34m)\u001b[0m\u001b[0;34m\u001b[0m\u001b[0;34m\u001b[0m\u001b[0m\n\u001b[1;32m      6\u001b[0m \u001b[0msymp_clusters\u001b[0m \u001b[0;34m=\u001b[0m \u001b[0mnp\u001b[0m\u001b[0;34m.\u001b[0m\u001b[0mappend\u001b[0m\u001b[0;34m(\u001b[0m\u001b[0msymp_clusters\u001b[0m\u001b[0;34m,\u001b[0m \u001b[0mlabels_symp_true\u001b[0m\u001b[0;34m[\u001b[0m\u001b[0;34m:\u001b[0m\u001b[0;34m,\u001b[0m\u001b[0;32mNone\u001b[0m\u001b[0;34m]\u001b[0m\u001b[0;34m,\u001b[0m \u001b[0;36m1\u001b[0m\u001b[0;34m)\u001b[0m\u001b[0;34m\u001b[0m\u001b[0;34m\u001b[0m\u001b[0m\n",
      "\u001b[0;31mNameError\u001b[0m: name 'find_clusters' is not defined"
     ]
    }
   ],
   "source": [
    "obs_symp_true = symptoms_true[:,:128]\n",
    "labels_symp_true = symptoms_true[:,128]\n",
    "\n",
    "centers_symp, k_clusters_symp = find_clusters(obs_symp_true, k)\n",
    "symp_clusters = np.append(obs_symp_true, k_clusters_symp[:,None], 1)\n",
    "symp_clusters = np.append(symp_clusters, labels_symp_true[:,None], 1)"
   ]
  },
  {
   "cell_type": "code",
   "execution_count": 17,
   "metadata": {},
   "outputs": [
    {
     "name": "stdout",
     "output_type": "stream",
     "text": [
      "Init: initializing centroids\n",
      "Init: initializing clusters\n",
      "Starting iterations...\n",
      "Run 1, iteration: 1/100, moves: 1051, cost: 228563.0\n",
      "Run 1, iteration: 2/100, moves: 850, cost: 224046.0\n",
      "Run 1, iteration: 3/100, moves: 668, cost: 221105.0\n",
      "Run 1, iteration: 4/100, moves: 309, cost: 220660.0\n",
      "Run 1, iteration: 5/100, moves: 119, cost: 220570.0\n",
      "Run 1, iteration: 6/100, moves: 72, cost: 220494.0\n",
      "Run 1, iteration: 7/100, moves: 83, cost: 220398.0\n",
      "Run 1, iteration: 8/100, moves: 119, cost: 220304.0\n",
      "Run 1, iteration: 9/100, moves: 41, cost: 220304.0\n",
      "Init: initializing centroids\n",
      "Init: initializing clusters\n",
      "Starting iterations...\n",
      "Run 2, iteration: 1/100, moves: 1268, cost: 230536.0\n",
      "Run 2, iteration: 2/100, moves: 720, cost: 226094.0\n",
      "Run 2, iteration: 3/100, moves: 503, cost: 224648.0\n",
      "Run 2, iteration: 4/100, moves: 120, cost: 224648.0\n",
      "Init: initializing centroids\n",
      "Init: initializing clusters\n",
      "Starting iterations...\n",
      "Run 3, iteration: 1/100, moves: 822, cost: 220555.0\n",
      "Run 3, iteration: 2/100, moves: 341, cost: 220104.0\n",
      "Run 3, iteration: 3/100, moves: 163, cost: 219919.0\n",
      "Run 3, iteration: 4/100, moves: 102, cost: 219842.0\n",
      "Run 3, iteration: 5/100, moves: 46, cost: 219842.0\n",
      "Init: initializing centroids\n",
      "Init: initializing clusters\n",
      "Starting iterations...\n",
      "Run 4, iteration: 1/100, moves: 892, cost: 227435.0\n",
      "Run 4, iteration: 2/100, moves: 350, cost: 226901.0\n",
      "Run 4, iteration: 3/100, moves: 225, cost: 226724.0\n",
      "Run 4, iteration: 4/100, moves: 148, cost: 226456.0\n",
      "Run 4, iteration: 5/100, moves: 182, cost: 225980.0\n",
      "Run 4, iteration: 6/100, moves: 338, cost: 225086.0\n",
      "Run 4, iteration: 7/100, moves: 479, cost: 223325.0\n",
      "Run 4, iteration: 8/100, moves: 397, cost: 222271.0\n",
      "Run 4, iteration: 9/100, moves: 314, cost: 221588.0\n",
      "Run 4, iteration: 10/100, moves: 371, cost: 220283.0\n",
      "Run 4, iteration: 11/100, moves: 236, cost: 220031.0\n",
      "Run 4, iteration: 12/100, moves: 156, cost: 219878.0\n",
      "Run 4, iteration: 13/100, moves: 144, cost: 219582.0\n",
      "Run 4, iteration: 14/100, moves: 103, cost: 219509.0\n",
      "Run 4, iteration: 15/100, moves: 44, cost: 219509.0\n",
      "Init: initializing centroids\n",
      "Init: initializing clusters\n",
      "Starting iterations...\n",
      "Run 5, iteration: 1/100, moves: 998, cost: 222361.0\n",
      "Run 5, iteration: 2/100, moves: 489, cost: 220672.0\n",
      "Run 5, iteration: 3/100, moves: 333, cost: 219612.0\n",
      "Run 5, iteration: 4/100, moves: 280, cost: 219252.0\n",
      "Run 5, iteration: 5/100, moves: 137, cost: 219127.0\n",
      "Run 5, iteration: 6/100, moves: 73, cost: 219094.0\n",
      "Run 5, iteration: 7/100, moves: 60, cost: 219094.0\n",
      "Best run was number 5\n"
     ]
    }
   ],
   "source": [
    "km = KModes(n_clusters=k, init='Huang', n_init=5, verbose=1)\n",
    "\n",
    "clus = km.fit_predict(obs_symp_true)"
   ]
  },
  {
   "cell_type": "code",
   "execution_count": 18,
   "metadata": {},
   "outputs": [],
   "source": [
    "symp_clusters = np.append(obs_symp_true, clus[:,None], 1)\n",
    "symp_clusters = np.append(symp_clusters, labels_symp_true[:,None], 1)"
   ]
  },
  {
   "cell_type": "code",
   "execution_count": 19,
   "metadata": {},
   "outputs": [],
   "source": [
    "# symp_clusters[:,129] zijn de symptomen, \n",
    "# symp_clusters[:,128] de clusters"
   ]
  },
  {
   "cell_type": "code",
   "execution_count": 20,
   "metadata": {},
   "outputs": [],
   "source": [
    "symptom_a = symp_clusters[np.where(symp_clusters[:,129] == 1)]\n",
    "symptom_b = symp_clusters[np.where(symp_clusters[:,129] == 2)]\n",
    "symptom_both = symp_clusters[np.where(symp_clusters[:,129] == 3)]"
   ]
  },
  {
   "cell_type": "code",
   "execution_count": 21,
   "metadata": {},
   "outputs": [
    {
     "data": {
      "image/png": "[encoded data removed]",
      "text/plain": [
       "<Figure size 432x288 with 1 Axes>"
      ]
     },
     "metadata": {
      "needs_background": "light"
     },
     "output_type": "display_data"
    }
   ],
   "source": [
    "g = sns.countplot(x = symp_clusters[:,128], hue = symp_clusters[:,129])\n",
    "plt.title('Symptoms per cluster')\n",
    "plt.xlabel('Clusters')\n",
    "    \n",
    "plt.show()"
   ]
  },
  {
   "cell_type": "code",
   "execution_count": 40,
   "metadata": {},
   "outputs": [],
   "source": [
    "# target = labels \n",
    "# data = observations"
   ]
  },
  {
   "cell_type": "code",
   "execution_count": 41,
   "metadata": {},
   "outputs": [
    {
     "data": {
      "text/plain": [
       "(10000, 129)"
      ]
     },
     "execution_count": 41,
     "metadata": {},
     "output_type": "execute_result"
    }
   ],
   "source": [
    "data = np.append(observations, labels[:,None], 1)\n",
    "data.shape\n",
    "\n",
    "#target = data[:,128]"
   ]
  },
  {
   "cell_type": "code",
   "execution_count": 23,
   "metadata": {},
   "outputs": [],
   "source": [
    "from sklearn.ensemble import RandomForestClassifier\n",
    "from sklearn.model_selection import cross_val_score, cross_validate, KFold"
   ]
  },
  {
   "cell_type": "code",
   "execution_count": 54,
   "metadata": {},
   "outputs": [
    {
     "data": {
      "text/plain": [
       "RandomForestClassifier(bootstrap=True, class_weight=None, criterion='gini',\n",
       "                       max_depth=None, max_features='auto', max_leaf_nodes=None,\n",
       "                       min_impurity_decrease=0.0, min_impurity_split=None,\n",
       "                       min_samples_leaf=1, min_samples_split=2,\n",
       "                       min_weight_fraction_leaf=0.0, n_estimators=130,\n",
       "                       n_jobs=None, oob_score=False, random_state=0, verbose=0,\n",
       "                       warm_start=False)"
      ]
     },
     "execution_count": 54,
     "metadata": {},
     "output_type": "execute_result"
    }
   ],
   "source": [
    "clf = RandomForestClassifier(n_estimators=130, random_state=0)\n",
    "clf.fit(data[:,:128], data[:,128])\n",
    "\n",
    "#clf_cv = cross_validate(clf, data[:,:128], data[:,128], cv = 5, return_estimator = True)\n"
   ]
  },
  {
   "cell_type": "code",
   "execution_count": 74,
   "metadata": {},
   "outputs": [
    {
     "name": "stderr",
     "output_type": "stream",
     "text": [
      "/Users/jolyndevis/anaconda3/lib/python3.7/site-packages/sklearn/ensemble/forest.py:245: FutureWarning: The default value of n_estimators will change from 10 in version 0.20 to 100 in 0.22.\n",
      "  \"10 in version 0.20 to 100 in 0.22.\", FutureWarning)\n"
     ]
    },
    {
     "data": {
      "text/html": [
       "<div>\n",
       "<style scoped>\n",
       "    .dataframe tbody tr th:only-of-type {\n",
       "        vertical-align: middle;\n",
       "    }\n",
       "\n",
       "    .dataframe tbody tr th {\n",
       "        vertical-align: top;\n",
       "    }\n",
       "\n",
       "    .dataframe thead th {\n",
       "        text-align: right;\n",
       "    }\n",
       "</style>\n",
       "<table border=\"1\" class=\"dataframe\">\n",
       "  <thead>\n",
       "    <tr style=\"text-align: right;\">\n",
       "      <th></th>\n",
       "      <th>avg_imp</th>\n",
       "    </tr>\n",
       "  </thead>\n",
       "  <tbody>\n",
       "    <tr>\n",
       "      <th>5</th>\n",
       "      <td>0.070210</td>\n",
       "    </tr>\n",
       "    <tr>\n",
       "      <th>3</th>\n",
       "      <td>0.049257</td>\n",
       "    </tr>\n",
       "    <tr>\n",
       "      <th>113</th>\n",
       "      <td>0.029684</td>\n",
       "    </tr>\n",
       "    <tr>\n",
       "      <th>11</th>\n",
       "      <td>0.017977</td>\n",
       "    </tr>\n",
       "    <tr>\n",
       "      <th>52</th>\n",
       "      <td>0.014964</td>\n",
       "    </tr>\n",
       "  </tbody>\n",
       "</table>\n",
       "</div>"
      ],
      "text/plain": [
       "      avg_imp\n",
       "5    0.070210\n",
       "3    0.049257\n",
       "113  0.029684\n",
       "11   0.017977\n",
       "52   0.014964"
      ]
     },
     "execution_count": 74,
     "metadata": {},
     "output_type": "execute_result"
    }
   ],
   "source": [
    "k = 10\n",
    "kf = KFold(n_splits=k, shuffle = True)\n",
    "rfc = RandomForestClassifier()\n",
    "count = 1\n",
    "\n",
    "X = data[:,:128]\n",
    "y = data[:,128]\n",
    "\n",
    "imp_sorted_ = {}\n",
    "for train, _ in kf.split(X, y):\n",
    "    rfc.fit(X[train, :], y[train])\n",
    "    \n",
    "    for key, value in enumerate(rfc.feature_importances_):    \n",
    "        imp_sorted_[key] = imp_sorted_.get(key, 0) + value\n",
    "\n",
    "feature_imp = pd.DataFrame.from_dict(imp_sorted_, orient = 'index', columns = ['avg_imp'])\n",
    "feature_imp['avg_imp'] = feature_imp['avg_imp']/10\n",
    "feature_imp.sort_values(by = 'avg_imp', ascending = False).head()"
   ]
  },
  {
   "cell_type": "code",
   "execution_count": 24,
   "metadata": {},
   "outputs": [
    {
     "data": {
      "image/png": "[encoded data removed]",
      "text/plain": [
       "<Figure size 720x504 with 1 Axes>"
      ]
     },
     "metadata": {},
     "output_type": "display_data"
    }
   ],
   "source": [
    "plt.figure(figsize=(10, 7))\n",
    "plt.title(\"Dendrogram observation data\")\n",
    "dend = shc.dendrogram(shc.linkage(observations, method='ward'))\n",
    "plt.show()"
   ]
  },
  {
   "cell_type": "markdown",
   "metadata": {},
   "source": [
    "### WITH PCA "
   ]
  },
  {
   "cell_type": "code",
   "execution_count": 25,
   "metadata": {},
   "outputs": [
    {
     "name": "stdout",
     "output_type": "stream",
     "text": [
      "6\n"
     ]
    }
   ],
   "source": [
    "from sklearn.decomposition import PCA\n",
    "\n",
    "pca = PCA(.50)\n",
    "data_red = pca.fit_transform(observations)\n",
    "print(pca.n_components_)"
   ]
  },
  {
   "cell_type": "code",
   "execution_count": 29,
   "metadata": {},
   "outputs": [
    {
     "data": {
      "image/png": "[encoded data removed]",
      "text/plain": [
       "<Figure size 720x504 with 1 Axes>"
      ]
     },
     "metadata": {},
     "output_type": "display_data"
    }
   ],
   "source": [
    "plt.figure(figsize=(10, 7))\n",
    "plt.title(\"Dendrogram observation data PCA\")\n",
    "dend = shc.dendrogram(shc.linkage(data_red, method='ward'))\n",
    "plt.show()"
   ]
  },
  {
   "cell_type": "code",
   "execution_count": 30,
   "metadata": {},
   "outputs": [
    {
     "data": {
      "image/png": "[encoded data removed]",
      "text/plain": [
       "<Figure size 576x396 with 1 Axes>"
      ]
     },
     "metadata": {},
     "output_type": "display_data"
    },
    {
     "data": {
      "text/plain": [
       "<matplotlib.axes._subplots.AxesSubplot at 0x1a253aa940>"
      ]
     },
     "execution_count": 30,
     "metadata": {},
     "output_type": "execute_result"
    }
   ],
   "source": [
    "model = KModes(init='Cao', n_init = 1, n_jobs=-1)\n",
    "visualizer = KElbowVisualizer(model, k=(2,10), timings = False, locate_elbow = False)\n",
    "visualizer.fit(data_red)        # Fit the data to the visualizer\n",
    "visualizer.show()"
   ]
  },
  {
   "cell_type": "code",
   "execution_count": null,
   "metadata": {},
   "outputs": [],
   "source": []
  },
  {
   "cell_type": "code",
   "execution_count": null,
   "metadata": {},
   "outputs": [],
   "source": []
  },
  {
   "cell_type": "markdown",
   "metadata": {},
   "source": [
    "### Measuring the effect of actions.\n",
    "We also observe the effects of two different therapeutic interventions, one of which is placebo, and the other is an experimental drug. Try and measure\n",
    "the effectiveness of the placebo versus the active treatment. Are there perhaps cases where the\n",
    "active treatment is never effective, or should it always be recommended?"
   ]
  },
  {
   "cell_type": "code",
   "execution_count": 35,
   "metadata": {},
   "outputs": [],
   "source": [
    "features = pd.read_csv('./medical/historical_X.dat', header=None, sep=\" \").values\n",
    "actions = pd.read_csv('./medical/historical_A.dat', header=None, sep=\" \").values\n",
    "outcome = pd.read_csv('./medical/historical_Y.dat', header=None, sep=\" \").values\n",
    "observations = features[:, :128]\n",
    "labels = features[:,128] + features[:,129]*2"
   ]
  },
  {
   "cell_type": "code",
   "execution_count": 36,
   "metadata": {},
   "outputs": [
    {
     "name": "stdout",
     "output_type": "stream",
     "text": [
      "39\n",
      "Effectiveness : 0.38999999999999996%\n"
     ]
    }
   ],
   "source": [
    "#Effectiveness of the placebo.\n",
    "rangefeatures = range(len(features))\n",
    "counter = 0\n",
    "placebofeatures = []\n",
    "\n",
    "for i in rangefeatures:\n",
    "    if labels[i] != 0 and actions[i] == 0 and outcome[i] == 1: # we don't give treatment and the patient is cured\n",
    "        placebofeatures.append(features[i])\n",
    "\n",
    "print(len(placebofeatures))\n",
    "print(\"Effectiveness : {}%\".format((len(placebofeatures)/len(features))*100))"
   ]
  },
  {
   "cell_type": "code",
   "execution_count": 37,
   "metadata": {},
   "outputs": [
    {
     "name": "stdout",
     "output_type": "stream",
     "text": [
      "2831\n",
      "Effectiveness : 28.310000000000002%\n"
     ]
    }
   ],
   "source": [
    "#Effectiveness of the placebo.\n",
    "rangefeatures = range(len(features))\n",
    "counter = 0\n",
    "placebofeatures = []\n",
    "\n",
    "for i in rangefeatures:\n",
    "    if labels[i] != 0 and actions[i] == 0 and outcome[i] == 0: # we don't give treatment and the patient is cured\n",
    "        placebofeatures.append(features[i])\n",
    "\n",
    "print(len(placebofeatures))\n",
    "print(\"Effectiveness : {}%\".format((len(placebofeatures)/len(features))*100))"
   ]
  },
  {
   "cell_type": "code",
   "execution_count": 38,
   "metadata": {},
   "outputs": [
    {
     "name": "stdout",
     "output_type": "stream",
     "text": [
      "69\n",
      "Effectiveness : 0.69%\n"
     ]
    }
   ],
   "source": [
    "#Effectiveness of the placebo.\n",
    "rangefeatures = range(len(features))\n",
    "counter = 0\n",
    "placebofeatures = []\n",
    "\n",
    "for i in rangefeatures:\n",
    "    if  actions[i] == 0 and outcome[i] == 1: # we don't give treatment and the patient is cured\n",
    "        placebofeatures.append(features[i])\n",
    "\n",
    "print(len(placebofeatures))\n",
    "print(\"Effectiveness : {}%\".format((len(placebofeatures)/len(features))*100))"
   ]
  },
  {
   "cell_type": "code",
   "execution_count": 39,
   "metadata": {},
   "outputs": [
    {
     "name": "stdout",
     "output_type": "stream",
     "text": [
      "1352\n",
      "Effectiveness : 13.52%\n"
     ]
    }
   ],
   "source": [
    "#Effectiveness of the active treatment.\n",
    "rangefeatures = range(len(features))\n",
    "ExperimentalDrugFeaturesSuccess = []\n",
    "\n",
    "for i in rangefeatures:\n",
    "    if labels[i] != 0 and actions[i] == 1 and outcome[i] == 1: # we give treatment and the patient is cured\n",
    "        ExperimentalDrugFeaturesSuccess.append(features[i])\n",
    "\n",
    "        \n",
    "\n",
    "print(len(ExperimentalDrugFeaturesSuccess))\n",
    "print(\"Effectiveness : {}%\".format((len(ExperimentalDrugFeaturesSuccess)/len(features))*100))   "
   ]
  },
  {
   "cell_type": "code",
   "execution_count": 40,
   "metadata": {},
   "outputs": [
    {
     "name": "stdout",
     "output_type": "stream",
     "text": [
      "946\n",
      "Proportion : 9.46%\n"
     ]
    }
   ],
   "source": [
    "#Failure of the active treatment.\n",
    "rangefeatures = range(len(features))\n",
    "ExperimentalDrugFeaturesFailure = []\n",
    "\n",
    "for i in rangefeatures:\n",
    "    if labels[i] != 0 and actions[i] == 1 and outcome[i] == 0: # we give treatment and the patient isn't cured\n",
    "        ExperimentalDrugFeaturesFailure.append(features[i])\n",
    "\n",
    "        \n",
    "\n",
    "print(len(ExperimentalDrugFeaturesFailure))    \n",
    "print(\"Proportion : {}%\".format((len(ExperimentalDrugFeaturesFailure)/len(features))*100))    "
   ]
  },
  {
   "cell_type": "code",
   "execution_count": 41,
   "metadata": {},
   "outputs": [
    {
     "name": "stdout",
     "output_type": "stream",
     "text": [
      "7633\n",
      "Proportion : 76.33%\n"
     ]
    }
   ],
   "source": [
    "#No treatment and the patient isn't cured.\n",
    "rangefeatures = range(len(features))\n",
    "NoTreatmentFailure = []\n",
    "\n",
    "for i in rangefeatures:\n",
    "    if actions[i] == 0 and outcome[i] == 0: # we don't give treatment and the patient isn't cured\n",
    "        NoTreatmentFailure.append(features[i])\n",
    "\n",
    "        \n",
    "\n",
    "print(len(NoTreatmentFailure))\n",
    "\n",
    "print(\"Proportion : {}%\".format((len(NoTreatmentFailure)/len(features))*100))   "
   ]
  },
  {
   "cell_type": "code",
   "execution_count": null,
   "metadata": {},
   "outputs": [],
   "source": []
  }
 ],
 "metadata": {
  "kernelspec": {
   "display_name": "Python 3",
   "language": "python",
   "name": "python3"
  },
  "language_info": {
   "codemirror_mode": {
    "name": "ipython",
    "version": 3
   },
   "file_extension": ".py",
   "mimetype": "text/x-python",
   "name": "python",
   "nbconvert_exporter": "python",
   "pygments_lexer": "ipython3",
   "version": "3.7.3"
  }
 },
 "nbformat": 4,
 "nbformat_minor": 2
}
