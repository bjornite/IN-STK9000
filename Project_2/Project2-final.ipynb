{
 "cells": [
  {
   "cell_type": "code",
   "execution_count": 1,
   "metadata": {},
   "outputs": [],
   "source": [
    "import numpy as np\n",
    "import pandas as pd\n",
    "\n",
    "%matplotlib inline\n",
    "import matplotlib.pyplot as plt\n",
    "import seaborn as sns; sns.set()\n",
    "\n",
    "from sklearn import cluster\n",
    "from sklearn.model_selection import train_test_split\n",
    "from sklearn.metrics import pairwise_distances_argmin\n",
    "\n",
    "from sklearn.cluster import AgglomerativeClustering\n",
    "import scipy.cluster.hierarchy as shc\n",
    "\n",
    "from kmodes.kmodes import KModes\n",
    "from yellowbrick.cluster import KElbowVisualizer\n",
    "\n"
   ]
  },
  {
   "cell_type": "markdown",
   "metadata": {},
   "source": [
    "### Discovering structure in the data\n",
    "It is uncertain if the symptoms present are all due to the same disease, or if they are different conditions with similar symptoms. (a) looking at only the attributes, estimate whether a single-cluster model is more likely than a multiple-cluster model. You can use anything, starting from a simple clustering algorithm like k-means to a hierarchical Bayesian model. (b) Try and determine whether some particular factors are important for disease epidemiology and may require further investigations."
   ]
  },
  {
   "cell_type": "code",
   "execution_count": 2,
   "metadata": {},
   "outputs": [],
   "source": [
    "# Read the data\n",
    "features = pd.read_csv('./medical/historical_X.dat', header=None, sep=\" \").values\n",
    "actions = pd.read_csv('./medical/historical_A.dat', header=None, sep=\" \").values\n",
    "outcome = pd.read_csv('./medical/historical_Y.dat', header=None, sep=\" \").values\n",
    "observations = features[:, :128]\n",
    "labels = features[:,128] + features[:,129]*2"
   ]
  },
  {
   "cell_type": "code",
   "execution_count": 3,
   "metadata": {},
   "outputs": [],
   "source": [
    "symptoms = np.append(observations, labels[:,None], 1)"
   ]
  },
  {
   "cell_type": "code",
   "execution_count": 4,
   "metadata": {},
   "outputs": [
    {
     "name": "stdout",
     "output_type": "stream",
     "text": [
      "(5168, 129)\n",
      "(4832, 129)\n"
     ]
    }
   ],
   "source": [
    "symptoms_true = symptoms[np.where(symptoms[:,128] != 0)]\n",
    "symptoms_false = symptoms[np.where(symptoms[:,128] == 0)]\n",
    "\n",
    "print(symptoms_true.shape)\n",
    "print(symptoms_false.shape)"
   ]
  },
  {
   "cell_type": "markdown",
   "metadata": {},
   "source": [
    "We want the dendrogram of the observations data only."
   ]
  },
  {
   "cell_type": "code",
   "execution_count": 7,
   "metadata": {},
   "outputs": [
    {
     "data": {
      "image/png": "[encoded data removed]",
      "text/plain": [
       "<Figure size 720x504 with 1 Axes>"
      ]
     },
     "metadata": {},
     "output_type": "display_data"
    }
   ],
   "source": [
    "plt.figure(figsize=(10, 7))\n",
    "plt.title(\"Dendrogram observation data\")\n",
    "dend = shc.dendrogram(shc.linkage(observations, method='ward'))\n",
    "plt.savefig('Images/dendrogram_observations')\n",
    "plt.show()"
   ]
  },
  {
   "cell_type": "markdown",
   "metadata": {},
   "source": [
    "We can also have a look at the elbow plot. We use KModes here instead of KMeans, which is suited for categorical data. The 'Cao' method uses an intitialization based on density."
   ]
  },
  {
   "cell_type": "code",
   "execution_count": null,
   "metadata": {},
   "outputs": [],
   "source": [
    "#model = KModes(init='Cao', n_init = 1, n_jobs=-1)\n",
    "visualizer = KElbowVisualizer(model, k=(2,15), timings = False, locate_elbow = False)\n",
    "visualizer.fit(observations)        # Fit the data to the visualizer\n",
    "visualizer.show(outpath = \"Images/kelbow_kmodes.png\")\n",
    "\n",
    "#see python file"
   ]
  },
  {
   "cell_type": "code",
   "execution_count": 8,
   "metadata": {},
   "outputs": [
    {
     "name": "stdout",
     "output_type": "stream",
     "text": [
      "Init: initializing centroids\n",
      "Init: initializing clusters\n",
      "Starting iterations...\n",
      "Run 1, iteration: 1/100, moves: 0, cost: 631180.0\n",
      "Init: initializing centroids\n",
      "Init: initializing clusters\n",
      "Starting iterations...\n",
      "Run 1, iteration: 1/100, moves: 534, cost: 483164.0\n",
      "Run 1, iteration: 2/100, moves: 404, cost: 482292.0\n",
      "Run 1, iteration: 3/100, moves: 305, cost: 481822.0\n",
      "Run 1, iteration: 4/100, moves: 211, cost: 481450.0\n",
      "Run 1, iteration: 5/100, moves: 248, cost: 481186.0\n",
      "Run 1, iteration: 6/100, moves: 88, cost: 481186.0\n",
      "Init: initializing centroids\n",
      "Init: initializing clusters\n",
      "Starting iterations...\n",
      "Run 1, iteration: 1/100, moves: 1352, cost: 446008.0\n",
      "Run 1, iteration: 2/100, moves: 934, cost: 442497.0\n",
      "Run 1, iteration: 3/100, moves: 827, cost: 440755.0\n",
      "Run 1, iteration: 4/100, moves: 410, cost: 440273.0\n",
      "Run 1, iteration: 5/100, moves: 256, cost: 440023.0\n",
      "Run 1, iteration: 6/100, moves: 131, cost: 439975.0\n",
      "Run 1, iteration: 7/100, moves: 29, cost: 439975.0\n",
      "Init: initializing centroids\n",
      "Init: initializing clusters\n",
      "Starting iterations...\n",
      "Run 1, iteration: 1/100, moves: 1595, cost: 425044.0\n",
      "Run 1, iteration: 2/100, moves: 1332, cost: 419793.0\n",
      "Run 1, iteration: 3/100, moves: 803, cost: 418616.0\n",
      "Run 1, iteration: 4/100, moves: 502, cost: 417684.0\n",
      "Run 1, iteration: 5/100, moves: 519, cost: 416148.0\n",
      "Run 1, iteration: 6/100, moves: 634, cost: 414933.0\n",
      "Run 1, iteration: 7/100, moves: 413, cost: 414686.0\n",
      "Run 1, iteration: 8/100, moves: 81, cost: 414686.0\n",
      "Init: initializing centroids\n",
      "Init: initializing clusters\n",
      "Starting iterations...\n",
      "Run 1, iteration: 1/100, moves: 1514, cost: 404233.0\n",
      "Run 1, iteration: 2/100, moves: 991, cost: 401607.0\n",
      "Run 1, iteration: 3/100, moves: 800, cost: 400232.0\n",
      "Run 1, iteration: 4/100, moves: 588, cost: 398980.0\n",
      "Run 1, iteration: 5/100, moves: 521, cost: 398189.0\n",
      "Run 1, iteration: 6/100, moves: 309, cost: 398089.0\n",
      "Run 1, iteration: 7/100, moves: 48, cost: 398089.0\n",
      "Init: initializing centroids\n",
      "Init: initializing clusters\n",
      "Starting iterations...\n",
      "Run 1, iteration: 1/100, moves: 1635, cost: 391781.0\n",
      "Run 1, iteration: 2/100, moves: 1174, cost: 389056.0\n",
      "Run 1, iteration: 3/100, moves: 709, cost: 388461.0\n",
      "Run 1, iteration: 4/100, moves: 202, cost: 388427.0\n",
      "Run 1, iteration: 5/100, moves: 9, cost: 388427.0\n",
      "Init: initializing centroids\n",
      "Init: initializing clusters\n",
      "Starting iterations...\n",
      "Run 1, iteration: 1/100, moves: 1725, cost: 380020.0\n",
      "Run 1, iteration: 2/100, moves: 1159, cost: 377908.0\n",
      "Run 1, iteration: 3/100, moves: 639, cost: 377047.0\n",
      "Run 1, iteration: 4/100, moves: 395, cost: 376632.0\n",
      "Run 1, iteration: 5/100, moves: 403, cost: 376085.0\n",
      "Run 1, iteration: 6/100, moves: 405, cost: 375880.0\n",
      "Run 1, iteration: 7/100, moves: 222, cost: 375792.0\n",
      "Run 1, iteration: 8/100, moves: 1, cost: 375792.0\n",
      "Init: initializing centroids\n",
      "Init: initializing clusters\n",
      "Starting iterations...\n",
      "Run 1, iteration: 1/100, moves: 1773, cost: 369278.0\n",
      "Run 1, iteration: 2/100, moves: 1005, cost: 367171.0\n",
      "Run 1, iteration: 3/100, moves: 820, cost: 366054.0\n",
      "Run 1, iteration: 4/100, moves: 373, cost: 365630.0\n",
      "Run 1, iteration: 5/100, moves: 279, cost: 365598.0\n",
      "Run 1, iteration: 6/100, moves: 31, cost: 365598.0\n",
      "Init: initializing centroids\n",
      "Init: initializing clusters\n",
      "Starting iterations...\n",
      "Run 1, iteration: 1/100, moves: 1719, cost: 361618.0\n",
      "Run 1, iteration: 2/100, moves: 948, cost: 359892.0\n",
      "Run 1, iteration: 3/100, moves: 838, cost: 358518.0\n",
      "Run 1, iteration: 4/100, moves: 507, cost: 357821.0\n",
      "Run 1, iteration: 5/100, moves: 453, cost: 357582.0\n",
      "Run 1, iteration: 6/100, moves: 89, cost: 357582.0\n",
      "Init: initializing centroids\n",
      "Init: initializing clusters\n",
      "Starting iterations...\n",
      "Run 1, iteration: 1/100, moves: 1801, cost: 354372.0\n",
      "Run 1, iteration: 2/100, moves: 1113, cost: 352508.0\n",
      "Run 1, iteration: 3/100, moves: 734, cost: 351565.0\n",
      "Run 1, iteration: 4/100, moves: 540, cost: 351127.0\n",
      "Run 1, iteration: 5/100, moves: 332, cost: 350767.0\n",
      "Run 1, iteration: 6/100, moves: 198, cost: 350737.0\n",
      "Run 1, iteration: 7/100, moves: 48, cost: 350737.0\n",
      "Init: initializing centroids\n",
      "Init: initializing clusters\n",
      "Starting iterations...\n",
      "Run 1, iteration: 1/100, moves: 1884, cost: 348613.0\n",
      "Run 1, iteration: 2/100, moves: 1256, cost: 345583.0\n",
      "Run 1, iteration: 3/100, moves: 1130, cost: 343195.0\n",
      "Run 1, iteration: 4/100, moves: 725, cost: 342077.0\n",
      "Run 1, iteration: 5/100, moves: 450, cost: 341497.0\n",
      "Run 1, iteration: 6/100, moves: 442, cost: 341019.0\n",
      "Run 1, iteration: 7/100, moves: 350, cost: 340784.0\n",
      "Run 1, iteration: 8/100, moves: 271, cost: 340550.0\n",
      "Run 1, iteration: 9/100, moves: 206, cost: 340445.0\n",
      "Run 1, iteration: 10/100, moves: 32, cost: 340445.0\n",
      "Init: initializing centroids\n",
      "Init: initializing clusters\n",
      "Starting iterations...\n",
      "Run 1, iteration: 1/100, moves: 1917, cost: 343609.0\n",
      "Run 1, iteration: 2/100, moves: 1367, cost: 340300.0\n",
      "Run 1, iteration: 3/100, moves: 1086, cost: 338227.0\n",
      "Run 1, iteration: 4/100, moves: 718, cost: 337398.0\n",
      "Run 1, iteration: 5/100, moves: 437, cost: 337019.0\n",
      "Run 1, iteration: 6/100, moves: 296, cost: 336754.0\n",
      "Run 1, iteration: 7/100, moves: 70, cost: 336754.0\n",
      "Init: initializing centroids\n",
      "Init: initializing clusters\n",
      "Starting iterations...\n",
      "Run 1, iteration: 1/100, moves: 1833, cost: 339769.0\n",
      "Run 1, iteration: 2/100, moves: 1345, cost: 335788.0\n",
      "Run 1, iteration: 3/100, moves: 1168, cost: 334274.0\n",
      "Run 1, iteration: 4/100, moves: 659, cost: 333408.0\n",
      "Run 1, iteration: 5/100, moves: 346, cost: 333184.0\n",
      "Run 1, iteration: 6/100, moves: 109, cost: 333145.0\n",
      "Run 1, iteration: 7/100, moves: 17, cost: 333145.0\n",
      "Init: initializing centroids\n",
      "Init: initializing clusters\n",
      "Starting iterations...\n",
      "Run 1, iteration: 1/100, moves: 1930, cost: 336046.0\n",
      "Run 1, iteration: 2/100, moves: 1225, cost: 333005.0\n",
      "Run 1, iteration: 3/100, moves: 1144, cost: 330712.0\n",
      "Run 1, iteration: 4/100, moves: 640, cost: 329969.0\n",
      "Run 1, iteration: 5/100, moves: 359, cost: 329776.0\n",
      "Run 1, iteration: 6/100, moves: 233, cost: 329605.0\n",
      "Run 1, iteration: 7/100, moves: 140, cost: 329435.0\n",
      "Run 1, iteration: 8/100, moves: 103, cost: 329353.0\n",
      "Run 1, iteration: 9/100, moves: 114, cost: 329197.0\n",
      "Run 1, iteration: 10/100, moves: 49, cost: 329197.0\n"
     ]
    },
    {
     "data": {
      "image/png": "[encoded data removed]",
      "text/plain": [
       "<Figure size 576x396 with 1 Axes>"
      ]
     },
     "metadata": {},
     "output_type": "display_data"
    }
   ],
   "source": [
    "cost = []\n",
    "for num_clusters in list(range(1,15)):\n",
    "    kmode = KModes(n_clusters=num_clusters, init = \"Cao\", n_init = 1, verbose=1)\n",
    "    kmode.fit_predict(observations)\n",
    "    cost.append(kmode.cost_)\n",
    "\n",
    "y = np.array([i for i in range(1,15,1)])\n",
    "plt.plot(y,cost)\n",
    "plt.xlabel('Clusters')\n",
    "plt.ylabel('Cost')\n",
    "plt.show()"
   ]
  },
  {
   "cell_type": "code",
   "execution_count": 5,
   "metadata": {},
   "outputs": [],
   "source": [
    "k = 4"
   ]
  },
  {
   "cell_type": "code",
   "execution_count": 6,
   "metadata": {},
   "outputs": [],
   "source": [
    "km = KModes(n_clusters=k, init='Cao', verbose=0)\n",
    "\n",
    "clus = km.fit_predict(observations)"
   ]
  },
  {
   "cell_type": "code",
   "execution_count": 7,
   "metadata": {},
   "outputs": [],
   "source": [
    "obs_clusters = np.append(observations, clus[:,None], 1)"
   ]
  },
  {
   "cell_type": "code",
   "execution_count": 8,
   "metadata": {},
   "outputs": [],
   "source": [
    "obs_clusters = np.append(obs_clusters, labels[:,None], 1)"
   ]
  },
  {
   "cell_type": "code",
   "execution_count": 9,
   "metadata": {},
   "outputs": [
    {
     "data": {
      "text/plain": [
       "(10000, 130)"
      ]
     },
     "execution_count": 9,
     "metadata": {},
     "output_type": "execute_result"
    }
   ],
   "source": [
    "obs_clusters.shape\n",
    "\n",
    "# last column (130) is labels\n",
    "# 129 is clusters "
   ]
  },
  {
   "cell_type": "code",
   "execution_count": 10,
   "metadata": {},
   "outputs": [],
   "source": [
    "symptoms_true = obs_clusters[np.where(obs_clusters[:,129] != 0)]\n",
    "symptoms_false = obs_clusters[np.where(obs_clusters[:,129] == 0)]"
   ]
  },
  {
   "cell_type": "code",
   "execution_count": 11,
   "metadata": {},
   "outputs": [],
   "source": [
    "clusters_no_symp = symptoms_false[:,128]\n",
    "clusters_symp = symptoms_true[:,128]"
   ]
  },
  {
   "cell_type": "code",
   "execution_count": 12,
   "metadata": {},
   "outputs": [
    {
     "data": {
      "image/png": "[encoded data removed]",
      "text/plain": [
       "<Figure size 1080x360 with 3 Axes>"
      ]
     },
     "metadata": {
      "needs_background": "light"
     },
     "output_type": "display_data"
    }
   ],
   "source": [
    "fig1, ax = plt.subplots(figsize = (15, 5), ncols = 3)\n",
    "sns.countplot(clus, ax = ax[0])\n",
    "sns.countplot(clusters_no_symp, ax = ax[1])\n",
    "sns.countplot(clusters_symp, ax = ax[2])\n",
    "\n",
    "fig1.suptitle(\"KModes clusters\", fontsize=14)\n",
    "ax[0].set_title('Countplot of data per cluster')\n",
    "ax[1].set_title('Countplot no symptoms data per cluster')\n",
    "ax[2].set_title('Countplot symptoms data per cluster')\n",
    "\n",
    "fig1.savefig('Images/KModes_clusters_countplots')\n",
    "\n",
    "plt.show()"
   ]
  },
  {
   "cell_type": "markdown",
   "metadata": {},
   "source": [
    "### FOR SYMPTOMS = TRUE"
   ]
  },
  {
   "cell_type": "code",
   "execution_count": 7,
   "metadata": {},
   "outputs": [],
   "source": [
    "k = 3\n",
    "\n",
    "obs_symp_true = symptoms_true[:,:128]\n",
    "labels_symp_true = symptoms_true[:,128]"
   ]
  },
  {
   "cell_type": "code",
   "execution_count": 8,
   "metadata": {},
   "outputs": [],
   "source": [
    "km = KModes(n_clusters=k, init='Cao', verbose=0)\n",
    "\n",
    "clus1 = km.fit_predict(obs_symp_true)"
   ]
  },
  {
   "cell_type": "code",
   "execution_count": 9,
   "metadata": {},
   "outputs": [],
   "source": [
    "symp_clusters = np.append(obs_symp_true, clus1[:,None], 1)\n",
    "symp_clusters = np.append(symp_clusters, labels_symp_true[:,None], 1)"
   ]
  },
  {
   "cell_type": "code",
   "execution_count": 10,
   "metadata": {},
   "outputs": [
    {
     "data": {
      "text/plain": [
       "(5168, 130)"
      ]
     },
     "execution_count": 10,
     "metadata": {},
     "output_type": "execute_result"
    }
   ],
   "source": [
    "# symp_clusters[:,129] zijn de symptomen, \n",
    "# symp_clusters[:,128] de clusters\n",
    "\n",
    "symp_clusters.shape"
   ]
  },
  {
   "cell_type": "code",
   "execution_count": 11,
   "metadata": {},
   "outputs": [],
   "source": [
    "symptom_a = symp_clusters[np.where(symp_clusters[:,129] == 1)]\n",
    "symptom_b = symp_clusters[np.where(symp_clusters[:,129] == 2)]\n",
    "symptom_both = symp_clusters[np.where(symp_clusters[:,129] == 3)]"
   ]
  },
  {
   "cell_type": "code",
   "execution_count": 12,
   "metadata": {},
   "outputs": [
    {
     "data": {
      "image/png": "[encoded data removed]",
      "text/plain": [
       "<Figure size 576x396 with 1 Axes>"
      ]
     },
     "metadata": {},
     "output_type": "display_data"
    }
   ],
   "source": [
    "g = sns.countplot(x = symp_clusters[:,128], hue = symp_clusters[:,129])\n",
    "#plt.legend(loc='center left', bbox_to_anchor=(1, 0.5))\n",
    "plt.title('Symptoms per cluster')\n",
    "plt.xlabel('Clusters')\n",
    "plt.savefig('Images/Symp_per_cluster')\n",
    "plt.show()"
   ]
  },
  {
   "cell_type": "code",
   "execution_count": 13,
   "metadata": {},
   "outputs": [
    {
     "data": {
      "text/plain": [
       "<matplotlib.axes._subplots.AxesSubplot at 0x1a1a57c400>"
      ]
     },
     "execution_count": 13,
     "metadata": {},
     "output_type": "execute_result"
    },
    {
     "data": {
      "image/png": "[encoded data removed]",
      "text/plain": [
       "<Figure size 576x396 with 1 Axes>"
      ]
     },
     "metadata": {},
     "output_type": "display_data"
    }
   ],
   "source": [
    "model = KModes(init='Cao', n_init = 1, n_jobs=-1)\n",
    "visualizer = KElbowVisualizer(model, k=(2,15), timings = False, locate_elbow = False)\n",
    "visualizer.fit(obs_symp_true)        # Fit the data to the visualizer\n",
    "visualizer.show(outpath = \"Images/kelbow_kmodes_symptrue.png\")"
   ]
  },
  {
   "cell_type": "code",
   "execution_count": null,
   "metadata": {},
   "outputs": [],
   "source": [
    "cost = []\n",
    "for num_clusters in list(range(1,15)):\n",
    "    kmode = KModes(n_clusters=num_clusters, init = \"Cao\", n_init = 1, verbose=1)\n",
    "    kmode.fit_predict(obs_symp_true)\n",
    "    cost.append(kmode.cost_)\n",
    "\n",
    "y = np.array([i for i in range(1,15,1)])\n",
    "plt.plot(y,cost)\n",
    "plt.xlabel('Clusters')\n",
    "plt.ylabel('Cost')\n",
    "plt.show()"
   ]
  },
  {
   "cell_type": "code",
   "execution_count": null,
   "metadata": {},
   "outputs": [],
   "source": []
  },
  {
   "cell_type": "markdown",
   "metadata": {},
   "source": [
    "### FEATURE IMPORTANCE"
   ]
  },
  {
   "cell_type": "code",
   "execution_count": 15,
   "metadata": {},
   "outputs": [],
   "source": [
    "# target = labels \n",
    "# data = observations"
   ]
  },
  {
   "cell_type": "code",
   "execution_count": 16,
   "metadata": {},
   "outputs": [
    {
     "data": {
      "text/plain": [
       "(10000, 129)"
      ]
     },
     "execution_count": 16,
     "metadata": {},
     "output_type": "execute_result"
    }
   ],
   "source": [
    "data = np.append(observations, labels[:,None], 1)\n",
    "data.shape\n",
    "\n",
    "#target = data[:,128]"
   ]
  },
  {
   "cell_type": "code",
   "execution_count": 17,
   "metadata": {},
   "outputs": [],
   "source": [
    "from sklearn.ensemble import RandomForestClassifier\n",
    "from sklearn.model_selection import cross_val_score, cross_validate, KFold"
   ]
  },
  {
   "cell_type": "code",
   "execution_count": 18,
   "metadata": {},
   "outputs": [
    {
     "data": {
      "text/plain": [
       "RandomForestClassifier(bootstrap=True, class_weight=None, criterion='gini',\n",
       "                       max_depth=None, max_features='auto', max_leaf_nodes=None,\n",
       "                       min_impurity_decrease=0.0, min_impurity_split=None,\n",
       "                       min_samples_leaf=1, min_samples_split=2,\n",
       "                       min_weight_fraction_leaf=0.0, n_estimators=130,\n",
       "                       n_jobs=None, oob_score=False, random_state=0, verbose=0,\n",
       "                       warm_start=False)"
      ]
     },
     "execution_count": 18,
     "metadata": {},
     "output_type": "execute_result"
    }
   ],
   "source": [
    "clf = RandomForestClassifier(n_estimators=130, random_state=0)\n",
    "clf.fit(data[:,:128], data[:,128])\n",
    "\n",
    "#clf_cv = cross_validate(clf, data[:,:128], data[:,128], cv = 5, return_estimator = True)\n"
   ]
  },
  {
   "cell_type": "code",
   "execution_count": 74,
   "metadata": {},
   "outputs": [
    {
     "name": "stderr",
     "output_type": "stream",
     "text": [
      "/Users/jolyndevis/anaconda3/lib/python3.7/site-packages/sklearn/ensemble/forest.py:245: FutureWarning: The default value of n_estimators will change from 10 in version 0.20 to 100 in 0.22.\n",
      "  \"10 in version 0.20 to 100 in 0.22.\", FutureWarning)\n"
     ]
    },
    {
     "data": {
      "text/html": [
       "<div>\n",
       "<style scoped>\n",
       "    .dataframe tbody tr th:only-of-type {\n",
       "        vertical-align: middle;\n",
       "    }\n",
       "\n",
       "    .dataframe tbody tr th {\n",
       "        vertical-align: top;\n",
       "    }\n",
       "\n",
       "    .dataframe thead th {\n",
       "        text-align: right;\n",
       "    }\n",
       "</style>\n",
       "<table border=\"1\" class=\"dataframe\">\n",
       "  <thead>\n",
       "    <tr style=\"text-align: right;\">\n",
       "      <th></th>\n",
       "      <th>avg_imp</th>\n",
       "    </tr>\n",
       "  </thead>\n",
       "  <tbody>\n",
       "    <tr>\n",
       "      <th>5</th>\n",
       "      <td>0.070210</td>\n",
       "    </tr>\n",
       "    <tr>\n",
       "      <th>3</th>\n",
       "      <td>0.049257</td>\n",
       "    </tr>\n",
       "    <tr>\n",
       "      <th>113</th>\n",
       "      <td>0.029684</td>\n",
       "    </tr>\n",
       "    <tr>\n",
       "      <th>11</th>\n",
       "      <td>0.017977</td>\n",
       "    </tr>\n",
       "    <tr>\n",
       "      <th>52</th>\n",
       "      <td>0.014964</td>\n",
       "    </tr>\n",
       "  </tbody>\n",
       "</table>\n",
       "</div>"
      ],
      "text/plain": [
       "      avg_imp\n",
       "5    0.070210\n",
       "3    0.049257\n",
       "113  0.029684\n",
       "11   0.017977\n",
       "52   0.014964"
      ]
     },
     "execution_count": 74,
     "metadata": {},
     "output_type": "execute_result"
    }
   ],
   "source": [
    "k = 10\n",
    "kf = KFold(n_splits=k, shuffle = True)\n",
    "rfc = RandomForestClassifier()\n",
    "count = 1\n",
    "\n",
    "X = data[:,:128]\n",
    "y = data[:,128]\n",
    "\n",
    "imp_sorted_ = {}\n",
    "for train, _ in kf.split(X, y):\n",
    "    rfc.fit(X[train, :], y[train])\n",
    "    \n",
    "    for key, value in enumerate(rfc.feature_importances_):    \n",
    "        imp_sorted_[key] = imp_sorted_.get(key, 0) + value\n",
    "\n",
    "feature_imp = pd.DataFrame.from_dict(imp_sorted_, orient = 'index', columns = ['avg_imp'])\n",
    "feature_imp['avg_imp'] = feature_imp['avg_imp']/10\n",
    "feature_imp.sort_values(by = 'avg_imp', ascending = False).head()"
   ]
  },
  {
   "cell_type": "markdown",
   "metadata": {},
   "source": [
    "### WITH PCA "
   ]
  },
  {
   "cell_type": "code",
   "execution_count": 19,
   "metadata": {},
   "outputs": [
    {
     "name": "stdout",
     "output_type": "stream",
     "text": [
      "11\n"
     ]
    }
   ],
   "source": [
    "from sklearn.decomposition import PCA\n",
    "\n",
    "pca = PCA(.70)\n",
    "data_red = pca.fit_transform(observations)\n",
    "print(pca.n_components_)"
   ]
  },
  {
   "cell_type": "code",
   "execution_count": 20,
   "metadata": {},
   "outputs": [],
   "source": [
    "def plot_several(x_data, y_data, colors, labels, xlabel, ylabel, title, savefig = False, figname = ''):\n",
    "    fig, ax = plt.subplots()\n",
    "    plt.xlabel(xlabel, fontsize = 9)\n",
    "    plt.ylabel(ylabel, fontsize = 9)\n",
    "    ax.set_title(title, fontsize = 11)\n",
    "    for i in range(x_data.shape[1]):\n",
    "        plt.plot(x_data[:,i], y_data[:,i], label = labels[i])\n",
    "    leg = ax.legend()\n",
    "    if savefig: plt.savefig(figname, dpi=300, bbox_inches='tight')\n",
    "    plt.show()"
   ]
  },
  {
   "cell_type": "code",
   "execution_count": 21,
   "metadata": {},
   "outputs": [
    {
     "name": "stdout",
     "output_type": "stream",
     "text": [
      "[  1.   1.   1.   2.   2.   2.   2.   2.   2.   2.   2.   2.   2.   2.\n",
      "   3.   3.   3.   3.   3.   3.   3.   3.   3.   4.   4.   4.   4.   4.\n",
      "   4.   4.   4.   4.   5.   5.   5.   5.   5.   5.   5.   5.   6.   6.\n",
      "   6.   6.   6.   6.   6.   7.   7.   7.   7.   7.   7.   8.   8.   8.\n",
      "   8.   8.   8.   9.  11.  12.  14.  16.  19.  21.  23.  26.  29.  31.\n",
      "  34.  37.  41.  44.  47.  51.  54.  58.  62.  66.  70.  75.  80.  85.\n",
      "  90.  95. 101. 107. 114. 121.]\n"
     ]
    },
    {
     "data": {
      "image/png": "[encoded data removed]",
      "text/plain": [
       "<Figure size 432x288 with 1 Axes>"
      ]
     },
     "metadata": {
      "needs_background": "light"
     },
     "output_type": "display_data"
    }
   ],
   "source": [
    "i=0\n",
    "percento_range = np.arange(0.1,1,0.01)\n",
    "n_comp = np.zeros(len(percento_range))\n",
    "for percento in percento_range:\n",
    "    pca = PCA(percento)\n",
    "    pca.fit(observations)\n",
    "    n_comp[i] = pca.n_components_\n",
    "    i = i+1\n",
    "\n",
    "print(n_comp)\n",
    "plot_several(np.hstack((n_comp[:,None], n_comp[:,None])), 100*np.hstack((percento_range[:,None], percento_range[-1-29]*np.ones(len(percento_range))[:,None])), ['r-', 'g-'], ['Variance', '70% variance'], 'Number of principal components', 'Variance (%)', 'Number of principal components vs variance covered', savefig = True, figname = 'PCA_analysis')\n"
   ]
  },
  {
   "cell_type": "code",
   "execution_count": null,
   "metadata": {},
   "outputs": [],
   "source": [
    "plt.figure(figsize=(10, 7))\n",
    "plt.title(\"Dendrogram observation data PCA\")\n",
    "dend = shc.dendrogram(shc.linkage(data_red, method='ward'))\n",
    "plt.savefig('Images/dendrogram_obs_PCA')\n",
    "plt.show()"
   ]
  },
  {
   "cell_type": "code",
   "execution_count": null,
   "metadata": {},
   "outputs": [],
   "source": [
    "model = KModes(init='Cao', n_jobs=-1)\n",
    "visualizer = KElbowVisualizer(model, k=(2,10), timings = False, locate_elbow = False)\n",
    "visualizer.fit(data_red)        # Fit the data to the visualizer\n",
    "visualizer.show()"
   ]
  },
  {
   "cell_type": "code",
   "execution_count": null,
   "metadata": {},
   "outputs": [],
   "source": []
  },
  {
   "cell_type": "code",
   "execution_count": null,
   "metadata": {},
   "outputs": [],
   "source": []
  },
  {
   "cell_type": "markdown",
   "metadata": {},
   "source": [
    "### Measuring the effect of actions.\n",
    "We also observe the effects of two different therapeutic interventions, one of which is placebo, and the other is an experimental drug. Try and measure\n",
    "the effectiveness of the placebo versus the active treatment. Are there perhaps cases where the\n",
    "active treatment is never effective, or should it always be recommended?"
   ]
  },
  {
   "cell_type": "code",
   "execution_count": 35,
   "metadata": {},
   "outputs": [],
   "source": [
    "features = pd.read_csv('./medical/historical_X.dat', header=None, sep=\" \").values\n",
    "actions = pd.read_csv('./medical/historical_A.dat', header=None, sep=\" \").values\n",
    "outcome = pd.read_csv('./medical/historical_Y.dat', header=None, sep=\" \").values\n",
    "observations = features[:, :128]\n",
    "labels = features[:,128] + features[:,129]*2"
   ]
  },
  {
   "cell_type": "code",
   "execution_count": 36,
   "metadata": {},
   "outputs": [
    {
     "name": "stdout",
     "output_type": "stream",
     "text": [
      "39\n",
      "Effectiveness : 0.38999999999999996%\n"
     ]
    }
   ],
   "source": [
    "#Effectiveness of the placebo.\n",
    "rangefeatures = range(len(features))\n",
    "counter = 0\n",
    "placebofeatures = []\n",
    "\n",
    "for i in rangefeatures:\n",
    "    if labels[i] != 0 and actions[i] == 0 and outcome[i] == 1: # we don't give treatment and the patient is cured\n",
    "        placebofeatures.append(features[i])\n",
    "\n",
    "print(len(placebofeatures))\n",
    "print(\"Effectiveness : {}%\".format((len(placebofeatures)/len(features))*100))"
   ]
  },
  {
   "cell_type": "code",
   "execution_count": 37,
   "metadata": {},
   "outputs": [
    {
     "name": "stdout",
     "output_type": "stream",
     "text": [
      "2831\n",
      "Effectiveness : 28.310000000000002%\n"
     ]
    }
   ],
   "source": [
    "#Effectiveness of the placebo.\n",
    "rangefeatures = range(len(features))\n",
    "counter = 0\n",
    "placebofeatures = []\n",
    "\n",
    "for i in rangefeatures:\n",
    "    if labels[i] != 0 and actions[i] == 0 and outcome[i] == 0: # we don't give treatment and the patient is cured\n",
    "        placebofeatures.append(features[i])\n",
    "\n",
    "print(len(placebofeatures))\n",
    "print(\"Effectiveness : {}%\".format((len(placebofeatures)/len(features))*100))"
   ]
  },
  {
   "cell_type": "code",
   "execution_count": 38,
   "metadata": {},
   "outputs": [
    {
     "name": "stdout",
     "output_type": "stream",
     "text": [
      "69\n",
      "Effectiveness : 0.69%\n"
     ]
    }
   ],
   "source": [
    "#Effectiveness of the placebo.\n",
    "rangefeatures = range(len(features))\n",
    "counter = 0\n",
    "placebofeatures = []\n",
    "\n",
    "for i in rangefeatures:\n",
    "    if  actions[i] == 0 and outcome[i] == 1: # we don't give treatment and the patient is cured\n",
    "        placebofeatures.append(features[i])\n",
    "\n",
    "print(len(placebofeatures))\n",
    "print(\"Effectiveness : {}%\".format((len(placebofeatures)/len(features))*100))"
   ]
  },
  {
   "cell_type": "code",
   "execution_count": 39,
   "metadata": {},
   "outputs": [
    {
     "name": "stdout",
     "output_type": "stream",
     "text": [
      "1352\n",
      "Effectiveness : 13.52%\n"
     ]
    }
   ],
   "source": [
    "#Effectiveness of the active treatment.\n",
    "rangefeatures = range(len(features))\n",
    "ExperimentalDrugFeaturesSuccess = []\n",
    "\n",
    "for i in rangefeatures:\n",
    "    if labels[i] != 0 and actions[i] == 1 and outcome[i] == 1: # we give treatment and the patient is cured\n",
    "        ExperimentalDrugFeaturesSuccess.append(features[i])\n",
    "\n",
    "        \n",
    "\n",
    "print(len(ExperimentalDrugFeaturesSuccess))\n",
    "print(\"Effectiveness : {}%\".format((len(ExperimentalDrugFeaturesSuccess)/len(features))*100))   "
   ]
  },
  {
   "cell_type": "code",
   "execution_count": 40,
   "metadata": {},
   "outputs": [
    {
     "name": "stdout",
     "output_type": "stream",
     "text": [
      "946\n",
      "Proportion : 9.46%\n"
     ]
    }
   ],
   "source": [
    "#Failure of the active treatment.\n",
    "rangefeatures = range(len(features))\n",
    "ExperimentalDrugFeaturesFailure = []\n",
    "\n",
    "for i in rangefeatures:\n",
    "    if labels[i] != 0 and actions[i] == 1 and outcome[i] == 0: # we give treatment and the patient isn't cured\n",
    "        ExperimentalDrugFeaturesFailure.append(features[i])\n",
    "\n",
    "        \n",
    "\n",
    "print(len(ExperimentalDrugFeaturesFailure))    \n",
    "print(\"Proportion : {}%\".format((len(ExperimentalDrugFeaturesFailure)/len(features))*100))    "
   ]
  },
  {
   "cell_type": "code",
   "execution_count": 41,
   "metadata": {},
   "outputs": [
    {
     "name": "stdout",
     "output_type": "stream",
     "text": [
      "7633\n",
      "Proportion : 76.33%\n"
     ]
    }
   ],
   "source": [
    "#No treatment and the patient isn't cured.\n",
    "rangefeatures = range(len(features))\n",
    "NoTreatmentFailure = []\n",
    "\n",
    "for i in rangefeatures:\n",
    "    if actions[i] == 0 and outcome[i] == 0: # we don't give treatment and the patient isn't cured\n",
    "        NoTreatmentFailure.append(features[i])\n",
    "\n",
    "        \n",
    "\n",
    "print(len(NoTreatmentFailure))\n",
    "\n",
    "print(\"Proportion : {}%\".format((len(NoTreatmentFailure)/len(features))*100))   "
   ]
  },
  {
   "cell_type": "code",
   "execution_count": null,
   "metadata": {},
   "outputs": [],
   "source": []
  }
 ],
 "metadata": {
  "kernelspec": {
   "display_name": "Python 3",
   "language": "python",
   "name": "python3"
  },
  "language_info": {
   "codemirror_mode": {
    "name": "ipython",
    "version": 3
   },
   "file_extension": ".py",
   "mimetype": "text/x-python",
   "name": "python",
   "nbconvert_exporter": "python",
   "pygments_lexer": "ipython3",
   "version": "3.7.3"
  }
 },
 "nbformat": 4,
 "nbformat_minor": 2
}
