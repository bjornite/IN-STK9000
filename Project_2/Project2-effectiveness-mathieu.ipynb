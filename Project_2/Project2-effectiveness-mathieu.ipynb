{
 "cells": [
  {
   "cell_type": "code",
   "execution_count": 2,
   "metadata": {},
   "outputs": [],
   "source": [
    "import numpy as np\n",
    "import pandas as pd\n",
    "\n",
    "import matplotlib.pyplot as plt\n",
    "import seaborn as sns\n",
    "sns.set()\n",
    "\n",
    "from sklearn import cluster\n",
    "from sklearn.model_selection import train_test_split\n",
    "from sklearn.metrics import pairwise_distances_argmin\n",
    "\n",
    "from sklearn.cluster import AgglomerativeClustering, KMeans\n",
    "import scipy.cluster.hierarchy as shc"
   ]
  },
  {
   "cell_type": "code",
   "execution_count": 3,
   "metadata": {},
   "outputs": [
    {
     "name": "stderr",
     "output_type": "stream",
     "text": [
      "Using TensorFlow backend.\n"
     ]
    }
   ],
   "source": [
    "from keras.models import Model\n",
    "from keras.models import Sequential\n",
    "from keras.layers import Dense, Dropout, BatchNormalization\n",
    "from keras.optimizers import RMSprop\n",
    "from keras import regularizers"
   ]
  },
  {
   "cell_type": "code",
   "execution_count": 4,
   "metadata": {},
   "outputs": [],
   "source": [
    "# Read the data\n",
    "features = pd.read_csv('./medical/historical_X.dat', header=None, sep=\" \").values\n",
    "actions = pd.read_csv('./medical/historical_A.dat', header=None, sep=\" \").values\n",
    "outcome = pd.read_csv('./medical/historical_Y.dat', header=None, sep=\" \").values\n",
    "observations = features[:, :128]\n",
    "labels = features[:,128] + features[:,129]*2"
   ]
  },
  {
   "cell_type": "code",
   "execution_count": 9,
   "metadata": {},
   "outputs": [],
   "source": [
    "\n",
    "# Use bootstrap on the historical dataset to estimate effectiveness of the utility\n",
    "n = features.shape[0]\n",
    "num_samples = 1000\n",
    "\n",
    "placebofeaturesSuccess = 0\n",
    "placebofeaturesFailure = 0\n",
    "ExperimentalDrugFeaturesSuccess = 0\n",
    "ExperimentalDrugFeaturesFailure = 0\n",
    "\n",
    "\n",
    "for i in range(num_samples):\n",
    "    randlist = np.random.randint(n, size=n)\n",
    "    sample_features = features[randlist]\n",
    "    sample_actions = actions[randlist]\n",
    "    sample_outcome = outcome[randlist]\n",
    "    labels = sample_features[:,128] + sample_features[:,129]*2 # symptoms\n",
    "    \n",
    "    # The patient has at least one symptom, we don't give treatment and the patient is cured\n",
    "    if labels[i] != 0 and sample_actions[i] == 0 and sample_outcome[i] == 1: \n",
    "        placebofeaturesSuccess = placebofeaturesSuccess + 1\n",
    "        \n",
    "    # The patient has at least one symptom, we don't give treatment and the patient is not cured\n",
    "    if labels[i] != 0 and sample_actions[i] == 0 and sample_outcome[i] == 0: \n",
    "        placebofeaturesFailure = placebofeaturesFailure + 1\n",
    "    \n",
    "    # The patient has at least one symptom, we give treatment and the patient is cured\n",
    "    if labels[i] != 0 and actions[i] == 1 and outcome[i] == 1: \n",
    "        ExperimentalDrugFeaturesSuccess = ExperimentalDrugFeaturesSuccess + 1\n",
    "       \n",
    "    # The patient has at least one symptom, we give treatment and the patient is not cured\n",
    "    if labels[i] != 0 and actions[i] == 1 and outcome[i] == 0: \n",
    "        ExperimentalDrugFeaturesFailure = ExperimentalDrugFeaturesFailure + 1\n",
    "  "
   ]
  },
  {
   "cell_type": "code",
   "execution_count": 10,
   "metadata": {},
   "outputs": [
    {
     "name": "stdout",
     "output_type": "stream",
     "text": [
      "[4, 281, 61, 48]\n"
     ]
    },
    {
     "data": {
      "text/plain": [
       "([<matplotlib.axis.XTick at 0x1a39b242e8>,\n",
       "  <matplotlib.axis.XTick at 0x1a39af6f60>,\n",
       "  <matplotlib.axis.XTick at 0x11bc9a240>,\n",
       "  <matplotlib.axis.XTick at 0x1a39c24320>],\n",
       " <a list of 4 Text xticklabel objects>)"
      ]
     },
     "execution_count": 10,
     "metadata": {},
     "output_type": "execute_result"
    },
    {
     "data": {
      "image/png": "[encoded data removed]",
      "text/plain": [
       "<Figure size 432x288 with 1 Axes>"
      ]
     },
     "metadata": {
      "needs_background": "light"
     },
     "output_type": "display_data"
    }
   ],
   "source": [
    "barWidth = 0\n",
    "y1 = [placebofeaturesSuccess, placebofeaturesFailure, ExperimentalDrugFeaturesSuccess, ExperimentalDrugFeaturesFailure]\n",
    "r1 = range(len(y1))\n",
    "print(y1)\n",
    "plt.bar(r1, y1)\n",
    "plt.xticks([r + barWidth / 2 for r in range(len(y1))], ['Placebo 1', 'Placebo 0', 'Exp Drug 1', 'Exp Drug 0'])"
   ]
  },
  {
   "cell_type": "code",
   "execution_count": null,
   "metadata": {},
   "outputs": [],
   "source": []
  }
 ],
 "metadata": {
  "kernelspec": {
   "display_name": "Python 3",
   "language": "python",
   "name": "python3"
  },
  "language_info": {
   "codemirror_mode": {
    "name": "ipython",
    "version": 3
   },
   "file_extension": ".py",
   "mimetype": "text/x-python",
   "name": "python",
   "nbconvert_exporter": "python",
   "pygments_lexer": "ipython3",
   "version": "3.7.3"
  }
 },
 "nbformat": 4,
 "nbformat_minor": 2
}
