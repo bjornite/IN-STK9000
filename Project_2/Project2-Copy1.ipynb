{
 "cells": [
  {
   "cell_type": "code",
   "execution_count": 1,
   "metadata": {},
   "outputs": [],
   "source": [
    "import numpy as np\n",
    "import pandas as pd\n",
    "\n",
    "%matplotlib inline\n",
    "import matplotlib.pyplot as plt\n",
    "import seaborn as sns; sns.set()\n",
    "\n",
    "from sklearn import cluster\n",
    "from sklearn.model_selection import train_test_split\n",
    "from sklearn.metrics import pairwise_distances_argmin\n",
    "\n",
    "from sklearn.cluster import AgglomerativeClustering\n",
    "import scipy.cluster.hierarchy as shc"
   ]
  },
  {
   "cell_type": "code",
   "execution_count": 2,
   "metadata": {},
   "outputs": [],
   "source": [
    "# Read the data\n",
    "features = pd.read_csv('./medical/historical_X.dat', header=None, sep=\" \").values\n",
    "actions = pd.read_csv('./medical/historical_A.dat', header=None, sep=\" \").values\n",
    "outcome = pd.read_csv('./medical/historical_Y.dat', header=None, sep=\" \").values\n",
    "observations = features[:, :128]\n",
    "labels = features[:,128] + features[:,129]*2"
   ]
  },
  {
   "cell_type": "code",
   "execution_count": 3,
   "metadata": {},
   "outputs": [
    {
     "data": {
      "text/plain": [
       "(10000, 130)"
      ]
     },
     "execution_count": 3,
     "metadata": {},
     "output_type": "execute_result"
    }
   ],
   "source": [
    "features.shape"
   ]
  },
  {
   "cell_type": "code",
   "execution_count": 4,
   "metadata": {},
   "outputs": [
    {
     "data": {
      "text/plain": [
       "(10000, 128)"
      ]
     },
     "execution_count": 4,
     "metadata": {},
     "output_type": "execute_result"
    }
   ],
   "source": [
    "observations.shape"
   ]
  },
  {
   "cell_type": "code",
   "execution_count": 5,
   "metadata": {},
   "outputs": [
    {
     "data": {
      "text/plain": [
       "(10000, 129)"
      ]
     },
     "execution_count": 5,
     "metadata": {},
     "output_type": "execute_result"
    }
   ],
   "source": [
    "symptoms = np.append(observations, labels[:,None], 1)\n",
    "symptoms.shape"
   ]
  },
  {
   "cell_type": "code",
   "execution_count": 14,
   "metadata": {},
   "outputs": [],
   "source": [
    "# Read the data\n",
    "features = pd.read_csv('./medical/historical_X.dat', header=None, sep=\" \")\n",
    "actions = pd.read_csv('./medical/historical_A.dat', header=None, sep=\" \")\n",
    "outcome = pd.read_csv('./medical/historical_Y.dat', header=None, sep=\" \")\n",
    "#observations = features[:, :128]\n",
    "#labels = features[:,128] + features[:,129]*2"
   ]
  },
  {
   "cell_type": "code",
   "execution_count": 15,
   "metadata": {},
   "outputs": [
    {
     "name": "stdout",
     "output_type": "stream",
     "text": [
      "<class 'pandas.core.frame.DataFrame'>\n",
      "RangeIndex: 10000 entries, 0 to 9999\n",
      "Columns: 130 entries, 0 to 129\n",
      "dtypes: int64(130)\n",
      "memory usage: 9.9 MB\n"
     ]
    }
   ],
   "source": [
    "features.info()"
   ]
  },
  {
   "cell_type": "code",
   "execution_count": 6,
   "metadata": {},
   "outputs": [
    {
     "name": "stdout",
     "output_type": "stream",
     "text": [
      "(5168, 129)\n",
      "(4832, 129)\n"
     ]
    }
   ],
   "source": [
    "symptoms_true = symptoms[np.where(symptoms[:,128] != 0)]\n",
    "symptoms_false = symptoms[np.where(symptoms[:,128] == 0)]\n",
    "\n",
    "print(symptoms_true.shape)\n",
    "print(symptoms_false.shape)"
   ]
  },
  {
   "cell_type": "code",
   "execution_count": null,
   "metadata": {},
   "outputs": [],
   "source": [
    "plt.figure(figsize=(10, 7))\n",
    "plt.title(\"Dendrogram symptoms\")\n",
    "dend = shc.dendrogram(shc.linkage(symptoms_true[:,:127], method='ward')) #without the actual labels.\n",
    "plt.show()"
   ]
  },
  {
   "cell_type": "code",
   "execution_count": 14,
   "metadata": {},
   "outputs": [
    {
     "data": {
      "image/png": "[encoded data removed]",
      "text/plain": [
       "<Figure size 720x504 with 1 Axes>"
      ]
     },
     "metadata": {
      "needs_background": "light"
     },
     "output_type": "display_data"
    }
   ],
   "source": [
    "plt.figure(figsize=(10, 7))\n",
    "plt.title(\"Dendrogram no symptoms\")\n",
    "dend = shc.dendrogram(shc.linkage(symptoms_false[:,:127], method='ward')) #without the actual labels. \n",
    "plt.show()"
   ]
  },
  {
   "cell_type": "code",
   "execution_count": 11,
   "metadata": {},
   "outputs": [],
   "source": [
    "k = 4"
   ]
  },
  {
   "cell_type": "code",
   "execution_count": 23,
   "metadata": {},
   "outputs": [
    {
     "name": "stdout",
     "output_type": "stream",
     "text": [
      "[3 0 0 ... 1 0 0]\n"
     ]
    }
   ],
   "source": [
    "\n",
    "cluster = AgglomerativeClustering(n_clusters=k, affinity='euclidean', linkage='ward')\n",
    "#euclidean = distance between datapoints, 'ward' = minimizes the variant between the clusters\n",
    "h_clusters = cluster.fit_predict(observations)\n",
    "\n",
    "print(cluster.labels_)"
   ]
  },
  {
   "cell_type": "code",
   "execution_count": 54,
   "metadata": {},
   "outputs": [],
   "source": [
    "def find_clusters(X, n_clusters, rseed = 2):\n",
    "    rng = np.random.RandomState(rseed)\n",
    "    i = rng.permutation(X.shape[0])[:n_clusters]\n",
    "    centers = X[i]\n",
    "\n",
    "    while True:\n",
    "        labels = pairwise_distances_argmin(X, centers)\n",
    "        new_centers = np.array([X[labels == i].mean(0)\n",
    "                                for i in range(n_clusters)])\n",
    "\n",
    "        if np.all(centers == new_centers):\n",
    "            break\n",
    "        centers = new_centers\n",
    "\n",
    "    return centers, labels"
   ]
  },
  {
   "cell_type": "code",
   "execution_count": 12,
   "metadata": {},
   "outputs": [],
   "source": [
    "from sklearn import cluster"
   ]
  },
  {
   "cell_type": "code",
   "execution_count": 14,
   "metadata": {},
   "outputs": [],
   "source": []
  },
  {
   "cell_type": "code",
   "execution_count": 63,
   "metadata": {},
   "outputs": [],
   "source": [
    "centers, k_clusters = find_clusters(observations, k)"
   ]
  },
  {
   "cell_type": "code",
   "execution_count": 15,
   "metadata": {},
   "outputs": [],
   "source": [
    "k_clusters = cluster.KMeans(n_clusters=k).fit(observations)"
   ]
  },
  {
   "cell_type": "code",
   "execution_count": 21,
   "metadata": {},
   "outputs": [
    {
     "ename": "AttributeError",
     "evalue": "'numpy.ndarray' object has no attribute 'labels_'",
     "output_type": "error",
     "traceback": [
      "\u001b[0;31m---------------------------------------------------------------------------\u001b[0m",
      "\u001b[0;31mAttributeError\u001b[0m                            Traceback (most recent call last)",
      "\u001b[0;32m<ipython-input-21-dcc0f2a729dd>\u001b[0m in \u001b[0;36m<module>\u001b[0;34m\u001b[0m\n\u001b[0;32m----> 1\u001b[0;31m \u001b[0mk_clusters\u001b[0m \u001b[0;34m=\u001b[0m \u001b[0mk_clusters\u001b[0m\u001b[0;34m.\u001b[0m\u001b[0mlabels_\u001b[0m\u001b[0;34m\u001b[0m\u001b[0;34m\u001b[0m\u001b[0m\n\u001b[0m\u001b[1;32m      2\u001b[0m \u001b[0mk_clusters\u001b[0m\u001b[0;34m\u001b[0m\u001b[0;34m\u001b[0m\u001b[0m\n",
      "\u001b[0;31mAttributeError\u001b[0m: 'numpy.ndarray' object has no attribute 'labels_'"
     ]
    }
   ],
   "source": [
    "k_clusters = k_clusters.labels_\n",
    "k_clusters"
   ]
  },
  {
   "cell_type": "code",
   "execution_count": 24,
   "metadata": {},
   "outputs": [
    {
     "data": {
      "text/plain": [
       "array([3, 0, 0, ..., 1, 0, 0])"
      ]
     },
     "execution_count": 24,
     "metadata": {},
     "output_type": "execute_result"
    }
   ],
   "source": [
    "h_clusters"
   ]
  },
  {
   "cell_type": "code",
   "execution_count": null,
   "metadata": {},
   "outputs": [],
   "source": []
  },
  {
   "cell_type": "code",
   "execution_count": 25,
   "metadata": {},
   "outputs": [],
   "source": [
    "obs_clusters_hier = np.append(observations , h_clusters[:,None], 1)\n",
    "obs_clusters_kmeans = np.append(observations, k_clusters[:,None], 1)"
   ]
  },
  {
   "cell_type": "code",
   "execution_count": 26,
   "metadata": {},
   "outputs": [],
   "source": [
    "obs_clusters_hier = np.append(obs_clusters_hier, labels[:,None], 1)\n",
    "obs_clusters_kmeans = np.append(obs_clusters_kmeans, labels[:,None], 1)"
   ]
  },
  {
   "cell_type": "code",
   "execution_count": 27,
   "metadata": {},
   "outputs": [
    {
     "data": {
      "text/plain": [
       "(10000, 130)"
      ]
     },
     "execution_count": 27,
     "metadata": {},
     "output_type": "execute_result"
    }
   ],
   "source": [
    "obs_clusters_hier.shape\n",
    "\n",
    "# last column (130) is labels\n",
    "# 129 is clusters "
   ]
  },
  {
   "cell_type": "code",
   "execution_count": 28,
   "metadata": {},
   "outputs": [
    {
     "data": {
      "text/plain": [
       "array([1, 0, 0, 0, 1, 2, 0, 0, 1, 0, 1, 1, 0, 3, 0, 0, 1, 1, 0, 0])"
      ]
     },
     "execution_count": 28,
     "metadata": {},
     "output_type": "execute_result"
    }
   ],
   "source": [
    "labels[:20]"
   ]
  },
  {
   "cell_type": "code",
   "execution_count": 29,
   "metadata": {},
   "outputs": [
    {
     "data": {
      "text/plain": [
       "array([[0, 0, 0, ..., 0, 3, 1],\n",
       "       [0, 1, 0, ..., 1, 0, 0],\n",
       "       [0, 0, 1, ..., 1, 0, 0],\n",
       "       ...,\n",
       "       [0, 0, 1, ..., 0, 1, 0],\n",
       "       [1, 1, 0, ..., 1, 0, 0],\n",
       "       [1, 0, 0, ..., 1, 0, 1]])"
      ]
     },
     "execution_count": 29,
     "metadata": {},
     "output_type": "execute_result"
    }
   ],
   "source": [
    "obs_clusters_hier"
   ]
  },
  {
   "cell_type": "code",
   "execution_count": 30,
   "metadata": {},
   "outputs": [
    {
     "data": {
      "text/plain": [
       "(5168, 130)"
      ]
     },
     "execution_count": 30,
     "metadata": {},
     "output_type": "execute_result"
    }
   ],
   "source": [
    "symptoms_true_h = obs_clusters_hier[np.where(obs_clusters_hier[:,129] != 0)]\n",
    "symptoms_true_k = obs_clusters_kmeans[np.where(obs_clusters_kmeans[:,129] != 0)]\n",
    "\n",
    "\n",
    "symptoms_true_h.shape"
   ]
  },
  {
   "cell_type": "code",
   "execution_count": 31,
   "metadata": {},
   "outputs": [
    {
     "data": {
      "text/plain": [
       "(4832, 130)"
      ]
     },
     "execution_count": 31,
     "metadata": {},
     "output_type": "execute_result"
    }
   ],
   "source": [
    "symptoms_false_h = obs_clusters_hier[np.where(obs_clusters_hier[:,129] == 0)]\n",
    "symptoms_false_k = obs_clusters_kmeans[np.where(obs_clusters_kmeans[:,129] == 0)]\n",
    "\n",
    "\n",
    "symptoms_false_h.shape"
   ]
  },
  {
   "cell_type": "code",
   "execution_count": 32,
   "metadata": {},
   "outputs": [],
   "source": [
    "clusters_no_symp_k = symptoms_false_k[:,128]\n",
    "clusters_symp_k = symptoms_true_k[:,128]"
   ]
  },
  {
   "cell_type": "code",
   "execution_count": 33,
   "metadata": {},
   "outputs": [
    {
     "data": {
      "image/png": "[encoded data removed]",
      "text/plain": [
       "<Figure size 1080x360 with 3 Axes>"
      ]
     },
     "metadata": {
      "needs_background": "light"
     },
     "output_type": "display_data"
    }
   ],
   "source": [
    "fig1, ax = plt.subplots(figsize = (15, 5), ncols = 3)\n",
    "sns.countplot(k_clusters, ax = ax[0])\n",
    "sns.countplot(clusters_no_symp_k, ax = ax[1])\n",
    "sns.countplot(clusters_symp_k, ax = ax[2])\n",
    "\n",
    "fig1.suptitle(\"KMeans clusters\", fontsize=14)\n",
    "ax[0].set_title('Countplot of data per cluster')\n",
    "ax[1].set_title('Countplot no symptoms data per cluster')\n",
    "ax[2].set_title('Countplot symptoms data per cluster')\n",
    "\n",
    "\n",
    "plt.show()"
   ]
  },
  {
   "cell_type": "code",
   "execution_count": 55,
   "metadata": {},
   "outputs": [],
   "source": [
    "k = 3"
   ]
  },
  {
   "cell_type": "code",
   "execution_count": 56,
   "metadata": {},
   "outputs": [],
   "source": [
    "obs_symp_true = symptoms_true[:,:128]\n",
    "labels_symp_true = symptoms_true[:,128]\n",
    "\n",
    "centers_symp, k_clusters_symp = find_clusters(obs_symp_true, k)\n",
    "symp_clusters = np.append(obs_symp_true, k_clusters_symp[:,None], 1)\n",
    "symp_clusters = np.append(symp_clusters, labels_symp_true[:,None], 1)"
   ]
  },
  {
   "cell_type": "code",
   "execution_count": 57,
   "metadata": {},
   "outputs": [
    {
     "data": {
      "text/plain": [
       "array([[0, 0, 0, ..., 0, 2, 1],\n",
       "       [0, 1, 0, ..., 1, 0, 1],\n",
       "       [1, 0, 1, ..., 0, 1, 2],\n",
       "       ...,\n",
       "       [0, 0, 0, ..., 1, 0, 1],\n",
       "       [0, 0, 0, ..., 1, 2, 1],\n",
       "       [1, 0, 0, ..., 1, 0, 1]])"
      ]
     },
     "execution_count": 57,
     "metadata": {},
     "output_type": "execute_result"
    }
   ],
   "source": [
    "symp_clusters"
   ]
  },
  {
   "cell_type": "code",
   "execution_count": 58,
   "metadata": {},
   "outputs": [],
   "source": [
    "# symp_clusters[:,129] zijn de symptomen, \n",
    "# symp_clusters[:,128] de clusters"
   ]
  },
  {
   "cell_type": "code",
   "execution_count": 59,
   "metadata": {},
   "outputs": [],
   "source": [
    "symptom_a = symp_clusters[np.where(symp_clusters[:,129] == 1)]\n",
    "symptom_b = symp_clusters[np.where(symp_clusters[:,129] == 2)]\n",
    "symptom_both = symp_clusters[np.where(symp_clusters[:,129] == 3)]"
   ]
  },
  {
   "cell_type": "code",
   "execution_count": 60,
   "metadata": {},
   "outputs": [
    {
     "data": {
      "image/png": "[encoded data removed]",
      "text/plain": [
       "<Figure size 432x288 with 1 Axes>"
      ]
     },
     "metadata": {},
     "output_type": "display_data"
    }
   ],
   "source": [
    "g = sns.countplot(x = symp_clusters[:,128], hue = symp_clusters[:,129])\n",
    "plt.title('Symptoms per cluster')\n",
    "plt.xlabel('Clusters')\n",
    "    \n",
    "plt.show()"
   ]
  },
  {
   "cell_type": "code",
   "execution_count": 76,
   "metadata": {},
   "outputs": [
    {
     "data": {
      "text/plain": [
       "Text(0.5, 1.0, 'countplot hierarchical clusters')"
      ]
     },
     "execution_count": 76,
     "metadata": {},
     "output_type": "execute_result"
    },
    {
     "data": {
      "image/png": "[encoded data removed]",
      "text/plain": [
       "<Figure size 432x288 with 1 Axes>"
      ]
     },
     "metadata": {},
     "output_type": "display_data"
    }
   ],
   "source": [
    "sns.countplot(h_clusters)\n",
    "plt.title('countplot hierarchical clusters')"
   ]
  },
  {
   "cell_type": "code",
   "execution_count": 77,
   "metadata": {},
   "outputs": [
    {
     "data": {
      "text/plain": [
       "Text(0.5, 1.0, 'countplot clusters no symptoms hierarchical')"
      ]
     },
     "execution_count": 77,
     "metadata": {},
     "output_type": "execute_result"
    },
    {
     "data": {
      "image/png": "[encoded data removed]",
      "text/plain": [
       "<Figure size 432x288 with 1 Axes>"
      ]
     },
     "metadata": {},
     "output_type": "display_data"
    }
   ],
   "source": [
    "clusters_no_symp_h = symptoms_false_h[:,128]\n",
    "\n",
    "sns.countplot(clusters_no_symp_h)\n",
    "plt.title('countplot clusters no symptoms hierarchical')"
   ]
  },
  {
   "cell_type": "code",
   "execution_count": 78,
   "metadata": {
    "scrolled": true
   },
   "outputs": [
    {
     "data": {
      "text/plain": [
       "Text(0.5, 1.0, 'countplot clusters symptoms hierarchical')"
      ]
     },
     "execution_count": 78,
     "metadata": {},
     "output_type": "execute_result"
    },
    {
     "data": {
      "image/png": "[encoded data removed]",
      "text/plain": [
       "<Figure size 432x288 with 1 Axes>"
      ]
     },
     "metadata": {},
     "output_type": "display_data"
    }
   ],
   "source": [
    "clusters_symp_h = symptoms_true_h[:,128]\n",
    "\n",
    "sns.countplot(clusters_symp_h)\n",
    "plt.title('countplot clusters symptoms hierarchical')"
   ]
  },
  {
   "cell_type": "markdown",
   "metadata": {},
   "source": [
    "For both kmeans clustering and hierarchical clustering the people with symptoms seem to fall in different categories than the people without symptoms, even though there is a lot of overlap. "
   ]
  },
  {
   "cell_type": "code",
   "execution_count": 17,
   "metadata": {},
   "outputs": [],
   "source": [
    "# target = labels \n",
    "# data = observations"
   ]
  },
  {
   "cell_type": "code",
   "execution_count": 5,
   "metadata": {},
   "outputs": [
    {
     "data": {
      "text/plain": [
       "(10000, 129)"
      ]
     },
     "execution_count": 5,
     "metadata": {},
     "output_type": "execute_result"
    }
   ],
   "source": [
    "data = np.append(observations, labels[:,None], 1)\n",
    "data.shape\n",
    "\n",
    "#target = data[:,128]"
   ]
  },
  {
   "cell_type": "code",
   "execution_count": 6,
   "metadata": {},
   "outputs": [],
   "source": [
    "from sklearn.ensemble import RandomForestClassifier\n",
    "from sklearn.model_selection import cross_val_score, cross_validate, KFold"
   ]
  },
  {
   "cell_type": "code",
   "execution_count": 7,
   "metadata": {},
   "outputs": [
    {
     "data": {
      "text/plain": [
       "RandomForestClassifier(bootstrap=True, class_weight=None, criterion='gini',\n",
       "                       max_depth=None, max_features='auto', max_leaf_nodes=None,\n",
       "                       min_impurity_decrease=0.0, min_impurity_split=None,\n",
       "                       min_samples_leaf=1, min_samples_split=2,\n",
       "                       min_weight_fraction_leaf=0.0, n_estimators=130,\n",
       "                       n_jobs=None, oob_score=False, random_state=0, verbose=0,\n",
       "                       warm_start=False)"
      ]
     },
     "execution_count": 7,
     "metadata": {},
     "output_type": "execute_result"
    }
   ],
   "source": [
    "clf = RandomForestClassifier(n_estimators=130, random_state=0)\n",
    "clf.fit(data[:,:128], data[:,128])\n",
    "\n",
    "#clf_cv = cross_validate(clf, data[:,:128], data[:,128], cv = 5, return_estimator = True)\n"
   ]
  },
  {
   "cell_type": "code",
   "execution_count": 24,
   "metadata": {},
   "outputs": [
    {
     "name": "stdout",
     "output_type": "stream",
     "text": [
      "            0\n",
      "0    0.011526\n",
      "1    0.013439\n",
      "2    0.005335\n",
      "3    0.049441\n",
      "4    0.008014\n",
      "5    0.072036\n",
      "6    0.006013\n",
      "7    0.005744\n",
      "8    0.005832\n",
      "9    0.006545\n",
      "10   0.004710\n",
      "11   0.014893\n",
      "12   0.005929\n",
      "13   0.007077\n",
      "14   0.005438\n",
      "15   0.005862\n",
      "16   0.006238\n",
      "17   0.005129\n",
      "18   0.005481\n",
      "19   0.005609\n",
      "20   0.005300\n",
      "21   0.005594\n",
      "22   0.006381\n",
      "23   0.005600\n",
      "24   0.005639\n",
      "25   0.005849\n",
      "26   0.005848\n",
      "27   0.005079\n",
      "28   0.006799\n",
      "29   0.005312\n",
      "..        ...\n",
      "98   0.005306\n",
      "99   0.006110\n",
      "100  0.005455\n",
      "101  0.005783\n",
      "102  0.006055\n",
      "103  0.006244\n",
      "104  0.005619\n",
      "105  0.007784\n",
      "106  0.006007\n",
      "107  0.005816\n",
      "108  0.009219\n",
      "109  0.006307\n",
      "110  0.005655\n",
      "111  0.005982\n",
      "112  0.008658\n",
      "113  0.026189\n",
      "114  0.006466\n",
      "115  0.006837\n",
      "116  0.005704\n",
      "117  0.005255\n",
      "118  0.005459\n",
      "119  0.007526\n",
      "120  0.006450\n",
      "121  0.005479\n",
      "122  0.007645\n",
      "123  0.005955\n",
      "124  0.005332\n",
      "125  0.006894\n",
      "126  0.009948\n",
      "127  0.011387\n",
      "\n",
      "[128 rows x 1 columns]\n",
      "            0\n",
      "0    0.010930\n",
      "1    0.013963\n",
      "2    0.005989\n",
      "3    0.047236\n",
      "4    0.008877\n",
      "5    0.071431\n",
      "6    0.006306\n",
      "7    0.006152\n",
      "8    0.005717\n",
      "9    0.007165\n",
      "10   0.004733\n",
      "11   0.019706\n",
      "12   0.005956\n",
      "13   0.006863\n",
      "14   0.005494\n",
      "15   0.006132\n",
      "16   0.005946\n",
      "17   0.005674\n",
      "18   0.005714\n",
      "19   0.006092\n",
      "20   0.005701\n",
      "21   0.005714\n",
      "22   0.006558\n",
      "23   0.005480\n",
      "24   0.005643\n",
      "25   0.005866\n",
      "26   0.005694\n",
      "27   0.005166\n",
      "28   0.006362\n",
      "29   0.005215\n",
      "..        ...\n",
      "98   0.004992\n",
      "99   0.006173\n",
      "100  0.005607\n",
      "101  0.006131\n",
      "102  0.006397\n",
      "103  0.006331\n",
      "104  0.005704\n",
      "105  0.007471\n",
      "106  0.005892\n",
      "107  0.006245\n",
      "108  0.011438\n",
      "109  0.006392\n",
      "110  0.005832\n",
      "111  0.006517\n",
      "112  0.010729\n",
      "113  0.031797\n",
      "114  0.006329\n",
      "115  0.006814\n",
      "116  0.005770\n",
      "117  0.005401\n",
      "118  0.005882\n",
      "119  0.006723\n",
      "120  0.006032\n",
      "121  0.005487\n",
      "122  0.008576\n",
      "123  0.005526\n",
      "124  0.005737\n",
      "125  0.007279\n",
      "126  0.009538\n",
      "127  0.011788\n",
      "\n",
      "[128 rows x 1 columns]\n",
      "            0\n",
      "0    0.011727\n",
      "1    0.013547\n",
      "2    0.005860\n",
      "3    0.049703\n",
      "4    0.008389\n",
      "5    0.072979\n",
      "6    0.006274\n",
      "7    0.005977\n",
      "8    0.005882\n",
      "9    0.006096\n",
      "10   0.005122\n",
      "11   0.017415\n",
      "12   0.005932\n",
      "13   0.006386\n",
      "14   0.005218\n",
      "15   0.005591\n",
      "16   0.006100\n",
      "17   0.005075\n",
      "18   0.005617\n",
      "19   0.005956\n",
      "20   0.005357\n",
      "21   0.005733\n",
      "22   0.006372\n",
      "23   0.005608\n",
      "24   0.005817\n",
      "25   0.005900\n",
      "26   0.005473\n",
      "27   0.005684\n",
      "28   0.006555\n",
      "29   0.005300\n",
      "..        ...\n",
      "98   0.005183\n",
      "99   0.006100\n",
      "100  0.005771\n",
      "101  0.005581\n",
      "102  0.006572\n",
      "103  0.006071\n",
      "104  0.005696\n",
      "105  0.008144\n",
      "106  0.005936\n",
      "107  0.005993\n",
      "108  0.011121\n",
      "109  0.006854\n",
      "110  0.005581\n",
      "111  0.006472\n",
      "112  0.009318\n",
      "113  0.029232\n",
      "114  0.006232\n",
      "115  0.006351\n",
      "116  0.005720\n",
      "117  0.005660\n",
      "118  0.005594\n",
      "119  0.007418\n",
      "120  0.006235\n",
      "121  0.005418\n",
      "122  0.008469\n",
      "123  0.005686\n",
      "124  0.006054\n",
      "125  0.006780\n",
      "126  0.009360\n",
      "127  0.011787\n",
      "\n",
      "[128 rows x 1 columns]\n",
      "            0\n",
      "0    0.011114\n",
      "1    0.014129\n",
      "2    0.005994\n",
      "3    0.039773\n",
      "4    0.009014\n",
      "5    0.066365\n",
      "6    0.006696\n",
      "7    0.005805\n",
      "8    0.005480\n",
      "9    0.007159\n",
      "10   0.004965\n",
      "11   0.013852\n",
      "12   0.006052\n",
      "13   0.007249\n",
      "14   0.005627\n",
      "15   0.005486\n",
      "16   0.006084\n",
      "17   0.005408\n",
      "18   0.005649\n",
      "19   0.005727\n",
      "20   0.005449\n",
      "21   0.005644\n",
      "22   0.005974\n",
      "23   0.005530\n",
      "24   0.005560\n",
      "25   0.005708\n",
      "26   0.005934\n",
      "27   0.005068\n",
      "28   0.007016\n",
      "29   0.005720\n",
      "..        ...\n",
      "98   0.005237\n",
      "99   0.006390\n",
      "100  0.005283\n",
      "101  0.005703\n",
      "102  0.006421\n",
      "103  0.006503\n",
      "104  0.005469\n",
      "105  0.008131\n",
      "106  0.006109\n",
      "107  0.005689\n",
      "108  0.015716\n",
      "109  0.006233\n",
      "110  0.005836\n",
      "111  0.006726\n",
      "112  0.009653\n",
      "113  0.040434\n",
      "114  0.006288\n",
      "115  0.006576\n",
      "116  0.006052\n",
      "117  0.005669\n",
      "118  0.005689\n",
      "119  0.007772\n",
      "120  0.006237\n",
      "121  0.005601\n",
      "122  0.007304\n",
      "123  0.005885\n",
      "124  0.005892\n",
      "125  0.007687\n",
      "126  0.010322\n",
      "127  0.010994\n",
      "\n",
      "[128 rows x 1 columns]\n",
      "            0\n",
      "0    0.011489\n",
      "1    0.013886\n",
      "2    0.005997\n",
      "3    0.040651\n",
      "4    0.008437\n",
      "5    0.081940\n",
      "6    0.006120\n",
      "7    0.005852\n",
      "8    0.005702\n",
      "9    0.007288\n",
      "10   0.004746\n",
      "11   0.016167\n",
      "12   0.006123\n",
      "13   0.006552\n",
      "14   0.005695\n",
      "15   0.006048\n",
      "16   0.006139\n",
      "17   0.005272\n",
      "18   0.005453\n",
      "19   0.006008\n",
      "20   0.005403\n",
      "21   0.005530\n",
      "22   0.006079\n",
      "23   0.005424\n",
      "24   0.005367\n",
      "25   0.005731\n",
      "26   0.005456\n",
      "27   0.005056\n",
      "28   0.005832\n",
      "29   0.005407\n",
      "..        ...\n",
      "98   0.005173\n",
      "99   0.006043\n",
      "100  0.005628\n",
      "101  0.005757\n",
      "102  0.006381\n",
      "103  0.006061\n",
      "104  0.005325\n",
      "105  0.008305\n",
      "106  0.005980\n",
      "107  0.006033\n",
      "108  0.011955\n",
      "109  0.006394\n",
      "110  0.005642\n",
      "111  0.006610\n",
      "112  0.006870\n",
      "113  0.030746\n",
      "114  0.006489\n",
      "115  0.006295\n",
      "116  0.005755\n",
      "117  0.005419\n",
      "118  0.005477\n",
      "119  0.007400\n",
      "120  0.006076\n",
      "121  0.005117\n",
      "122  0.009212\n",
      "123  0.005857\n",
      "124  0.005636\n",
      "125  0.006997\n",
      "126  0.010197\n",
      "127  0.011481\n",
      "\n",
      "[128 rows x 1 columns]\n",
      "            0\n",
      "0    0.011228\n",
      "1    0.013723\n",
      "2    0.005597\n",
      "3    0.042591\n",
      "4    0.008806\n",
      "5    0.071671\n",
      "6    0.006369\n",
      "7    0.005489\n",
      "8    0.005610\n",
      "9    0.007055\n",
      "10   0.004892\n",
      "11   0.021931\n",
      "12   0.006241\n",
      "13   0.006501\n",
      "14   0.005654\n",
      "15   0.005720\n",
      "16   0.006124\n",
      "17   0.005480\n",
      "18   0.005816\n",
      "19   0.005638\n",
      "20   0.005691\n",
      "21   0.005887\n",
      "22   0.005930\n",
      "23   0.005312\n",
      "24   0.005843\n",
      "25   0.005986\n",
      "26   0.005919\n",
      "27   0.005200\n",
      "28   0.006728\n",
      "29   0.005790\n",
      "..        ...\n",
      "98   0.005353\n",
      "99   0.006227\n",
      "100  0.005646\n",
      "101  0.005799\n",
      "102  0.006105\n",
      "103  0.006047\n",
      "104  0.005690\n",
      "105  0.007709\n",
      "106  0.005768\n",
      "107  0.005593\n",
      "108  0.013076\n",
      "109  0.006559\n",
      "110  0.005814\n",
      "111  0.006764\n",
      "112  0.009572\n",
      "113  0.033262\n",
      "114  0.006398\n",
      "115  0.006613\n",
      "116  0.005983\n",
      "117  0.005309\n",
      "118  0.005620\n",
      "119  0.006691\n",
      "120  0.006177\n",
      "121  0.005218\n",
      "122  0.007970\n",
      "123  0.006840\n",
      "124  0.005407\n",
      "125  0.007369\n",
      "126  0.009150\n",
      "127  0.011728\n",
      "\n",
      "[128 rows x 1 columns]\n",
      "            0\n",
      "0    0.011151\n",
      "1    0.013142\n",
      "2    0.006357\n",
      "3    0.052026\n",
      "4    0.008075\n",
      "5    0.067576\n",
      "6    0.006548\n",
      "7    0.006009\n",
      "8    0.006098\n",
      "9    0.006735\n",
      "10   0.004996\n",
      "11   0.018639\n",
      "12   0.005840\n",
      "13   0.006456\n",
      "14   0.005573\n",
      "15   0.005832\n",
      "16   0.005978\n",
      "17   0.005315\n",
      "18   0.005383\n",
      "19   0.005996\n",
      "20   0.005520\n",
      "21   0.005453\n",
      "22   0.006109\n",
      "23   0.005962\n",
      "24   0.005802\n",
      "25   0.005536\n",
      "26   0.005554\n",
      "27   0.005527\n",
      "28   0.006795\n",
      "29   0.005205\n",
      "..        ...\n",
      "98   0.005079\n",
      "99   0.006131\n",
      "100  0.005608\n",
      "101  0.005758\n",
      "102  0.006531\n",
      "103  0.005935\n",
      "104  0.006006\n",
      "105  0.007771\n",
      "106  0.005833\n",
      "107  0.005687\n",
      "108  0.012758\n",
      "109  0.007093\n",
      "110  0.005309\n",
      "111  0.006526\n",
      "112  0.008142\n",
      "113  0.025676\n",
      "114  0.006235\n",
      "115  0.006674\n",
      "116  0.006048\n",
      "117  0.005227\n",
      "118  0.005379\n",
      "119  0.008755\n",
      "120  0.006146\n",
      "121  0.005270\n",
      "122  0.008016\n",
      "123  0.006039\n",
      "124  0.005801\n",
      "125  0.006672\n",
      "126  0.008954\n",
      "127  0.011624\n",
      "\n",
      "[128 rows x 1 columns]\n",
      "            0\n",
      "0    0.011241\n",
      "1    0.014077\n",
      "2    0.005872\n",
      "3    0.046416\n",
      "4    0.008310\n",
      "5    0.078561\n",
      "6    0.006365\n",
      "7    0.006094\n",
      "8    0.005553\n",
      "9    0.006722\n",
      "10   0.004532\n",
      "11   0.013969\n",
      "12   0.006028\n",
      "13   0.006486\n",
      "14   0.005695\n",
      "15   0.006611\n",
      "16   0.006139\n",
      "17   0.005636\n",
      "18   0.005760\n",
      "19   0.005796\n",
      "20   0.005682\n",
      "21   0.005435\n",
      "22   0.006179\n",
      "23   0.005633\n",
      "24   0.005424\n",
      "25   0.005641\n",
      "26   0.005834\n",
      "27   0.005338\n",
      "28   0.005922\n",
      "29   0.005633\n",
      "..        ...\n",
      "98   0.005236\n",
      "99   0.006152\n",
      "100  0.005234\n",
      "101  0.005701\n",
      "102  0.006719\n",
      "103  0.006403\n",
      "104  0.005748\n",
      "105  0.008141\n",
      "106  0.006041\n",
      "107  0.005962\n",
      "108  0.013348\n",
      "109  0.006649\n",
      "110  0.005930\n",
      "111  0.006411\n",
      "112  0.007717\n",
      "113  0.029794\n",
      "114  0.006249\n",
      "115  0.006878\n",
      "116  0.006005\n",
      "117  0.005085\n",
      "118  0.005410\n",
      "119  0.007352\n",
      "120  0.006176\n",
      "121  0.005179\n",
      "122  0.008384\n",
      "123  0.005855\n",
      "124  0.005805\n",
      "125  0.006716\n",
      "126  0.008562\n",
      "127  0.011250\n",
      "\n",
      "[128 rows x 1 columns]\n",
      "            0\n",
      "0    0.011376\n",
      "1    0.014331\n",
      "2    0.005651\n",
      "3    0.051070\n",
      "4    0.008267\n",
      "5    0.081856\n",
      "6    0.006129\n",
      "7    0.006025\n",
      "8    0.005725\n",
      "9    0.006517\n",
      "10   0.004932\n",
      "11   0.015005\n",
      "12   0.006057\n",
      "13   0.006464\n",
      "14   0.005514\n",
      "15   0.004964\n",
      "16   0.006285\n",
      "17   0.005462\n",
      "18   0.005542\n",
      "19   0.005856\n",
      "20   0.005521\n",
      "21   0.005421\n",
      "22   0.006190\n",
      "23   0.005403\n",
      "24   0.005336\n",
      "25   0.005792\n",
      "26   0.005715\n",
      "27   0.005080\n",
      "28   0.005449\n",
      "29   0.005212\n",
      "..        ...\n",
      "98   0.005114\n",
      "99   0.006261\n",
      "100  0.005150\n",
      "101  0.005689\n",
      "102  0.006027\n",
      "103  0.006397\n",
      "104  0.005744\n",
      "105  0.007480\n",
      "106  0.005802\n",
      "107  0.005126\n",
      "108  0.011325\n",
      "109  0.006219\n",
      "110  0.005872\n",
      "111  0.006506\n",
      "112  0.010448\n",
      "113  0.028814\n",
      "114  0.006243\n",
      "115  0.006329\n",
      "116  0.005736\n",
      "117  0.005412\n",
      "118  0.005659\n",
      "119  0.007725\n",
      "120  0.006092\n",
      "121  0.005426\n",
      "122  0.008227\n",
      "123  0.005879\n",
      "124  0.005949\n",
      "125  0.007011\n",
      "126  0.010597\n",
      "127  0.011287\n",
      "\n",
      "[128 rows x 1 columns]\n",
      "            0\n",
      "0    0.011391\n",
      "1    0.013464\n",
      "2    0.005776\n",
      "3    0.045552\n",
      "4    0.008780\n",
      "5    0.070867\n",
      "6    0.006284\n",
      "7    0.005736\n",
      "8    0.005981\n",
      "9    0.006744\n",
      "10   0.005062\n",
      "11   0.017132\n",
      "12   0.005977\n",
      "13   0.006807\n",
      "14   0.005916\n",
      "15   0.005561\n",
      "16   0.006191\n",
      "17   0.005621\n",
      "18   0.005638\n",
      "19   0.006064\n",
      "20   0.005410\n",
      "21   0.006022\n",
      "22   0.006179\n",
      "23   0.005622\n",
      "24   0.005540\n",
      "25   0.005591\n",
      "26   0.005574\n",
      "27   0.005434\n",
      "28   0.005929\n",
      "29   0.005725\n",
      "..        ...\n",
      "98   0.004750\n",
      "99   0.006167\n",
      "100  0.005630\n",
      "101  0.005693\n",
      "102  0.006326\n",
      "103  0.006005\n",
      "104  0.005689\n",
      "105  0.008913\n",
      "106  0.005953\n",
      "107  0.006023\n",
      "108  0.011153\n",
      "109  0.006455\n",
      "110  0.005803\n",
      "111  0.006370\n",
      "112  0.010690\n",
      "113  0.027224\n",
      "114  0.006398\n",
      "115  0.006693\n",
      "116  0.006098\n",
      "117  0.005253\n",
      "118  0.005607\n",
      "119  0.008039\n",
      "120  0.006326\n",
      "121  0.005266\n",
      "122  0.008539\n",
      "123  0.006363\n",
      "124  0.005953\n",
      "125  0.007129\n",
      "126  0.008759\n",
      "127  0.011420\n",
      "\n",
      "[128 rows x 1 columns]\n"
     ]
    }
   ],
   "source": [
    "kf = KFold(n_splits=10)\n",
    "rfc = RandomForestClassifier(n_estimators = 100)\n",
    "count = 1\n",
    "\n",
    "X = data[:,:128]\n",
    "y = data[:,128]\n",
    "\n",
    "imp_sorted_ = {}\n",
    "feat_imp = np.zeros((len(X), 10))\n",
    "\n",
    "\n",
    "for train, _ in kf.split(X, y):\n",
    "    rfc.fit(X[train, :], y[train])\n",
    "    feat_imp = pd.DataFrame(rfc.feature_importances_)\n",
    "    print(feat_imp)\n",
    "\n"
   ]
  },
  {
   "cell_type": "code",
   "execution_count": 12,
   "metadata": {},
   "outputs": [],
   "source": [
    "kf = KFold(n_splits=10)\n",
    "rfc = RandomForestClassifier(n_estimators = 100)\n",
    "count = 1\n",
    "\n",
    "X = data[:,:128]\n",
    "y = data[:,128]\n",
    "\n",
    "imp_sorted_ = {}\n",
    "for train, _ in kf.split(X, y):\n",
    "    rfc.fit(X[train, :], y[train])\n",
    "    \n",
    "    for key, value in enumerate(rfc.feature_importances_):    \n",
    "        imp_sorted_[key] = imp_sorted_.get(key, 0) + value\n",
    "\n",
    "feature_imp = pd.DataFrame.from_dict(imp_sorted_, orient = 'index', columns = ['avg_imp'])\n",
    "#feature_imp['avg_imp'] = feature_imp['avg_imp']/10\n",
    "#feature_imp.sort_values(by = 'avg_imp', ascending = False).head()"
   ]
  },
  {
   "cell_type": "code",
   "execution_count": 13,
   "metadata": {},
   "outputs": [
    {
     "data": {
      "text/html": [
       "<div>\n",
       "<style scoped>\n",
       "    .dataframe tbody tr th:only-of-type {\n",
       "        vertical-align: middle;\n",
       "    }\n",
       "\n",
       "    .dataframe tbody tr th {\n",
       "        vertical-align: top;\n",
       "    }\n",
       "\n",
       "    .dataframe thead th {\n",
       "        text-align: right;\n",
       "    }\n",
       "</style>\n",
       "<table border=\"1\" class=\"dataframe\">\n",
       "  <thead>\n",
       "    <tr style=\"text-align: right;\">\n",
       "      <th></th>\n",
       "      <th>avg_imp</th>\n",
       "    </tr>\n",
       "  </thead>\n",
       "  <tbody>\n",
       "    <tr>\n",
       "      <th>0</th>\n",
       "      <td>0.112196</td>\n",
       "    </tr>\n",
       "    <tr>\n",
       "      <th>1</th>\n",
       "      <td>0.137635</td>\n",
       "    </tr>\n",
       "    <tr>\n",
       "      <th>2</th>\n",
       "      <td>0.061804</td>\n",
       "    </tr>\n",
       "    <tr>\n",
       "      <th>3</th>\n",
       "      <td>0.469903</td>\n",
       "    </tr>\n",
       "    <tr>\n",
       "      <th>4</th>\n",
       "      <td>0.084496</td>\n",
       "    </tr>\n",
       "    <tr>\n",
       "      <th>5</th>\n",
       "      <td>0.704018</td>\n",
       "    </tr>\n",
       "    <tr>\n",
       "      <th>6</th>\n",
       "      <td>0.063454</td>\n",
       "    </tr>\n",
       "    <tr>\n",
       "      <th>7</th>\n",
       "      <td>0.059477</td>\n",
       "    </tr>\n",
       "    <tr>\n",
       "      <th>8</th>\n",
       "      <td>0.057141</td>\n",
       "    </tr>\n",
       "    <tr>\n",
       "      <th>9</th>\n",
       "      <td>0.071477</td>\n",
       "    </tr>\n",
       "    <tr>\n",
       "      <th>10</th>\n",
       "      <td>0.049086</td>\n",
       "    </tr>\n",
       "    <tr>\n",
       "      <th>11</th>\n",
       "      <td>0.194958</td>\n",
       "    </tr>\n",
       "    <tr>\n",
       "      <th>12</th>\n",
       "      <td>0.060394</td>\n",
       "    </tr>\n",
       "    <tr>\n",
       "      <th>13</th>\n",
       "      <td>0.066278</td>\n",
       "    </tr>\n",
       "    <tr>\n",
       "      <th>14</th>\n",
       "      <td>0.055327</td>\n",
       "    </tr>\n",
       "    <tr>\n",
       "      <th>15</th>\n",
       "      <td>0.059651</td>\n",
       "    </tr>\n",
       "    <tr>\n",
       "      <th>16</th>\n",
       "      <td>0.061716</td>\n",
       "    </tr>\n",
       "    <tr>\n",
       "      <th>17</th>\n",
       "      <td>0.054351</td>\n",
       "    </tr>\n",
       "    <tr>\n",
       "      <th>18</th>\n",
       "      <td>0.055773</td>\n",
       "    </tr>\n",
       "    <tr>\n",
       "      <th>19</th>\n",
       "      <td>0.058217</td>\n",
       "    </tr>\n",
       "    <tr>\n",
       "      <th>20</th>\n",
       "      <td>0.054128</td>\n",
       "    </tr>\n",
       "    <tr>\n",
       "      <th>21</th>\n",
       "      <td>0.056331</td>\n",
       "    </tr>\n",
       "    <tr>\n",
       "      <th>22</th>\n",
       "      <td>0.061016</td>\n",
       "    </tr>\n",
       "    <tr>\n",
       "      <th>23</th>\n",
       "      <td>0.055598</td>\n",
       "    </tr>\n",
       "    <tr>\n",
       "      <th>24</th>\n",
       "      <td>0.056853</td>\n",
       "    </tr>\n",
       "    <tr>\n",
       "      <th>25</th>\n",
       "      <td>0.057646</td>\n",
       "    </tr>\n",
       "    <tr>\n",
       "      <th>26</th>\n",
       "      <td>0.056566</td>\n",
       "    </tr>\n",
       "    <tr>\n",
       "      <th>27</th>\n",
       "      <td>0.053755</td>\n",
       "    </tr>\n",
       "    <tr>\n",
       "      <th>28</th>\n",
       "      <td>0.062203</td>\n",
       "    </tr>\n",
       "    <tr>\n",
       "      <th>29</th>\n",
       "      <td>0.054769</td>\n",
       "    </tr>\n",
       "    <tr>\n",
       "      <th>...</th>\n",
       "      <td>...</td>\n",
       "    </tr>\n",
       "    <tr>\n",
       "      <th>98</th>\n",
       "      <td>0.050677</td>\n",
       "    </tr>\n",
       "    <tr>\n",
       "      <th>99</th>\n",
       "      <td>0.061614</td>\n",
       "    </tr>\n",
       "    <tr>\n",
       "      <th>100</th>\n",
       "      <td>0.054910</td>\n",
       "    </tr>\n",
       "    <tr>\n",
       "      <th>101</th>\n",
       "      <td>0.058264</td>\n",
       "    </tr>\n",
       "    <tr>\n",
       "      <th>102</th>\n",
       "      <td>0.063604</td>\n",
       "    </tr>\n",
       "    <tr>\n",
       "      <th>103</th>\n",
       "      <td>0.062268</td>\n",
       "    </tr>\n",
       "    <tr>\n",
       "      <th>104</th>\n",
       "      <td>0.057265</td>\n",
       "    </tr>\n",
       "    <tr>\n",
       "      <th>105</th>\n",
       "      <td>0.080270</td>\n",
       "    </tr>\n",
       "    <tr>\n",
       "      <th>106</th>\n",
       "      <td>0.059084</td>\n",
       "    </tr>\n",
       "    <tr>\n",
       "      <th>107</th>\n",
       "      <td>0.057218</td>\n",
       "    </tr>\n",
       "    <tr>\n",
       "      <th>108</th>\n",
       "      <td>0.115254</td>\n",
       "    </tr>\n",
       "    <tr>\n",
       "      <th>109</th>\n",
       "      <td>0.064932</td>\n",
       "    </tr>\n",
       "    <tr>\n",
       "      <th>110</th>\n",
       "      <td>0.056672</td>\n",
       "    </tr>\n",
       "    <tr>\n",
       "      <th>111</th>\n",
       "      <td>0.066218</td>\n",
       "    </tr>\n",
       "    <tr>\n",
       "      <th>112</th>\n",
       "      <td>0.092587</td>\n",
       "    </tr>\n",
       "    <tr>\n",
       "      <th>113</th>\n",
       "      <td>0.298827</td>\n",
       "    </tr>\n",
       "    <tr>\n",
       "      <th>114</th>\n",
       "      <td>0.063202</td>\n",
       "    </tr>\n",
       "    <tr>\n",
       "      <th>115</th>\n",
       "      <td>0.065352</td>\n",
       "    </tr>\n",
       "    <tr>\n",
       "      <th>116</th>\n",
       "      <td>0.059337</td>\n",
       "    </tr>\n",
       "    <tr>\n",
       "      <th>117</th>\n",
       "      <td>0.054424</td>\n",
       "    </tr>\n",
       "    <tr>\n",
       "      <th>118</th>\n",
       "      <td>0.055596</td>\n",
       "    </tr>\n",
       "    <tr>\n",
       "      <th>119</th>\n",
       "      <td>0.073503</td>\n",
       "    </tr>\n",
       "    <tr>\n",
       "      <th>120</th>\n",
       "      <td>0.062397</td>\n",
       "    </tr>\n",
       "    <tr>\n",
       "      <th>121</th>\n",
       "      <td>0.053984</td>\n",
       "    </tr>\n",
       "    <tr>\n",
       "      <th>122</th>\n",
       "      <td>0.083275</td>\n",
       "    </tr>\n",
       "    <tr>\n",
       "      <th>123</th>\n",
       "      <td>0.061010</td>\n",
       "    </tr>\n",
       "    <tr>\n",
       "      <th>124</th>\n",
       "      <td>0.056931</td>\n",
       "    </tr>\n",
       "    <tr>\n",
       "      <th>125</th>\n",
       "      <td>0.070242</td>\n",
       "    </tr>\n",
       "    <tr>\n",
       "      <th>126</th>\n",
       "      <td>0.091335</td>\n",
       "    </tr>\n",
       "    <tr>\n",
       "      <th>127</th>\n",
       "      <td>0.116499</td>\n",
       "    </tr>\n",
       "  </tbody>\n",
       "</table>\n",
       "<p>128 rows × 1 columns</p>\n",
       "</div>"
      ],
      "text/plain": [
       "      avg_imp\n",
       "0    0.112196\n",
       "1    0.137635\n",
       "2    0.061804\n",
       "3    0.469903\n",
       "4    0.084496\n",
       "5    0.704018\n",
       "6    0.063454\n",
       "7    0.059477\n",
       "8    0.057141\n",
       "9    0.071477\n",
       "10   0.049086\n",
       "11   0.194958\n",
       "12   0.060394\n",
       "13   0.066278\n",
       "14   0.055327\n",
       "15   0.059651\n",
       "16   0.061716\n",
       "17   0.054351\n",
       "18   0.055773\n",
       "19   0.058217\n",
       "20   0.054128\n",
       "21   0.056331\n",
       "22   0.061016\n",
       "23   0.055598\n",
       "24   0.056853\n",
       "25   0.057646\n",
       "26   0.056566\n",
       "27   0.053755\n",
       "28   0.062203\n",
       "29   0.054769\n",
       "..        ...\n",
       "98   0.050677\n",
       "99   0.061614\n",
       "100  0.054910\n",
       "101  0.058264\n",
       "102  0.063604\n",
       "103  0.062268\n",
       "104  0.057265\n",
       "105  0.080270\n",
       "106  0.059084\n",
       "107  0.057218\n",
       "108  0.115254\n",
       "109  0.064932\n",
       "110  0.056672\n",
       "111  0.066218\n",
       "112  0.092587\n",
       "113  0.298827\n",
       "114  0.063202\n",
       "115  0.065352\n",
       "116  0.059337\n",
       "117  0.054424\n",
       "118  0.055596\n",
       "119  0.073503\n",
       "120  0.062397\n",
       "121  0.053984\n",
       "122  0.083275\n",
       "123  0.061010\n",
       "124  0.056931\n",
       "125  0.070242\n",
       "126  0.091335\n",
       "127  0.116499\n",
       "\n",
       "[128 rows x 1 columns]"
      ]
     },
     "execution_count": 13,
     "metadata": {},
     "output_type": "execute_result"
    }
   ],
   "source": [
    "feature_imp"
   ]
  },
  {
   "cell_type": "code",
   "execution_count": null,
   "metadata": {},
   "outputs": [],
   "source": []
  },
  {
   "cell_type": "code",
   "execution_count": null,
   "metadata": {},
   "outputs": [],
   "source": []
  },
  {
   "cell_type": "code",
   "execution_count": null,
   "metadata": {},
   "outputs": [],
   "source": []
  },
  {
   "cell_type": "code",
   "execution_count": 3,
   "metadata": {},
   "outputs": [],
   "source": [
    "Xtrain, Xholdout, ytrain, yholdout = train_test_split(observations, outcome, test_size = 0.5)"
   ]
  },
  {
   "cell_type": "code",
   "execution_count": 4,
   "metadata": {},
   "outputs": [
    {
     "data": {
      "image/png": "[encoded data removed]",
      "text/plain": [
       "<Figure size 720x504 with 1 Axes>"
      ]
     },
     "metadata": {
      "needs_background": "light"
     },
     "output_type": "display_data"
    }
   ],
   "source": [
    "plt.figure(figsize=(10, 7))\n",
    "plt.title(\"Dendrograms\")\n",
    "dend = shc.dendrogram(shc.linkage(Xtrain, method='ward'))\n",
    "plt.show()"
   ]
  },
  {
   "cell_type": "code",
   "execution_count": null,
   "metadata": {},
   "outputs": [],
   "source": []
  }
 ],
 "metadata": {
  "kernelspec": {
   "display_name": "Python 3",
   "language": "python",
   "name": "python3"
  },
  "language_info": {
   "codemirror_mode": {
    "name": "ipython",
    "version": 3
   },
   "file_extension": ".py",
   "mimetype": "text/x-python",
   "name": "python",
   "nbconvert_exporter": "python",
   "pygments_lexer": "ipython3",
   "version": "3.7.3"
  }
 },
 "nbformat": 4,
 "nbformat_minor": 2
}
