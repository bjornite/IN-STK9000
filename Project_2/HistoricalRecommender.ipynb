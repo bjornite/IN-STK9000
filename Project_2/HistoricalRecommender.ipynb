{
 "cells": [
  {
   "cell_type": "code",
   "execution_count": 1,
   "metadata": {},
   "outputs": [],
   "source": [
    "import numpy as np\n",
    "import pandas as pd\n",
    "\n",
    "import matplotlib.pyplot as plt\n",
    "import seaborn as sns\n",
    "sns.set()\n",
    "\n",
    "from sklearn import cluster\n",
    "from sklearn.model_selection import train_test_split\n",
    "from sklearn.metrics import pairwise_distances_argmin, classification_report\n",
    "\n",
    "from sklearn.cluster import AgglomerativeClustering, KMeans\n",
    "import scipy.cluster.hierarchy as shc\n",
    "\n",
    "import seaborn as sns"
   ]
  },
  {
   "cell_type": "code",
   "execution_count": 2,
   "metadata": {},
   "outputs": [
    {
     "name": "stderr",
     "output_type": "stream",
     "text": [
      "Using TensorFlow backend.\n"
     ]
    }
   ],
   "source": [
    "from keras.models import Model\n",
    "from keras.models import Sequential\n",
    "from keras.layers import Dense, Dropout, BatchNormalization\n",
    "from keras.optimizers import RMSprop\n",
    "from keras import regularizers\n",
    "from sklearn.decomposition import PCA"
   ]
  },
  {
   "cell_type": "code",
   "execution_count": 3,
   "metadata": {},
   "outputs": [],
   "source": [
    "# Read the data\n",
    "features = pd.read_csv('./medical/historical_X.dat', header=None, sep=\" \").values\n",
    "actions = pd.read_csv('./medical/historical_A.dat', header=None, sep=\" \").values\n",
    "outcome = pd.read_csv('./medical/historical_Y.dat', header=None, sep=\" \").values\n",
    "observations = features[:, :128]\n",
    "labels = features[:,128] + features[:,129]*2"
   ]
  },
  {
   "cell_type": "code",
   "execution_count": 4,
   "metadata": {},
   "outputs": [],
   "source": [
    "pca = PCA(.70)\n",
    "feat_red = pca.fit_transform(features)"
   ]
  },
  {
   "cell_type": "code",
   "execution_count": null,
   "metadata": {},
   "outputs": [],
   "source": []
  },
  {
   "cell_type": "code",
   "execution_count": 44,
   "metadata": {},
   "outputs": [],
   "source": [
    "#Start by implementing a model\n",
    "\n",
    "\n",
    "# -*- Mode: python -*-\n",
    "# A simple reference recommender\n",
    "#\n",
    "#\n",
    "# This is a medical scenario with historical data. \n",
    "#\n",
    "# General functions\n",
    "#\n",
    "# - set_reward\n",
    "# \n",
    "# There is a set of functions for dealing with historical data:\n",
    "#\n",
    "# - fit_data\n",
    "# - fit_treatment_outcome\n",
    "# - estimate_utiltiy\n",
    "#\n",
    "# There is a set of functions for online decision making\n",
    "#\n",
    "# - predict_proba\n",
    "# - recommend\n",
    "# - observe\n",
    "\n",
    "from sklearn import linear_model\n",
    "from sklearn.model_selection import GridSearchCV\n",
    "import numpy as np\n",
    "\n",
    "\n",
    "class NNDoctor_imp:\n",
    "    def __init__(self, \n",
    "                 n_actions=1, \n",
    "                 n_outcomes=1, \n",
    "                 layer_sizes=[64, 16],\n",
    "                 batch_size=5,\n",
    "                 epochs=5,\n",
    "                 optimizer=\"adam\",\n",
    "                 loss=\"binary_crossentropy\",\n",
    "                 alpha = 0.0001):\n",
    "        self.n_actions = n_actions\n",
    "        self.n_outcomes = n_outcomes\n",
    "        self.reward = self._default_reward\n",
    "        self.layer_sizes = layer_sizes\n",
    "        self.batch_size = batch_size\n",
    "        self.epochs = epochs\n",
    "        self.optimizer = optimizer\n",
    "        self.loss = loss\n",
    "        self.alpha = alpha\n",
    "        \n",
    "    def _default_reward(self, action, outcome):\n",
    "        return -0.1*action + outcome\n",
    "        \n",
    "    def get_params(self, deep=True):\n",
    "        return {k: v for k, v in self.__dict__.items() if not callable(v)}\n",
    "\n",
    "    def set_params(self, **parameters):\n",
    "        for parameter, value in parameters.items():\n",
    "            setattr(self, parameter, value)\n",
    "        return self\n",
    "\n",
    "    def predict_proba(self, X):\n",
    "        return self.model.predict(X)\n",
    "\n",
    "    def fit(self, X, y):\n",
    "        self.model = self.build_network(X, y)\n",
    "        self.model.fit(X, y, epochs=self.epochs, batch_size=self.batch_size, verbose=0)\n",
    "\n",
    "    def predict(self, Xtest):\n",
    "        return self.model.predict(Xtest)\n",
    "    \n",
    "    def predict_classes(self, X):\n",
    "        return self.model.predict_classes(X)\n",
    "    \n",
    "    def build_network(self, X, y):\n",
    "        model = Sequential()\n",
    "        for layer_size in self.layer_sizes:\n",
    "            model.add(Dense(layer_size, activation='elu',kernel_regularizer=regularizers.l2(self.alpha)))\n",
    "        model.add(Dense(self.n_outcomes, activation='sigmoid'))\n",
    "        model.compile(loss=self.loss,\n",
    "                      optimizer=self.optimizer,\n",
    "                      metrics=['accuracy'])\n",
    "        return model\n",
    "    \n",
    "    def score(self, X, y):\n",
    "        return (self.model.predict(X)**2 - y**2).mean()\n",
    "\n",
    "\n",
    "class NNRecommender:\n",
    "\n",
    "    #################################\n",
    "    # Initialise\n",
    "    #\n",
    "    # Set the recommender with a default number of actions and outcomes.  This is\n",
    "    # because the number of actions in historical data can be\n",
    "    # different from the ones that you can take with your policy.\n",
    "    model = None\n",
    "    \n",
    "    def __init__(self, n_actions, n_outcomes):\n",
    "        self.n_actions = n_actions\n",
    "        self.n_outcomes = n_outcomes\n",
    "        self.reward = self._default_reward\n",
    "\n",
    "    ## By default, the reward is just equal to the outcome, as the actions play no role.\n",
    "    def _default_reward(self, action, outcome):\n",
    "        return -0.1*action + outcome\n",
    "\n",
    "    # Set the reward function r(a, y)\n",
    "    def set_reward(self, reward):\n",
    "        self.reward = reward\n",
    "    \n",
    "    ##################################\n",
    "    # Fit a model from patient data.\n",
    "    #\n",
    "    # This will generally speaking be an\n",
    "    # unsupervised model. Anything from a Gaussian mixture model to a\n",
    "    # neural network is a valid choice.  However, you can give special\n",
    "    # meaning to different parts of the data, and use a supervised\n",
    "    # model instead.\n",
    "    def fit_data(self, data):\n",
    "        print(\"Preprocessing data\")\n",
    "        return None\n",
    "\n",
    "    def train_model(self, X, a, y):\n",
    "        param_grid = {'layer_sizes': [[32, 16], [64, 16]],\n",
    "        'batch_size': [5, 10],\n",
    "        'epochs': [1, 5],\n",
    "        'optimizer': ['Adam', 'sgd'],\n",
    "        'loss': ['mse'],\n",
    "        'alpha': [0.001, 0.0001]}\n",
    "        #self.model = GridSearchCV(NNDoctor(), param_grid, cv=10, n_jobs=4)\n",
    "        self.model = NNDoctor()\n",
    "        self.model.fit(np.concatenate((X, a), axis=1), y)\n",
    "        #print(self.model.best_params_)\n",
    "\n",
    "    ## Fit a model from patient data, actions and their effects\n",
    "    ## Here we assume that the outcome is a direct function of data and actions\n",
    "    ## This model can then be used in estimate_utility(), predict_proba() and recommend()\n",
    "    def fit_treatment_outcome(self, data, actions, outcome):\n",
    "        print(\"Fitting treatment outcomes\")\n",
    "        self.train_model(data, actions, outcome)\n",
    "        return self.model\n",
    "\n",
    "    ## Estimate the utility of a specific policy from historical data (data, actions, outcome),\n",
    "    ## where utility is the expected reward of the policy.\n",
    "    ##\n",
    "    ## If policy is not given, simply use the average reward of the observed actions and outcomes.\n",
    "    ##\n",
    "    ## If a policy is given, then you can either use importance\n",
    "    ## sampling, or use the model you have fitted from historical data\n",
    "    ## to get an estimate of the utility.\n",
    "    ##\n",
    "    ## The policy should be a recommender that implements get_action_probability()\n",
    "    def estimate_utility(self, data, actions, outcome, policy=None):\n",
    "        if policy is None:\n",
    "            return self.reward(actions, outcome).mean()\n",
    "        else:\n",
    "            #predictions_ones = self.model.predict(np.concatenate((data, np.ones(len(data)).reshape(-1,1)), axis = 1))\n",
    "            #predictions_zeros = self.model.predict(np.concatenate((data, np.zeros(len(data)).reshape(-1,1)), axis = 1))\n",
    "            #predictions = np.concatenate((predictions_zeros, predictions_ones), axis=1)\n",
    "            #policy_actions = np.array([policy.get_action_probabilities(x) for x in data])\n",
    "            policy_actions = np.array([policy.recommend(x) for x in data])\n",
    "            predicted_outcomes = self.model.predict(np.concatenate((data, policy_actions.reshape(-1,1)), axis=1))\n",
    "            return self.reward(policy_actions, predicted_outcomes.reshape(1,-1)).mean()\n",
    "            #print(policy_actions)\n",
    "            #res_matrix = np.dot(predictions.T, policy_actions)\n",
    "            #print(res_matrix)\n",
    "            #return (-0.1*policy_actions.sum() + (res_matrix[0][0] + res_matrix[1][1])) / len(data)\n",
    "\n",
    "    # Return a distribution of effects for a given person's data and a specific treatment.\n",
    "    # This should be an numpy.array of length self.n_outcomes\n",
    "    def predict_proba(self, data, treatment):\n",
    "        predictions = self.model.predict(np.concatenate((data, [treatment])).reshape(1,-1)).ravel()\n",
    "        return predictions\n",
    "    \n",
    "    def predict_classes(self, data, treatment):\n",
    "        predictions = self.model.predict_classes(np.concatenate((data, [treatment])).reshape(1,-1)).ravel()\n",
    "        return predictions_classes\n",
    "\n",
    "    # Return a distribution of recommendations for a specific user datum\n",
    "    # This should a numpy array of size equal to self.n_actions, summing up to 1\n",
    "    def get_action_probabilities(self, user_data):\n",
    "        #print(\"Recommending\")\n",
    "        predictions = []\n",
    "        for a in range(self.n_actions):\n",
    "            estimated_outcome = self.model.predict(np.concatenate((user_data, [a])).reshape(1,-1))[0][0]\n",
    "            estimated_reward = self.reward(a, estimated_outcome)\n",
    "            predictions.append(estimated_reward)\n",
    "        return np.exp(predictions)/np.sum(np.exp(predictions))\n",
    "    \n",
    "    def estimate_historic_utility(self, data, actions, outcome):\n",
    "        estimated_outcome = self.model.predict(np.concatenate((data, actions), axis=1))\n",
    "        #outcome_prob = 1/(1 + np.exp(0.5-estimated_outcome))\n",
    "        return self.reward(actions, estimated_outcome).mean()\n",
    "\n",
    "    # Return recommendations for a specific user datum\n",
    "    # This should be an integer in range(self.n_actions)\n",
    "    def recommend(self, user_data):\n",
    "        return np.argmax(self.get_action_probabilities(user_data))\n",
    "\n",
    "    # Observe the effect of an action. This is an opportunity for you\n",
    "    # to refit your models, to take the new information into account.\n",
    "    def observe(self, user, action, outcome):\n",
    "        return None\n",
    "\n",
    "    # After all the data has been obtained, do a final analysis. This can consist of a number of things:\n",
    "    # 1. Recommending a specific fixed treatment policy\n",
    "    # 2. Suggesting looking at specific genes more closely\n",
    "    # 3. Showing whether or not the new treatment might be better than the old, and by how much.\n",
    "    # 4. Outputting an estimate of the advantage of gene-targeting treatments versus the best fixed treatment\n",
    "    def final_analysis(self):\n",
    "        return None\n",
    "\n"
   ]
  },
  {
   "cell_type": "code",
   "execution_count": 45,
   "metadata": {},
   "outputs": [],
   "source": [
    "class NNDoctor_hist:\n",
    "    def __init__(self, \n",
    "                 n_actions=1, \n",
    "                 n_outcomes=1, \n",
    "                 layer_sizes=[64, 16],\n",
    "                 batch_size=5,\n",
    "                 epochs=5,\n",
    "                 optimizer=\"sgd\",\n",
    "                 loss=\"binary_crossentropy\",\n",
    "                 alpha = 0.0001):\n",
    "        self.n_actions = n_actions\n",
    "        self.n_outcomes = n_outcomes\n",
    "        self.reward = self._default_reward\n",
    "        self.layer_sizes = layer_sizes\n",
    "        self.batch_size = batch_size\n",
    "        self.epochs = epochs\n",
    "        self.optimizer = optimizer\n",
    "        self.loss = loss\n",
    "        self.alpha = alpha\n",
    "        \n",
    "    def _default_reward(self, action, outcome):\n",
    "        return -0.1*action + outcome\n",
    "        \n",
    "    def get_params(self, deep=True):\n",
    "        return {k: v for k, v in self.__dict__.items() if not callable(v)}\n",
    "\n",
    "    def set_params(self, **parameters):\n",
    "        for parameter, value in parameters.items():\n",
    "            setattr(self, parameter, value)\n",
    "        return self\n",
    "\n",
    "    def predict_proba(self, X):\n",
    "        return self.model.predict(X)\n",
    "\n",
    "    def fit(self, X, y):\n",
    "        self.model = self.build_network(X, y)\n",
    "        self.model.fit(X, y, epochs=self.epochs, batch_size=self.batch_size, verbose=0)\n",
    "\n",
    "    def predict(self, Xtest):\n",
    "        return self.model.predict(Xtest)\n",
    "    \n",
    "    def predict_classes(self, X):\n",
    "        return self.model.predict_classes(X)\n",
    "    \n",
    "    def build_network(self, X, y):\n",
    "        model = Sequential()\n",
    "        for layer_size in self.layer_sizes:\n",
    "            model.add(Dense(layer_size, activation='elu',kernel_regularizer=regularizers.l2(self.alpha)))\n",
    "        model.add(Dense(self.n_outcomes, activation='sigmoid'))\n",
    "        model.compile(loss=self.loss,\n",
    "                      optimizer=self.optimizer,\n",
    "                      metrics=['accuracy'])\n",
    "        return model\n",
    "    \n",
    "    def score(self, X, y):\n",
    "        return (self.model.predict(X)**2 - y**2).mean()\n",
    "    \n",
    "    \n",
    "# fit on actions instead of outcome\n",
    "\n",
    "class HistoricalRecommender:\n",
    "\n",
    "    model = None\n",
    "\n",
    "    def __init__(self, n_actions, n_outcomes):\n",
    "        self.n_actions = n_actions\n",
    "        self.n_outcomes = n_outcomes\n",
    "        self.reward = self._default_reward\n",
    "\n",
    "    def _default_reward(self, action, outcome):\n",
    "        return -0.1*action + outcome\n",
    "\n",
    "    def set_reward(self, reward):\n",
    "        self.reward = reward\n",
    "\n",
    "    def fit_treatment_outcome(self, data, actions, outcome):\n",
    "        print(\"Fitting treatment outcomes\")\n",
    "        param_grid = {'layer_sizes': [[32, 16], [64, 16]],\n",
    "        'batch_size': [5, 10],\n",
    "        'epochs': [1, 5],\n",
    "        'optimizer': ['Adam', 'sgd'],\n",
    "        'loss': ['mse'],\n",
    "        'alpha': [0.001, 0.0001]}\n",
    "        #self.model = GridSearchCV(NNDoctor(), param_grid, cv=10, n_jobs=4)\n",
    "        self.model = NNDoctor(n_actions=self.n_actions, n_outcomes=self.n_outcomes)\n",
    "        self.model.fit(data, actions)\n",
    "        #print(self.model.best_params_)\n",
    "        return self.model\n",
    "\n",
    "    def estimate_utility(self, data, actions, outcome, policy=None):\n",
    "        if policy is None:\n",
    "            return self.reward(actions, outcome).mean()\n",
    "        else:\n",
    "            policy_actions = np.array([policy.recommend(x) for x in data])\n",
    "            #predicted_outcomes = self.model.predict(data)\n",
    "            return self.reward(policy_actions, outcome).mean() #behind outcome .reshape(1,-1)\n",
    "\n",
    "    def predict_proba(self, data, treatment):\n",
    "        #predictions = self.model.predict(np.concatenate((data, [treatment])).reshape(1,-1)).ravel()\n",
    "        pred = self.model.predict(data)\n",
    "        return pred\n",
    "\n",
    "    def predict_classes(self, data, treatment):\n",
    "        #predictions = self.model.predict(np.concatenate((data, [treatment])).reshape(1,-1)).ravel()\n",
    "        predictions_classes = self.model.predict_classes(data)\n",
    "        return predictions_classes\n",
    "\n",
    "    def get_action_probabilities(self, user_data):\n",
    "        #print(\"Recommending\")\n",
    "        predictions = []\n",
    "        for a in range(self.n_actions):\n",
    "            #estimated_outcome = self.model.predict(np.concatenate((user_data, [a])).reshape(1,-1))[0][0]\n",
    "            estimated_outcome = self.model.predict(user_data.reshape(1,-1))[0][0]\n",
    "            estimated_reward = self.reward(a, estimated_outcome)\n",
    "            predictions.append(estimated_reward)\n",
    "        return np.exp(predictions)/np.sum(np.exp(predictions))\n",
    "\n",
    "    def recommend(self, user_data):\n",
    "        return np.asscalar(self.model.predict_classes(user_data.reshape(1,-1)))\n",
    "        #return np.argmax(self.get_action_probabilities(user_data))\n",
    "\n",
    "    def observe(self, user, action, outcome):\n",
    "        return None\n",
    "\n",
    "    def final_analysis(self):\n",
    "        return None"
   ]
  },
  {
   "cell_type": "code",
   "execution_count": 46,
   "metadata": {},
   "outputs": [
    {
     "name": "stdout",
     "output_type": "stream",
     "text": [
      "2\n"
     ]
    }
   ],
   "source": [
    "nn_hist = HistoricalRecommender(n_actions = len(np.unique(actions)), n_outcomes = outcome.shape[1])\n",
    "nn_imp = NNRecommender(len(np.unique(actions)), outcome.shape[1])\n",
    "\n",
    "nn_hist_red = HistoricalRecommender(n_actions = len(np.unique(actions)), n_outcomes = outcome.shape[1])\n",
    "nn_imp_red = NNRecommender(len(np.unique(actions)), outcome.shape[1])\n",
    "print(len(np.unique(actions)))\n",
    "\n",
    "f_train, f_test, a_train, a_test, o_train, o_test = train_test_split(features, actions, outcome, test_size=.3)\n",
    "\n",
    "f_train_red, f_test_red, a_train, a_test, o_train, o_test = train_test_split(feat_red, actions, outcome, test_size=.3)"
   ]
  },
  {
   "cell_type": "code",
   "execution_count": 47,
   "metadata": {},
   "outputs": [
    {
     "name": "stdout",
     "output_type": "stream",
     "text": [
      "Fitting treatment outcomes\n",
      "Fitting treatment outcomes\n",
      "Fitting treatment outcomes\n",
      "Fitting treatment outcomes\n"
     ]
    },
    {
     "data": {
      "text/plain": [
       "<__main__.NNDoctor at 0x1a3e0b8be0>"
      ]
     },
     "execution_count": 47,
     "metadata": {},
     "output_type": "execute_result"
    }
   ],
   "source": [
    "# fit the data on the features and the action (outcome is disregarded here)\n",
    "\n",
    "nn_hist.fit_treatment_outcome(f_train, a_train, o_train)\n",
    "nn_imp.fit_treatment_outcome(f_train, a_train, o_train)\n",
    "\n",
    "nn_hist_red.fit_treatment_outcome(f_train_red, a_train, o_train)\n",
    "nn_imp_red.fit_treatment_outcome(f_train_red, a_train, o_train)"
   ]
  },
  {
   "cell_type": "code",
   "execution_count": 48,
   "metadata": {},
   "outputs": [
    {
     "name": "stdout",
     "output_type": "stream",
     "text": [
      "(7000, 131)\n",
      "(7000, 130)\n"
     ]
    }
   ],
   "source": [
    "print(np.concatenate((f_train, a_train), axis=1).shape)\n",
    "print(f_train.shape)"
   ]
  },
  {
   "cell_type": "code",
   "execution_count": 49,
   "metadata": {},
   "outputs": [
    {
     "name": "stdout",
     "output_type": "stream",
     "text": [
      "(3000, 130)\n",
      "(3000, 1)\n"
     ]
    }
   ],
   "source": [
    "print(f_test.shape)\n",
    "print(a_test.shape)"
   ]
  },
  {
   "cell_type": "code",
   "execution_count": 50,
   "metadata": {},
   "outputs": [
    {
     "data": {
      "text/plain": [
       "array([[0.21154356],\n",
       "       [0.17390072],\n",
       "       [0.2399498 ],\n",
       "       ...,\n",
       "       [0.18670559],\n",
       "       [0.20280188],\n",
       "       [0.16826114]], dtype=float32)"
      ]
     },
     "execution_count": 50,
     "metadata": {},
     "output_type": "execute_result"
    }
   ],
   "source": [
    "# predicts the probability of action 0\n",
    "\n",
    "nn_hist.predict_proba(f_test, a_test)"
   ]
  },
  {
   "cell_type": "code",
   "execution_count": 51,
   "metadata": {},
   "outputs": [
    {
     "name": "stdout",
     "output_type": "stream",
     "text": [
      "prediction: {0: 3000}\n",
      "actual: {0: 2322, 1: 678}\n",
      "              precision    recall  f1-score   support\n",
      "\n",
      "           0       0.77      1.00      0.87      2322\n",
      "           1       0.00      0.00      0.00       678\n",
      "\n",
      "    accuracy                           0.77      3000\n",
      "   macro avg       0.39      0.50      0.44      3000\n",
      "weighted avg       0.60      0.77      0.68      3000\n",
      "\n"
     ]
    }
   ],
   "source": [
    "pred = nn_hist.predict_classes(f_test, a_test)\n",
    "\n",
    "unique, counts = np.unique(pred, return_counts=True)\n",
    "print('prediction:', dict(zip(unique, counts)))\n",
    "\n",
    "unique, counts = np.unique(a_test, return_counts=True)\n",
    "print('actual:', dict(zip(unique, counts)))\n",
    "\n",
    "print(classification_report(a_test, pred))"
   ]
  },
  {
   "cell_type": "code",
   "execution_count": 52,
   "metadata": {},
   "outputs": [
    {
     "name": "stdout",
     "output_type": "stream",
     "text": [
      "prediction: {0: 2920, 1: 80}\n",
      "actual: {0: 2322, 1: 678}\n",
      "              precision    recall  f1-score   support\n",
      "\n",
      "           0       0.78      0.98      0.87      2322\n",
      "           1       0.55      0.06      0.12       678\n",
      "\n",
      "    accuracy                           0.78      3000\n",
      "   macro avg       0.67      0.52      0.49      3000\n",
      "weighted avg       0.73      0.78      0.70      3000\n",
      "\n"
     ]
    }
   ],
   "source": [
    "pred_red = nn_hist_red.predict_classes(f_test_red, a_test)\n",
    "\n",
    "unique, counts = np.unique(pred_red, return_counts=True)\n",
    "print('prediction:', dict(zip(unique, counts)))\n",
    "\n",
    "unique, counts = np.unique(a_test, return_counts=True)\n",
    "print('actual:', dict(zip(unique, counts)))\n",
    "\n",
    "print(classification_report(a_test, pred_red))"
   ]
  },
  {
   "cell_type": "code",
   "execution_count": 53,
   "metadata": {},
   "outputs": [],
   "source": [
    "action_prob = nn_hist.get_action_probabilities(features[15,:])\n",
    "#print(action_prob.shape)"
   ]
  },
  {
   "cell_type": "code",
   "execution_count": 54,
   "metadata": {},
   "outputs": [
    {
     "data": {
      "text/plain": [
       "array([0.52497919, 0.47502081])"
      ]
     },
     "execution_count": 54,
     "metadata": {},
     "output_type": "execute_result"
    }
   ],
   "source": [
    "nn_hist.get_action_probabilities(features[15,:])"
   ]
  },
  {
   "cell_type": "code",
   "execution_count": 55,
   "metadata": {},
   "outputs": [
    {
     "data": {
      "text/plain": [
       "0"
      ]
     },
     "execution_count": 55,
     "metadata": {},
     "output_type": "execute_result"
    }
   ],
   "source": [
    "nn_hist.recommend(features[15,:])"
   ]
  },
  {
   "cell_type": "code",
   "execution_count": 56,
   "metadata": {},
   "outputs": [],
   "source": [
    "recommend = []\n",
    "for x in range(f_test.shape[0]):\n",
    "    recommend.append(nn_hist.recommend(features[x,:]))\n",
    "\n",
    "recommend_pca = []\n",
    "for x in range(f_test_red.shape[0]):\n",
    "    recommend_pca.append(nn_hist_red.recommend(feat_red[x,:]))"
   ]
  },
  {
   "cell_type": "code",
   "execution_count": 57,
   "metadata": {},
   "outputs": [
    {
     "name": "stdout",
     "output_type": "stream",
     "text": [
      "actual: {0: 3000}\n"
     ]
    }
   ],
   "source": [
    "unique, counts = np.unique(recommend, return_counts=True)\n",
    "print('actual:', dict(zip(unique, counts)))"
   ]
  },
  {
   "cell_type": "code",
   "execution_count": 58,
   "metadata": {},
   "outputs": [
    {
     "name": "stdout",
     "output_type": "stream",
     "text": [
      "actual: {0: 2909, 1: 91}\n"
     ]
    }
   ],
   "source": [
    "unique, counts = np.unique(recommend_pca, return_counts=True)\n",
    "print('actual:', dict(zip(unique, counts)))"
   ]
  },
  {
   "cell_type": "code",
   "execution_count": 59,
   "metadata": {},
   "outputs": [
    {
     "name": "stdout",
     "output_type": "stream",
     "text": [
      "0.11912\n",
      "0.1421\n",
      "0.420233901923895\n",
      "with pca:\n",
      "0.11912\n",
      "0.1393099999999976\n",
      "0.48436286316871646\n"
     ]
    }
   ],
   "source": [
    "# Exercise 1.1:\n",
    "# Implemented estimate_utility above\n",
    "#rec = RandomRecommender(actions.shape[1], actions.shape[1])\n",
    "print(nn_hist.estimate_utility(features, actions, outcome))\n",
    "print(nn_hist.estimate_utility(features, actions, outcome, policy = nn_hist))\n",
    "print(nn_imp.estimate_utility(features, actions, outcome, policy = nn_imp))\n",
    "\n",
    "print('with pca:')\n",
    "print(nn_hist.estimate_utility(features, actions, outcome))\n",
    "print(nn_hist_red.estimate_utility(feat_red, actions, outcome, policy = nn_hist_red))\n",
    "print(nn_imp_red.estimate_utility(feat_red, actions, outcome, policy = nn_imp_red))"
   ]
  },
  {
   "cell_type": "code",
   "execution_count": 63,
   "metadata": {},
   "outputs": [
    {
     "name": "stdout",
     "output_type": "stream",
     "text": [
      "0\n",
      "1\n",
      "2\n",
      "3\n",
      "4\n",
      "5\n",
      "6\n",
      "7\n",
      "8\n",
      "9\n",
      "10\n",
      "11\n",
      "12\n",
      "13\n",
      "14\n",
      "15\n",
      "16\n",
      "17\n",
      "18\n",
      "19\n",
      "20\n",
      "21\n",
      "22\n",
      "23\n",
      "24\n",
      "25\n",
      "26\n",
      "27\n",
      "28\n",
      "29\n",
      "30\n",
      "31\n",
      "32\n",
      "33\n",
      "34\n",
      "35\n",
      "36\n",
      "37\n",
      "38\n",
      "39\n",
      "40\n",
      "41\n",
      "42\n",
      "43\n",
      "44\n",
      "45\n",
      "46\n",
      "47\n",
      "48\n",
      "49\n",
      "50\n",
      "51\n",
      "52\n",
      "53\n",
      "54\n",
      "55\n",
      "56\n",
      "57\n",
      "58\n",
      "59\n",
      "60\n",
      "61\n",
      "62\n",
      "63\n",
      "64\n",
      "65\n",
      "66\n",
      "67\n",
      "68\n",
      "69\n",
      "70\n",
      "71\n",
      "72\n",
      "73\n",
      "74\n",
      "75\n",
      "76\n",
      "77\n",
      "78\n",
      "79\n",
      "80\n",
      "81\n",
      "82\n",
      "83\n",
      "84\n",
      "85\n",
      "86\n",
      "87\n",
      "88\n",
      "89\n",
      "90\n",
      "91\n",
      "92\n",
      "93\n",
      "94\n",
      "95\n",
      "96\n",
      "97\n",
      "98\n",
      "99\n"
     ]
    },
    {
     "data": {
      "image/png": "[encoded data removed]",
      "text/plain": [
       "<Figure size 1080x360 with 3 Axes>"
      ]
     },
     "metadata": {
      "needs_background": "light"
     },
     "output_type": "display_data"
    },
    {
     "data": {
      "text/plain": [
       "<Figure size 432x288 with 0 Axes>"
      ]
     },
     "metadata": {},
     "output_type": "display_data"
    },
    {
     "data": {
      "image/png": "[encoded data removed]",
      "text/plain": [
       "<Figure size 432x576 with 3 Axes>"
      ]
     },
     "metadata": {
      "needs_background": "light"
     },
     "output_type": "display_data"
    },
    {
     "name": "stdout",
     "output_type": "stream",
     "text": [
      "mean utility: 0.1195\n",
      "Utility std: 0.0033\n",
      "mean utility hist: 0.1425\n",
      "Utility std hist: 0.0036\n",
      "mean utility imp: 0.4204\n",
      "Utility std imp: 0.0012\n"
     ]
    }
   ],
   "source": [
    "# Exercise 1.2:\n",
    "# Use bootstrap on the historical dataset to estimate variance of the utility\n",
    "n = features.shape[0]\n",
    "num_samples = 100\n",
    "utils = []\n",
    "utils_hist = []\n",
    "utils_imp = []\n",
    "for i in range(num_samples):\n",
    "    randlist = np.random.randint(n, size=n)\n",
    "    sample_features = features[randlist]\n",
    "    sample_actions = actions[randlist]\n",
    "    sample_outcome = outcome[randlist]\n",
    "    \n",
    "    utils.append(nn_hist.estimate_utility(sample_features, sample_actions, sample_outcome))\n",
    "    utils_hist.append(nn_hist.estimate_utility(sample_features, sample_actions, sample_outcome, policy = nn_hist))\n",
    "    utils_imp.append(nn_imp.estimate_utility(sample_features, sample_actions, sample_outcome, policy = nn_imp))\n",
    "    print(i)\n",
    "\n",
    "\n",
    "fig1, ax = plt.subplots(figsize = (15, 5), ncols = 3)\n",
    "sns.distplot(utils, ax = ax[0])\n",
    "sns.distplot(utils_hist, ax = ax[1])\n",
    "sns.distplot(utils_imp, ax = ax[2])\n",
    "fig1.suptitle('Histograms of the utility')\n",
    "ax[0].set_title('Historic data')\n",
    "ax[1].set_title('Historic policy')\n",
    "ax[2].set_title('Improved policy')\n",
    "\n",
    "ax[0].set_xlabel('Utility')\n",
    "ax[1].set_xlabel('Utility')\n",
    "ax[2].set_xlabel('Utility')\n",
    "\n",
    "fig1.savefig('./Images/histograms.png')\n",
    "plt.show()\n",
    "plt.clf()\n",
    "\n",
    "fig, ax = plt.subplots(nrows=3, sharex=True, figsize=(6,8))\n",
    "fig.suptitle('Histograms of the utility', fontsize = 15, y = 0.92)\n",
    "sns.distplot(utils, ax = ax[0], bins = 20)\n",
    "ax[0].set_title('Historic data', fontsize = 10, y = 0.85)\n",
    "ax[0].xaxis.set_tick_params(which='both', labelbottom=True)\n",
    "\n",
    "sns.distplot(utils_hist, ax = ax[1], bins = 20)\n",
    "ax[1].set_title('Historic policy', fontsize = 10, y = 0.85)\n",
    "#plt.setp(ax=ax[1].get_xticklabels(), visible=True)\n",
    "ax[1].xaxis.set_tick_params(which='both', labelbottom=True)\n",
    "\n",
    "sns.distplot(utils_imp, ax = ax[2], bins = 20)\n",
    "ax[2].set_title('Improved policy', fontsize = 10, y = 0.85)\n",
    "ax[2].set_xlabel('Utility', fontsize = 8)\n",
    "plt.savefig('./Images/histograms1.png')\n",
    "plt.show()\n",
    "\n",
    "\n",
    "print(\"mean utility: {0:.4f}\".format(np.mean(utils)))\n",
    "print(\"Utility std: {0:.4f}\".format(np.std(utils)))\n",
    "\n",
    "print(\"mean utility hist: {0:.4f}\".format(np.mean(utils_hist)))\n",
    "print(\"Utility std hist: {0:.4f}\".format(np.std(utils_hist)))\n",
    "\n",
    "print(\"mean utility imp: {0:.4f}\".format(np.mean(utils_imp)))\n",
    "print(\"Utility std imp: {0:.4f}\".format(np.std(utils_imp)))"
   ]
  },
  {
   "cell_type": "code",
   "execution_count": 61,
   "metadata": {},
   "outputs": [
    {
     "name": "stdout",
     "output_type": "stream",
     "text": [
      "0\n",
      "1\n",
      "2\n",
      "3\n",
      "4\n",
      "5\n",
      "6\n",
      "7\n",
      "8\n",
      "9\n",
      "10\n",
      "11\n",
      "12\n",
      "13\n",
      "14\n",
      "15\n",
      "16\n",
      "17\n",
      "18\n",
      "19\n",
      "20\n",
      "21\n",
      "22\n",
      "23\n",
      "24\n",
      "25\n",
      "26\n",
      "27\n",
      "28\n",
      "29\n",
      "30\n",
      "31\n",
      "32\n",
      "33\n",
      "34\n",
      "35\n",
      "36\n",
      "37\n",
      "38\n",
      "39\n",
      "40\n",
      "41\n",
      "42\n",
      "43\n",
      "44\n",
      "45\n",
      "46\n",
      "47\n",
      "48\n",
      "49\n",
      "50\n",
      "51\n",
      "52\n",
      "53\n",
      "54\n",
      "55\n",
      "56\n",
      "57\n",
      "58\n",
      "59\n",
      "60\n",
      "61\n",
      "62\n",
      "63\n",
      "64\n",
      "65\n",
      "66\n",
      "67\n",
      "68\n",
      "69\n",
      "70\n",
      "71\n",
      "72\n",
      "73\n",
      "74\n",
      "75\n",
      "76\n",
      "77\n",
      "78\n",
      "79\n",
      "80\n",
      "81\n",
      "82\n",
      "83\n",
      "84\n",
      "85\n",
      "86\n",
      "87\n",
      "88\n",
      "89\n",
      "90\n",
      "91\n",
      "92\n",
      "93\n",
      "94\n",
      "95\n",
      "96\n",
      "97\n",
      "98\n",
      "99\n"
     ]
    },
    {
     "data": {
      "image/png": "[encoded data removed]",
      "text/plain": [
       "<Figure size 1080x360 with 3 Axes>"
      ]
     },
     "metadata": {
      "needs_background": "light"
     },
     "output_type": "display_data"
    },
    {
     "name": "stdout",
     "output_type": "stream",
     "text": [
      "mean utility: 0.1189\n",
      "Utility std: 0.0030\n",
      "mean utility hist: 0.2262\n",
      "Utility std hist: 0.0018\n",
      "mean utility imp: 0.4780\n",
      "Utility std imp: 0.0034\n"
     ]
    },
    {
     "data": {
      "text/plain": [
       "<Figure size 432x288 with 0 Axes>"
      ]
     },
     "metadata": {},
     "output_type": "display_data"
    }
   ],
   "source": [
    "# Exercise 1.2:\n",
    "# Use bootstrap on the historical dataset to estimate variance of the utility\n",
    "\n",
    "#for the reduced dataset \n",
    "n = feat_red.shape[0]\n",
    "num_samples = 100\n",
    "utils = []\n",
    "utils_hist = []\n",
    "utils_imp = []\n",
    "for i in range(num_samples):\n",
    "    randlist = np.random.randint(n, size=n)\n",
    "    sample_features = feat_red[randlist]\n",
    "    sample_actions = actions[randlist]\n",
    "    sample_outcome = outcome[randlist]\n",
    "    utils.append(nn_hist_red.estimate_utility(sample_features, sample_actions, sample_outcome))\n",
    "    utils_hist.append(nn_hist_red.estimate_utility(sample_features, sample_actions, sample_outcome, policy = nn_hist_red))\n",
    "    utils_imp.append(nn_imp_red.estimate_utility(sample_features, sample_actions, sample_outcome, policy = nn_imp_red))\n",
    "    print(i)\n",
    "\n",
    "\n",
    "fig1, ax = plt.subplots(figsize = (15, 5), ncols = 3)\n",
    "sns.distplot(utils, ax = ax[0])\n",
    "sns.distplot(utils_hist, ax = ax[1])\n",
    "sns.distplot(utils_imp, ax = ax[2])\n",
    "fig1.suptitle('Histograms of the utility')\n",
    "ax[0].set_title('Historic data')\n",
    "ax[1].set_title('Historic policy')\n",
    "ax[2].set_title('Improved policy')\n",
    "fig1.savefig('./Images/histograms_datared.png')\n",
    "plt.show()\n",
    "plt.clf()\n",
    "\n",
    "print(\"mean utility: {0:.4f}\".format(np.mean(utils)))\n",
    "print(\"Utility std: {0:.4f}\".format(np.std(utils)))\n",
    "\n",
    "print(\"mean utility hist: {0:.4f}\".format(np.mean(utils_hist)))\n",
    "print(\"Utility std hist: {0:.4f}\".format(np.std(utils_hist)))\n",
    "\n",
    "print(\"mean utility imp: {0:.4f}\".format(np.mean(utils_imp)))\n",
    "print(\"Utility std imp: {0:.4f}\".format(np.std(utils_imp)))"
   ]
  },
  {
   "cell_type": "code",
   "execution_count": null,
   "metadata": {},
   "outputs": [],
   "source": []
  }
 ],
 "metadata": {
  "kernelspec": {
   "display_name": "Python 3",
   "language": "python",
   "name": "python3"
  },
  "language_info": {
   "codemirror_mode": {
    "name": "ipython",
    "version": 3
   },
   "file_extension": ".py",
   "mimetype": "text/x-python",
   "name": "python",
   "nbconvert_exporter": "python",
   "pygments_lexer": "ipython3",
   "version": "3.7.3"
  }
 },
 "nbformat": 4,
 "nbformat_minor": 2
}
