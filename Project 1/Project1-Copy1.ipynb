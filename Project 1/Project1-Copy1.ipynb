{
 "cells": [
  {
   "cell_type": "code",
   "execution_count": 1,
   "metadata": {},
   "outputs": [],
   "source": [
    "import numpy as np\n",
    "import pandas as pd\n",
    "import seaborn as sns"
   ]
  },
  {
   "cell_type": "code",
   "execution_count": 2,
   "metadata": {},
   "outputs": [],
   "source": [
    "features = ['checking account balance', 'duration', 'credit history',\n",
    "            'purpose', 'amount', 'savings', 'employment', 'installment',\n",
    "            'marital status', 'other debtors', 'residence time',\n",
    "            'property', 'age', 'other installments', 'housing', 'credits',\n",
    "            'job', 'persons', 'phone', 'foreign']\n",
    "target = 'repaid'\n",
    "df = pd.read_csv('./data/german.data', sep=' ',\n",
    "                     names=features+[target])"
   ]
  },
  {
   "cell_type": "code",
   "execution_count": 3,
   "metadata": {},
   "outputs": [],
   "source": [
    "#df.loc[df['repaid'] == 2, 'repaid'] = 0"
   ]
  },
  {
   "cell_type": "code",
   "execution_count": 4,
   "metadata": {},
   "outputs": [
    {
     "data": {
      "text/plain": [
       "<matplotlib.axes._subplots.AxesSubplot at 0x1a1e739b00>"
      ]
     },
     "execution_count": 4,
     "metadata": {},
     "output_type": "execute_result"
    },
    {
     "data": {
      "image/png": "[encoded data removed]",
      "text/plain": [
       "<Figure size 432x288 with 1 Axes>"
      ]
     },
     "metadata": {
      "needs_background": "light"
     },
     "output_type": "display_data"
    }
   ],
   "source": [
    "sns.countplot(x = df[target], data = df)"
   ]
  },
  {
   "cell_type": "code",
   "execution_count": 5,
   "metadata": {},
   "outputs": [
    {
     "name": "stdout",
     "output_type": "stream",
     "text": [
      "percentage of no subscription is 30.0\n",
      "percentage of subscription 70.0\n"
     ]
    }
   ],
   "source": [
    "count_no_loan = len(df[df[target]==2])\n",
    "count_loan = len(df[df[target]==1])\n",
    "pct_of_no_loan = count_no_loan/(count_no_loan+count_loan)\n",
    "print(\"percentage of no subscription is\", pct_of_no_loan*100)\n",
    "pct_of_loan = count_loan/(count_no_loan+count_loan)\n",
    "print(\"percentage of subscription\", pct_of_loan*100)"
   ]
  },
  {
   "cell_type": "code",
   "execution_count": null,
   "metadata": {},
   "outputs": [],
   "source": []
  },
  {
   "cell_type": "code",
   "execution_count": null,
   "metadata": {},
   "outputs": [],
   "source": []
  },
  {
   "cell_type": "code",
   "execution_count": 6,
   "metadata": {},
   "outputs": [
    {
     "data": {
      "text/html": [
       "<div>\n",
       "<style scoped>\n",
       "    .dataframe tbody tr th:only-of-type {\n",
       "        vertical-align: middle;\n",
       "    }\n",
       "\n",
       "    .dataframe tbody tr th {\n",
       "        vertical-align: top;\n",
       "    }\n",
       "\n",
       "    .dataframe thead th {\n",
       "        text-align: right;\n",
       "    }\n",
       "</style>\n",
       "<table border=\"1\" class=\"dataframe\">\n",
       "  <thead>\n",
       "    <tr style=\"text-align: right;\">\n",
       "      <th></th>\n",
       "      <th>checking account balance</th>\n",
       "      <th>duration</th>\n",
       "      <th>credit history</th>\n",
       "      <th>purpose</th>\n",
       "      <th>amount</th>\n",
       "      <th>savings</th>\n",
       "      <th>employment</th>\n",
       "      <th>installment</th>\n",
       "      <th>marital status</th>\n",
       "      <th>other debtors</th>\n",
       "      <th>...</th>\n",
       "      <th>property</th>\n",
       "      <th>age</th>\n",
       "      <th>other installments</th>\n",
       "      <th>housing</th>\n",
       "      <th>credits</th>\n",
       "      <th>job</th>\n",
       "      <th>persons</th>\n",
       "      <th>phone</th>\n",
       "      <th>foreign</th>\n",
       "      <th>repaid</th>\n",
       "    </tr>\n",
       "  </thead>\n",
       "  <tbody>\n",
       "    <tr>\n",
       "      <th>0</th>\n",
       "      <td>A11</td>\n",
       "      <td>6</td>\n",
       "      <td>A34</td>\n",
       "      <td>A43</td>\n",
       "      <td>1169</td>\n",
       "      <td>A65</td>\n",
       "      <td>A75</td>\n",
       "      <td>4</td>\n",
       "      <td>A93</td>\n",
       "      <td>A101</td>\n",
       "      <td>...</td>\n",
       "      <td>A121</td>\n",
       "      <td>67</td>\n",
       "      <td>A143</td>\n",
       "      <td>A152</td>\n",
       "      <td>2</td>\n",
       "      <td>A173</td>\n",
       "      <td>1</td>\n",
       "      <td>A192</td>\n",
       "      <td>A201</td>\n",
       "      <td>1</td>\n",
       "    </tr>\n",
       "    <tr>\n",
       "      <th>1</th>\n",
       "      <td>A12</td>\n",
       "      <td>48</td>\n",
       "      <td>A32</td>\n",
       "      <td>A43</td>\n",
       "      <td>5951</td>\n",
       "      <td>A61</td>\n",
       "      <td>A73</td>\n",
       "      <td>2</td>\n",
       "      <td>A92</td>\n",
       "      <td>A101</td>\n",
       "      <td>...</td>\n",
       "      <td>A121</td>\n",
       "      <td>22</td>\n",
       "      <td>A143</td>\n",
       "      <td>A152</td>\n",
       "      <td>1</td>\n",
       "      <td>A173</td>\n",
       "      <td>1</td>\n",
       "      <td>A191</td>\n",
       "      <td>A201</td>\n",
       "      <td>2</td>\n",
       "    </tr>\n",
       "    <tr>\n",
       "      <th>2</th>\n",
       "      <td>A14</td>\n",
       "      <td>12</td>\n",
       "      <td>A34</td>\n",
       "      <td>A46</td>\n",
       "      <td>2096</td>\n",
       "      <td>A61</td>\n",
       "      <td>A74</td>\n",
       "      <td>2</td>\n",
       "      <td>A93</td>\n",
       "      <td>A101</td>\n",
       "      <td>...</td>\n",
       "      <td>A121</td>\n",
       "      <td>49</td>\n",
       "      <td>A143</td>\n",
       "      <td>A152</td>\n",
       "      <td>1</td>\n",
       "      <td>A172</td>\n",
       "      <td>2</td>\n",
       "      <td>A191</td>\n",
       "      <td>A201</td>\n",
       "      <td>1</td>\n",
       "    </tr>\n",
       "    <tr>\n",
       "      <th>3</th>\n",
       "      <td>A11</td>\n",
       "      <td>42</td>\n",
       "      <td>A32</td>\n",
       "      <td>A42</td>\n",
       "      <td>7882</td>\n",
       "      <td>A61</td>\n",
       "      <td>A74</td>\n",
       "      <td>2</td>\n",
       "      <td>A93</td>\n",
       "      <td>A103</td>\n",
       "      <td>...</td>\n",
       "      <td>A122</td>\n",
       "      <td>45</td>\n",
       "      <td>A143</td>\n",
       "      <td>A153</td>\n",
       "      <td>1</td>\n",
       "      <td>A173</td>\n",
       "      <td>2</td>\n",
       "      <td>A191</td>\n",
       "      <td>A201</td>\n",
       "      <td>1</td>\n",
       "    </tr>\n",
       "    <tr>\n",
       "      <th>4</th>\n",
       "      <td>A11</td>\n",
       "      <td>24</td>\n",
       "      <td>A33</td>\n",
       "      <td>A40</td>\n",
       "      <td>4870</td>\n",
       "      <td>A61</td>\n",
       "      <td>A73</td>\n",
       "      <td>3</td>\n",
       "      <td>A93</td>\n",
       "      <td>A101</td>\n",
       "      <td>...</td>\n",
       "      <td>A124</td>\n",
       "      <td>53</td>\n",
       "      <td>A143</td>\n",
       "      <td>A153</td>\n",
       "      <td>2</td>\n",
       "      <td>A173</td>\n",
       "      <td>2</td>\n",
       "      <td>A191</td>\n",
       "      <td>A201</td>\n",
       "      <td>2</td>\n",
       "    </tr>\n",
       "  </tbody>\n",
       "</table>\n",
       "<p>5 rows × 21 columns</p>\n",
       "</div>"
      ],
      "text/plain": [
       "  checking account balance  duration credit history purpose  amount savings  \\\n",
       "0                      A11         6            A34     A43    1169     A65   \n",
       "1                      A12        48            A32     A43    5951     A61   \n",
       "2                      A14        12            A34     A46    2096     A61   \n",
       "3                      A11        42            A32     A42    7882     A61   \n",
       "4                      A11        24            A33     A40    4870     A61   \n",
       "\n",
       "  employment  installment marital status other debtors  ...  property age  \\\n",
       "0        A75            4            A93          A101  ...      A121  67   \n",
       "1        A73            2            A92          A101  ...      A121  22   \n",
       "2        A74            2            A93          A101  ...      A121  49   \n",
       "3        A74            2            A93          A103  ...      A122  45   \n",
       "4        A73            3            A93          A101  ...      A124  53   \n",
       "\n",
       "   other installments housing credits   job persons  phone foreign repaid  \n",
       "0                A143    A152       2  A173       1   A192    A201      1  \n",
       "1                A143    A152       1  A173       1   A191    A201      2  \n",
       "2                A143    A152       1  A172       2   A191    A201      1  \n",
       "3                A143    A153       1  A173       2   A191    A201      1  \n",
       "4                A143    A153       2  A173       2   A191    A201      2  \n",
       "\n",
       "[5 rows x 21 columns]"
      ]
     },
     "execution_count": 6,
     "metadata": {},
     "output_type": "execute_result"
    }
   ],
   "source": [
    "df.head()"
   ]
  },
  {
   "cell_type": "code",
   "execution_count": 7,
   "metadata": {},
   "outputs": [
    {
     "name": "stdout",
     "output_type": "stream",
     "text": [
      "<class 'pandas.core.frame.DataFrame'>\n",
      "RangeIndex: 1000 entries, 0 to 999\n",
      "Data columns (total 21 columns):\n",
      "checking account balance    1000 non-null object\n",
      "duration                    1000 non-null int64\n",
      "credit history              1000 non-null object\n",
      "purpose                     1000 non-null object\n",
      "amount                      1000 non-null int64\n",
      "savings                     1000 non-null object\n",
      "employment                  1000 non-null object\n",
      "installment                 1000 non-null int64\n",
      "marital status              1000 non-null object\n",
      "other debtors               1000 non-null object\n",
      "residence time              1000 non-null int64\n",
      "property                    1000 non-null object\n",
      "age                         1000 non-null int64\n",
      "other installments          1000 non-null object\n",
      "housing                     1000 non-null object\n",
      "credits                     1000 non-null int64\n",
      "job                         1000 non-null object\n",
      "persons                     1000 non-null int64\n",
      "phone                       1000 non-null object\n",
      "foreign                     1000 non-null object\n",
      "repaid                      1000 non-null int64\n",
      "dtypes: int64(8), object(13)\n",
      "memory usage: 164.1+ KB\n"
     ]
    }
   ],
   "source": [
    "df.info()"
   ]
  },
  {
   "cell_type": "code",
   "execution_count": 8,
   "metadata": {},
   "outputs": [],
   "source": [
    "import matplotlib.pyplot as plt\n",
    "numerical_features = ['duration', 'age', 'residence time', 'installment', 'amount', 'duration', 'persons', 'credits']\n",
    "quantitative_features = list(filter(lambda x: x not in numerical_features, features))\n",
    "X = pd.get_dummies(df, columns=quantitative_features, drop_first=True)\n",
    "encoded_features = list(filter(lambda x: x != target, X.columns))"
   ]
  },
  {
   "cell_type": "code",
   "execution_count": 9,
   "metadata": {},
   "outputs": [
    {
     "data": {
      "text/html": [
       "<div>\n",
       "<style scoped>\n",
       "    .dataframe tbody tr th:only-of-type {\n",
       "        vertical-align: middle;\n",
       "    }\n",
       "\n",
       "    .dataframe tbody tr th {\n",
       "        vertical-align: top;\n",
       "    }\n",
       "\n",
       "    .dataframe thead th {\n",
       "        text-align: right;\n",
       "    }\n",
       "</style>\n",
       "<table border=\"1\" class=\"dataframe\">\n",
       "  <thead>\n",
       "    <tr style=\"text-align: right;\">\n",
       "      <th></th>\n",
       "      <th>duration</th>\n",
       "      <th>amount</th>\n",
       "      <th>installment</th>\n",
       "      <th>residence time</th>\n",
       "      <th>age</th>\n",
       "      <th>credits</th>\n",
       "      <th>persons</th>\n",
       "      <th>repaid</th>\n",
       "      <th>checking account balance_A12</th>\n",
       "      <th>checking account balance_A13</th>\n",
       "      <th>...</th>\n",
       "      <th>property_A124</th>\n",
       "      <th>other installments_A142</th>\n",
       "      <th>other installments_A143</th>\n",
       "      <th>housing_A152</th>\n",
       "      <th>housing_A153</th>\n",
       "      <th>job_A172</th>\n",
       "      <th>job_A173</th>\n",
       "      <th>job_A174</th>\n",
       "      <th>phone_A192</th>\n",
       "      <th>foreign_A202</th>\n",
       "    </tr>\n",
       "  </thead>\n",
       "  <tbody>\n",
       "    <tr>\n",
       "      <th>0</th>\n",
       "      <td>6</td>\n",
       "      <td>1169</td>\n",
       "      <td>4</td>\n",
       "      <td>4</td>\n",
       "      <td>67</td>\n",
       "      <td>2</td>\n",
       "      <td>1</td>\n",
       "      <td>1</td>\n",
       "      <td>0</td>\n",
       "      <td>0</td>\n",
       "      <td>...</td>\n",
       "      <td>0</td>\n",
       "      <td>0</td>\n",
       "      <td>1</td>\n",
       "      <td>1</td>\n",
       "      <td>0</td>\n",
       "      <td>0</td>\n",
       "      <td>1</td>\n",
       "      <td>0</td>\n",
       "      <td>1</td>\n",
       "      <td>0</td>\n",
       "    </tr>\n",
       "    <tr>\n",
       "      <th>1</th>\n",
       "      <td>48</td>\n",
       "      <td>5951</td>\n",
       "      <td>2</td>\n",
       "      <td>2</td>\n",
       "      <td>22</td>\n",
       "      <td>1</td>\n",
       "      <td>1</td>\n",
       "      <td>2</td>\n",
       "      <td>1</td>\n",
       "      <td>0</td>\n",
       "      <td>...</td>\n",
       "      <td>0</td>\n",
       "      <td>0</td>\n",
       "      <td>1</td>\n",
       "      <td>1</td>\n",
       "      <td>0</td>\n",
       "      <td>0</td>\n",
       "      <td>1</td>\n",
       "      <td>0</td>\n",
       "      <td>0</td>\n",
       "      <td>0</td>\n",
       "    </tr>\n",
       "    <tr>\n",
       "      <th>2</th>\n",
       "      <td>12</td>\n",
       "      <td>2096</td>\n",
       "      <td>2</td>\n",
       "      <td>3</td>\n",
       "      <td>49</td>\n",
       "      <td>1</td>\n",
       "      <td>2</td>\n",
       "      <td>1</td>\n",
       "      <td>0</td>\n",
       "      <td>0</td>\n",
       "      <td>...</td>\n",
       "      <td>0</td>\n",
       "      <td>0</td>\n",
       "      <td>1</td>\n",
       "      <td>1</td>\n",
       "      <td>0</td>\n",
       "      <td>1</td>\n",
       "      <td>0</td>\n",
       "      <td>0</td>\n",
       "      <td>0</td>\n",
       "      <td>0</td>\n",
       "    </tr>\n",
       "    <tr>\n",
       "      <th>3</th>\n",
       "      <td>42</td>\n",
       "      <td>7882</td>\n",
       "      <td>2</td>\n",
       "      <td>4</td>\n",
       "      <td>45</td>\n",
       "      <td>1</td>\n",
       "      <td>2</td>\n",
       "      <td>1</td>\n",
       "      <td>0</td>\n",
       "      <td>0</td>\n",
       "      <td>...</td>\n",
       "      <td>0</td>\n",
       "      <td>0</td>\n",
       "      <td>1</td>\n",
       "      <td>0</td>\n",
       "      <td>1</td>\n",
       "      <td>0</td>\n",
       "      <td>1</td>\n",
       "      <td>0</td>\n",
       "      <td>0</td>\n",
       "      <td>0</td>\n",
       "    </tr>\n",
       "    <tr>\n",
       "      <th>4</th>\n",
       "      <td>24</td>\n",
       "      <td>4870</td>\n",
       "      <td>3</td>\n",
       "      <td>4</td>\n",
       "      <td>53</td>\n",
       "      <td>2</td>\n",
       "      <td>2</td>\n",
       "      <td>2</td>\n",
       "      <td>0</td>\n",
       "      <td>0</td>\n",
       "      <td>...</td>\n",
       "      <td>1</td>\n",
       "      <td>0</td>\n",
       "      <td>1</td>\n",
       "      <td>0</td>\n",
       "      <td>1</td>\n",
       "      <td>0</td>\n",
       "      <td>1</td>\n",
       "      <td>0</td>\n",
       "      <td>0</td>\n",
       "      <td>0</td>\n",
       "    </tr>\n",
       "  </tbody>\n",
       "</table>\n",
       "<p>5 rows × 49 columns</p>\n",
       "</div>"
      ],
      "text/plain": [
       "   duration  amount  installment  residence time  age  credits  persons  \\\n",
       "0         6    1169            4               4   67        2        1   \n",
       "1        48    5951            2               2   22        1        1   \n",
       "2        12    2096            2               3   49        1        2   \n",
       "3        42    7882            2               4   45        1        2   \n",
       "4        24    4870            3               4   53        2        2   \n",
       "\n",
       "   repaid  checking account balance_A12  checking account balance_A13  ...  \\\n",
       "0       1                             0                             0  ...   \n",
       "1       2                             1                             0  ...   \n",
       "2       1                             0                             0  ...   \n",
       "3       1                             0                             0  ...   \n",
       "4       2                             0                             0  ...   \n",
       "\n",
       "   property_A124  other installments_A142  other installments_A143  \\\n",
       "0              0                        0                        1   \n",
       "1              0                        0                        1   \n",
       "2              0                        0                        1   \n",
       "3              0                        0                        1   \n",
       "4              1                        0                        1   \n",
       "\n",
       "   housing_A152  housing_A153  job_A172  job_A173  job_A174  phone_A192  \\\n",
       "0             1             0         0         1         0           1   \n",
       "1             1             0         0         1         0           0   \n",
       "2             1             0         1         0         0           0   \n",
       "3             0             1         0         1         0           0   \n",
       "4             0             1         0         1         0           0   \n",
       "\n",
       "   foreign_A202  \n",
       "0             0  \n",
       "1             0  \n",
       "2             0  \n",
       "3             0  \n",
       "4             0  \n",
       "\n",
       "[5 rows x 49 columns]"
      ]
     },
     "execution_count": 9,
     "metadata": {},
     "output_type": "execute_result"
    }
   ],
   "source": [
    "X.head()"
   ]
  },
  {
   "cell_type": "code",
   "execution_count": 10,
   "metadata": {},
   "outputs": [],
   "source": [
    "# scale data\n",
    "norm = 1/X.std()"
   ]
  },
  {
   "cell_type": "code",
   "execution_count": 11,
   "metadata": {},
   "outputs": [],
   "source": [
    "from sklearn.model_selection import train_test_split"
   ]
  },
  {
   "cell_type": "code",
   "execution_count": 12,
   "metadata": {},
   "outputs": [],
   "source": [
    "# split in training and test data for normalized data\n",
    "Xtrain, Xtest, Xtrain_normal, Xtest_normal, ytrain, ytest = train_test_split(X*norm, X, df[target],\n",
    "            test_size=0.2)"
   ]
  },
  {
   "cell_type": "markdown",
   "metadata": {},
   "source": [
    "# The kNN model"
   ]
  },
  {
   "cell_type": "code",
   "execution_count": 13,
   "metadata": {},
   "outputs": [],
   "source": [
    "from sklearn.neighbors import KNeighborsClassifier\n",
    "from sklearn import metrics\n",
    "from sklearn.model_selection import cross_val_score"
   ]
  },
  {
   "cell_type": "code",
   "execution_count": 14,
   "metadata": {},
   "outputs": [],
   "source": [
    "k_range = range(1,100)\n",
    "scores = {}\n",
    "scores_list = []\n",
    "for k in k_range:\n",
    "    model1 = KNeighborsClassifier(n_neighbors=k)\n",
    "    model1.fit(Xtrain, ytrain)\n",
    "    ypred1 = model1.predict(Xtest)\n",
    "    scores[k] = metrics.accuracy_score(ytest, ypred1)\n",
    "    scores_list.append(metrics.accuracy_score(ytest, ypred1))"
   ]
  },
  {
   "cell_type": "code",
   "execution_count": 15,
   "metadata": {},
   "outputs": [],
   "source": [
    "%matplotlib inline\n",
    "import matplotlib.pyplot as plt"
   ]
  },
  {
   "cell_type": "code",
   "execution_count": 16,
   "metadata": {},
   "outputs": [
    {
     "data": {
      "text/plain": [
       "Text(0, 0.5, 'Accuracy score')"
      ]
     },
     "execution_count": 16,
     "metadata": {},
     "output_type": "execute_result"
    },
    {
     "data": {
      "image/png": "[encoded data removed]",
      "text/plain": [
       "<Figure size 432x288 with 1 Axes>"
      ]
     },
     "metadata": {
      "needs_background": "light"
     },
     "output_type": "display_data"
    }
   ],
   "source": [
    "plt.plot(k_range, scores_list)\n",
    "plt.xlabel('Value of k for kNN')\n",
    "plt.ylabel('Accuracy score')"
   ]
  },
  {
   "cell_type": "code",
   "execution_count": 17,
   "metadata": {},
   "outputs": [
    {
     "data": {
      "text/plain": [
       "dict"
      ]
     },
     "execution_count": 17,
     "metadata": {},
     "output_type": "execute_result"
    }
   ],
   "source": [
    "type(scores)"
   ]
  },
  {
   "cell_type": "code",
   "execution_count": 18,
   "metadata": {},
   "outputs": [],
   "source": [
    "def keywithmaxval(d):\n",
    "     \"\"\" a) create a list of the dict's keys and values; \n",
    "         b) return the key with the max value\"\"\"  \n",
    "     v=list(d.values())\n",
    "     k=list(d.keys())\n",
    "     return k[v.index(max(v))]"
   ]
  },
  {
   "cell_type": "code",
   "execution_count": 19,
   "metadata": {},
   "outputs": [
    {
     "name": "stdout",
     "output_type": "stream",
     "text": [
      "29\n"
     ]
    }
   ],
   "source": [
    "kbest = keywithmaxval(scores)\n",
    "print(kbest)"
   ]
  },
  {
   "cell_type": "code",
   "execution_count": 20,
   "metadata": {},
   "outputs": [],
   "source": [
    "model = KNeighborsClassifier(n_neighbors = kbest).fit(Xtrain, ytrain)"
   ]
  },
  {
   "cell_type": "code",
   "execution_count": 21,
   "metadata": {},
   "outputs": [
    {
     "name": "stdout",
     "output_type": "stream",
     "text": [
      "[2 1 1 1 2 2 1 1 1 2 1 1 1 1 1 2 1 1 1 1 1 2 1 1 1 1 1 1 2 2 1 1 1 2 1 1 1\n",
      " 1 1 1 1 1 1 1 1 1 1 2 1 1 1 1 1 1 1 1 2 1 1 1 1 2 2 1 2 2 2 1 1 1 1 1 1 1\n",
      " 1 1 2 2 1 1 1 1 1 1 1 1 1 1 2 1 1 1 1 1 1 1 1 1 2 1 1 1 1 1 1 1 2 1 2 2 1\n",
      " 1 1 1 1 1 2 1 1 1 2 1 1 1 1 1 1 2 1 1 1 1 1 2 2 1 1 1 1 1 2 1 1 2 1 1 1 1\n",
      " 1 1 1 1 2 1 2 2 1 1 1 2 1 1 1 1 1 1 1 1 1 2 2 1 1 1 2 1 1 1 1 2 1 1 1 1 1\n",
      " 1 1 1 1 1 1 1 1 1 1 1 1 1 1 1]\n"
     ]
    }
   ],
   "source": [
    "ypred = model.predict(Xtest)\n",
    "print(ypred)"
   ]
  },
  {
   "cell_type": "code",
   "execution_count": 22,
   "metadata": {},
   "outputs": [
    {
     "name": "stdout",
     "output_type": "stream",
     "text": [
      "Accuracy: 0.89\n"
     ]
    }
   ],
   "source": [
    "print(\"Accuracy:\", metrics.accuracy_score(ytest, ypred))"
   ]
  },
  {
   "cell_type": "markdown",
   "metadata": {},
   "source": [
    "Confusion matrix\n",
    "\n",
    "An interesting way to evaluate the results is by means of a confusion matrix, which shows the correct and incorrect predictions for each class. In the first row, the first column indicates how many classes 0 were predicted correctly, and the second column, how many classes 0 were predicted as 1. In the second row, we note that all class 0 entries were predicted as class 1."
   ]
  },
  {
   "cell_type": "code",
   "execution_count": 23,
   "metadata": {},
   "outputs": [
    {
     "name": "stdout",
     "output_type": "stream",
     "text": [
      "Confusion matrix:\n",
      " [[140   0]\n",
      " [ 22  38]]\n"
     ]
    },
    {
     "data": {
      "image/png": "[encoded data removed]",
      "text/plain": [
       "<Figure size 432x288 with 2 Axes>"
      ]
     },
     "metadata": {
      "needs_background": "light"
     },
     "output_type": "display_data"
    }
   ],
   "source": [
    "from sklearn.metrics import confusion_matrix\n",
    "from matplotlib import pyplot as plt\n",
    "\n",
    "conf_mat = confusion_matrix(y_true=ytest, y_pred=ypred)\n",
    "print('Confusion matrix:\\n', conf_mat)\n",
    "\n",
    "labels = ['Class 0', 'Class 1']\n",
    "fig = plt.figure()\n",
    "ax = fig.add_subplot(111)\n",
    "cax = ax.matshow(conf_mat, cmap=plt.cm.Blues)\n",
    "fig.colorbar(cax)\n",
    "ax.set_xticklabels([''] + labels)\n",
    "ax.set_yticklabels([''] + labels)\n",
    "plt.xlabel('Predicted')\n",
    "plt.ylabel('Expected')\n",
    "plt.show()"
   ]
  },
  {
   "cell_type": "code",
   "execution_count": 24,
   "metadata": {},
   "outputs": [
    {
     "name": "stdout",
     "output_type": "stream",
     "text": [
      "[0.48275862 1.         0.75862069 0.89655172 0.31034483 0.37931034\n",
      " 0.86206897 0.79310345 0.86206897 0.27586207 0.51724138 0.79310345\n",
      " 0.89655172 0.75862069 0.93103448 0.44827586 0.96551724 0.82758621\n",
      " 0.86206897 0.96551724 0.86206897 0.27586207 0.65517241 0.93103448\n",
      " 0.86206897 0.89655172 0.96551724 0.82758621 0.27586207 0.31034483\n",
      " 0.55172414 0.93103448 0.89655172 0.48275862 0.93103448 0.72413793\n",
      " 0.89655172 0.89655172 0.79310345 0.96551724 0.79310345 0.86206897\n",
      " 0.79310345 0.86206897 0.62068966 0.86206897 0.75862069 0.37931034\n",
      " 0.75862069 0.89655172 0.68965517 0.86206897 0.5862069  0.86206897\n",
      " 0.65517241 0.93103448 0.31034483 0.89655172 0.51724138 0.89655172\n",
      " 0.68965517 0.34482759 0.31034483 0.68965517 0.44827586 0.31034483\n",
      " 0.37931034 0.86206897 0.62068966 0.96551724 0.86206897 0.86206897\n",
      " 0.86206897 0.72413793 0.72413793 0.68965517 0.34482759 0.31034483\n",
      " 0.89655172 0.96551724 0.89655172 0.79310345 0.62068966 0.93103448\n",
      " 0.68965517 0.86206897 0.82758621 0.96551724 0.44827586 0.62068966\n",
      " 0.5862069  0.86206897 0.86206897 1.         0.86206897 0.55172414\n",
      " 0.86206897 0.82758621 0.27586207 0.72413793 0.89655172 0.86206897\n",
      " 0.86206897 0.5862069  1.         0.72413793 0.48275862 0.72413793\n",
      " 0.44827586 0.44827586 0.79310345 0.62068966 0.51724138 0.82758621\n",
      " 0.89655172 0.89655172 0.44827586 0.93103448 0.89655172 0.86206897\n",
      " 0.37931034 1.         0.55172414 0.93103448 0.65517241 0.89655172\n",
      " 0.79310345 0.24137931 0.86206897 0.86206897 0.68965517 0.96551724\n",
      " 0.79310345 0.37931034 0.34482759 0.96551724 0.86206897 0.82758621\n",
      " 0.79310345 0.96551724 0.4137931  0.55172414 0.75862069 0.37931034\n",
      " 0.93103448 0.89655172 0.89655172 0.79310345 0.82758621 0.62068966\n",
      " 0.55172414 0.68965517 0.4137931  0.51724138 0.48275862 0.44827586\n",
      " 0.5862069  0.86206897 0.86206897 0.4137931  0.72413793 0.82758621\n",
      " 0.55172414 0.89655172 0.79310345 0.72413793 0.62068966 0.51724138\n",
      " 0.82758621 0.48275862 0.31034483 0.82758621 0.5862069  0.86206897\n",
      " 0.44827586 0.79310345 0.79310345 0.89655172 0.82758621 0.4137931\n",
      " 0.75862069 0.65517241 0.93103448 0.62068966 0.89655172 0.65517241\n",
      " 0.72413793 0.62068966 0.51724138 0.72413793 0.75862069 0.62068966\n",
      " 0.86206897 0.86206897 0.89655172 0.82758621 0.96551724 0.79310345\n",
      " 0.86206897 1.        ]\n"
     ]
    }
   ],
   "source": [
    "predicted_prob = model.predict_proba(Xtest)[:, 0] #probability of belonging to class 1\n",
    "print(predicted_prob)"
   ]
  },
  {
   "cell_type": "code",
   "execution_count": null,
   "metadata": {},
   "outputs": [],
   "source": []
  },
  {
   "cell_type": "code",
   "execution_count": 25,
   "metadata": {},
   "outputs": [],
   "source": [
    "interest_rate = 0.005"
   ]
  },
  {
   "cell_type": "code",
   "execution_count": 33,
   "metadata": {},
   "outputs": [],
   "source": [
    "gain = Xtest_normal['amount']*((1 + interest_rate)**(Xtest_normal['duration']) - 1)\n",
    "#gain"
   ]
  },
  {
   "cell_type": "code",
   "execution_count": 32,
   "metadata": {},
   "outputs": [
    {
     "name": "stdout",
     "output_type": "stream",
     "text": [
      "237   -1283\n",
      "250      20\n",
      "132    -494\n",
      "726     -44\n",
      "124   -1270\n",
      "834   -1375\n",
      "713    -111\n",
      "255     517\n",
      "586    -275\n",
      "714   -8807\n",
      "9     -2089\n",
      "785    -256\n",
      "694      24\n",
      "198    -399\n",
      "895    1021\n",
      "470   -1529\n",
      "159      -9\n",
      "956    -142\n",
      "903     -98\n",
      "786     207\n",
      "421    -171\n",
      "63    -9366\n",
      "741    -326\n",
      "606     223\n",
      "872     -39\n",
      "644     -36\n",
      "960      -8\n",
      "47     -199\n",
      "595    -666\n",
      "172   -1341\n",
      "       ... \n",
      "10     -868\n",
      "309     -37\n",
      "540    -579\n",
      "7       219\n",
      "789   -2715\n",
      "436    -120\n",
      "354    -120\n",
      "281     -75\n",
      "672    1205\n",
      "186   -2909\n",
      "821    -586\n",
      "70    -1756\n",
      "299      92\n",
      "588    -390\n",
      "179      -2\n",
      "176    -784\n",
      "148    -716\n",
      "195    -526\n",
      "240    -381\n",
      "229    -578\n",
      "630    -530\n",
      "80    -1785\n",
      "990    -302\n",
      "403     -60\n",
      "506     -79\n",
      "97     -248\n",
      "467    1640\n",
      "511    -238\n",
      "384       5\n",
      "94       81\n",
      "Length: 200, dtype: int64\n"
     ]
    }
   ],
   "source": [
    "expected_utility = ((gain*predicted_prob)-(Xtest_normal['amount']*(1-predicted_prob))).astype(int)\n",
    "print(expected_utility)"
   ]
  },
  {
   "cell_type": "code",
   "execution_count": 28,
   "metadata": {},
   "outputs": [],
   "source": [
    "expected_utility[expected_utility > 0] = 1\n",
    "expected_utility[expected_utility < 0] = 2\n",
    "#print(expected_utility)"
   ]
  },
  {
   "cell_type": "code",
   "execution_count": 29,
   "metadata": {},
   "outputs": [],
   "source": [
    "actions = expected_utility\n",
    "#actions"
   ]
  },
  {
   "cell_type": "code",
   "execution_count": 30,
   "metadata": {},
   "outputs": [
    {
     "data": {
      "text/plain": [
       "24846.201105183594"
      ]
     },
     "execution_count": 30,
     "metadata": {},
     "output_type": "execute_result"
    }
   ],
   "source": [
    "n_test_examples = len(Xtest)\n",
    "utility = 0\n",
    "    \n",
    "for t in range(n_test_examples):\n",
    "        action = actions.iloc[t]\n",
    "        good_loan = ytest.iloc[t] # assume the labels are correct\n",
    "        duration = Xtest_normal['duration'].iloc[t]\n",
    "        amount = Xtest_normal['amount'].iloc[t]\n",
    "        # If we don't grant the loan then nothing happens\n",
    "        if (action==1):\n",
    "            if (good_loan != 1):\n",
    "                utility -= amount\n",
    "            else:    \n",
    "                utility += amount*(pow(1 + interest_rate, duration) - 1)\n",
    "                \n",
    "utility"
   ]
  },
  {
   "cell_type": "code",
   "execution_count": 31,
   "metadata": {},
   "outputs": [
    {
     "ename": "NameError",
     "evalue": "name 'decision_maker' is not defined",
     "output_type": "error",
     "traceback": [
      "\u001b[0;31m---------------------------------------------------------------------------\u001b[0m",
      "\u001b[0;31mNameError\u001b[0m                                 Traceback (most recent call last)",
      "\u001b[0;32m<ipython-input-31-5d21d84ae847>\u001b[0m in \u001b[0;36m<module>\u001b[0;34m\u001b[0m\n\u001b[1;32m      5\u001b[0m \u001b[0;34m\u001b[0m\u001b[0m\n\u001b[1;32m      6\u001b[0m     \u001b[0mX_train\u001b[0m\u001b[0;34m,\u001b[0m \u001b[0mX_test\u001b[0m\u001b[0;34m,\u001b[0m \u001b[0my_train\u001b[0m\u001b[0;34m,\u001b[0m \u001b[0my_test\u001b[0m \u001b[0;34m=\u001b[0m \u001b[0mtrain_test_split\u001b[0m\u001b[0;34m(\u001b[0m\u001b[0mX\u001b[0m\u001b[0;34m[\u001b[0m\u001b[0mencoded_features\u001b[0m\u001b[0;34m]\u001b[0m\u001b[0;34m,\u001b[0m \u001b[0mX\u001b[0m\u001b[0;34m[\u001b[0m\u001b[0mtarget\u001b[0m\u001b[0;34m]\u001b[0m\u001b[0;34m,\u001b[0m \u001b[0mtest_size\u001b[0m\u001b[0;34m=\u001b[0m\u001b[0;36m0.2\u001b[0m\u001b[0;34m)\u001b[0m\u001b[0;34m\u001b[0m\u001b[0;34m\u001b[0m\u001b[0m\n\u001b[0;32m----> 7\u001b[0;31m     \u001b[0mdecision_maker\u001b[0m\u001b[0;34m.\u001b[0m\u001b[0mset_interest_rate\u001b[0m\u001b[0;34m(\u001b[0m\u001b[0minterest_rate\u001b[0m\u001b[0;34m)\u001b[0m\u001b[0;34m\u001b[0m\u001b[0;34m\u001b[0m\u001b[0m\n\u001b[0m\u001b[1;32m      8\u001b[0m     \u001b[0mdecision_maker\u001b[0m\u001b[0;34m.\u001b[0m\u001b[0mfit\u001b[0m\u001b[0;34m(\u001b[0m\u001b[0mX_train\u001b[0m\u001b[0;34m,\u001b[0m \u001b[0my_train\u001b[0m\u001b[0;34m)\u001b[0m\u001b[0;34m\u001b[0m\u001b[0;34m\u001b[0m\u001b[0m\n\u001b[1;32m      9\u001b[0m \u001b[0;34m\u001b[0m\u001b[0m\n",
      "\u001b[0;31mNameError\u001b[0m: name 'decision_maker' is not defined"
     ]
    }
   ],
   "source": [
    "n_tests = 10\n",
    "utility = 0\n",
    "for iter in range(n_tests):\n",
    "    \n",
    "    \n",
    "    X_train, X_test, y_train, y_test = train_test_split(X[encoded_features], X[target], test_size=0.2)\n",
    "    decision_maker.set_interest_rate(interest_rate)\n",
    "    decision_maker.fit(X_train, y_train)\n",
    "    \n",
    "    utility += test_decision_maker(X_test, y_test, interest_rate, decision_maker)\n",
    "    #print(utility)\n",
    "print(\"Mean utility\")\n",
    "print(utility / n_tests)"
   ]
  },
  {
   "cell_type": "code",
   "execution_count": null,
   "metadata": {},
   "outputs": [],
   "source": []
  }
 ],
 "metadata": {
  "kernelspec": {
   "display_name": "Python 3",
   "language": "python",
   "name": "python3"
  },
  "language_info": {
   "codemirror_mode": {
    "name": "ipython",
    "version": 3
   },
   "file_extension": ".py",
   "mimetype": "text/x-python",
   "name": "python",
   "nbconvert_exporter": "python",
   "pygments_lexer": "ipython3",
   "version": "3.7.3"
  }
 },
 "nbformat": 4,
 "nbformat_minor": 2
}
