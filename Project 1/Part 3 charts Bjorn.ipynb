{
 "cells": [
  {
   "cell_type": "code",
   "execution_count": 46,
   "metadata": {},
   "outputs": [],
   "source": [
    "import pandas as pd\n",
    "import numpy as np\n",
    "import matplotlib.pyplot as plt \n",
    "import seaborn as sns \n",
    "import warnings\n",
    "warnings.filterwarnings('ignore') #action='once')\n",
    "%matplotlib inline\n",
    "features = ['checking account balance', 'duration', 'credit history',\n",
    "            'purpose', 'amount', 'savings', 'employment', 'installment',\n",
    "            'marital status', 'other debtors', 'residence time',\n",
    "            'property', 'age', 'other installments', 'housing', 'credits',\n",
    "            'job', 'persons', 'phone', 'foreign']\n",
    "target = 'repaid'\n",
    "df = pd.read_csv('./data/german.data', sep=' ',\n",
    "                     names=features+[target]) "
   ]
  },
  {
   "cell_type": "code",
   "execution_count": 47,
   "metadata": {},
   "outputs": [
    {
     "data": {
      "text/plain": [
       "Text(0.5,1,'Distribution of age')"
      ]
     },
     "execution_count": 47,
     "metadata": {},
     "output_type": "execute_result"
    },
    {
     "data": {
      "image/png": "[encoded data removed]",
      "text/plain": [
       "<Figure size 432x288 with 1 Axes>"
      ]
     },
     "metadata": {},
     "output_type": "display_data"
    }
   ],
   "source": [
    "sns.distplot(df[\"age\"], kde=False)\n",
    "plt.title(\"Distribution of age\")"
   ]
  },
  {
   "cell_type": "markdown",
   "metadata": {},
   "source": [
    "We split the data into three groups by age:"
   ]
  },
  {
   "cell_type": "code",
   "execution_count": 48,
   "metadata": {},
   "outputs": [],
   "source": [
    "df.sort_values(\"age\", inplace=True)\n",
    "\n",
    "df = df.assign(agegroup = [\"\"]*len(df))\n",
    "split = int(len(df)/3)\n",
    "df[\"agegroup\"].iloc[:split] = \"Young\"\n",
    "df[\"agegroup\"].iloc[split:2*split] = \"Middle\" \n",
    "df[\"agegroup\"].iloc[2*split:] = \"Old\""
   ]
  },
  {
   "cell_type": "code",
   "execution_count": 49,
   "metadata": {},
   "outputs": [
    {
     "data": {
      "text/html": [
       "<div>\n",
       "<style scoped>\n",
       "    .dataframe tbody tr th:only-of-type {\n",
       "        vertical-align: middle;\n",
       "    }\n",
       "\n",
       "    .dataframe tbody tr th {\n",
       "        vertical-align: top;\n",
       "    }\n",
       "\n",
       "    .dataframe thead th {\n",
       "        text-align: right;\n",
       "    }\n",
       "</style>\n",
       "<table border=\"1\" class=\"dataframe\">\n",
       "  <thead>\n",
       "    <tr style=\"text-align: right;\">\n",
       "      <th></th>\n",
       "      <th>checking account balance</th>\n",
       "      <th>duration</th>\n",
       "      <th>credit history</th>\n",
       "      <th>purpose</th>\n",
       "      <th>amount</th>\n",
       "      <th>savings</th>\n",
       "      <th>employment</th>\n",
       "      <th>installment</th>\n",
       "      <th>marital status</th>\n",
       "      <th>other debtors</th>\n",
       "      <th>...</th>\n",
       "      <th>age</th>\n",
       "      <th>other installments</th>\n",
       "      <th>housing</th>\n",
       "      <th>credits</th>\n",
       "      <th>job</th>\n",
       "      <th>persons</th>\n",
       "      <th>phone</th>\n",
       "      <th>foreign</th>\n",
       "      <th>repaid</th>\n",
       "      <th>agegroup</th>\n",
       "    </tr>\n",
       "  </thead>\n",
       "  <tbody>\n",
       "    <tr>\n",
       "      <th>391</th>\n",
       "      <td>A12</td>\n",
       "      <td>12</td>\n",
       "      <td>A32</td>\n",
       "      <td>A42</td>\n",
       "      <td>983</td>\n",
       "      <td>A64</td>\n",
       "      <td>A72</td>\n",
       "      <td>1</td>\n",
       "      <td>A92</td>\n",
       "      <td>A101</td>\n",
       "      <td>...</td>\n",
       "      <td>19</td>\n",
       "      <td>A143</td>\n",
       "      <td>A151</td>\n",
       "      <td>1</td>\n",
       "      <td>A172</td>\n",
       "      <td>1</td>\n",
       "      <td>A191</td>\n",
       "      <td>A201</td>\n",
       "      <td>1</td>\n",
       "      <td>Young</td>\n",
       "    </tr>\n",
       "    <tr>\n",
       "      <th>633</th>\n",
       "      <td>A14</td>\n",
       "      <td>9</td>\n",
       "      <td>A32</td>\n",
       "      <td>A42</td>\n",
       "      <td>1980</td>\n",
       "      <td>A61</td>\n",
       "      <td>A72</td>\n",
       "      <td>2</td>\n",
       "      <td>A92</td>\n",
       "      <td>A102</td>\n",
       "      <td>...</td>\n",
       "      <td>19</td>\n",
       "      <td>A143</td>\n",
       "      <td>A151</td>\n",
       "      <td>2</td>\n",
       "      <td>A173</td>\n",
       "      <td>1</td>\n",
       "      <td>A191</td>\n",
       "      <td>A201</td>\n",
       "      <td>2</td>\n",
       "      <td>Young</td>\n",
       "    </tr>\n",
       "    <tr>\n",
       "      <th>513</th>\n",
       "      <td>A12</td>\n",
       "      <td>12</td>\n",
       "      <td>A33</td>\n",
       "      <td>A43</td>\n",
       "      <td>585</td>\n",
       "      <td>A61</td>\n",
       "      <td>A73</td>\n",
       "      <td>4</td>\n",
       "      <td>A94</td>\n",
       "      <td>A102</td>\n",
       "      <td>...</td>\n",
       "      <td>20</td>\n",
       "      <td>A143</td>\n",
       "      <td>A151</td>\n",
       "      <td>2</td>\n",
       "      <td>A173</td>\n",
       "      <td>1</td>\n",
       "      <td>A191</td>\n",
       "      <td>A201</td>\n",
       "      <td>1</td>\n",
       "      <td>Young</td>\n",
       "    </tr>\n",
       "    <tr>\n",
       "      <th>155</th>\n",
       "      <td>A11</td>\n",
       "      <td>12</td>\n",
       "      <td>A32</td>\n",
       "      <td>A42</td>\n",
       "      <td>1282</td>\n",
       "      <td>A61</td>\n",
       "      <td>A73</td>\n",
       "      <td>2</td>\n",
       "      <td>A92</td>\n",
       "      <td>A101</td>\n",
       "      <td>...</td>\n",
       "      <td>20</td>\n",
       "      <td>A143</td>\n",
       "      <td>A151</td>\n",
       "      <td>1</td>\n",
       "      <td>A173</td>\n",
       "      <td>1</td>\n",
       "      <td>A191</td>\n",
       "      <td>A201</td>\n",
       "      <td>2</td>\n",
       "      <td>Young</td>\n",
       "    </tr>\n",
       "    <tr>\n",
       "      <th>410</th>\n",
       "      <td>A12</td>\n",
       "      <td>24</td>\n",
       "      <td>A32</td>\n",
       "      <td>A43</td>\n",
       "      <td>1967</td>\n",
       "      <td>A61</td>\n",
       "      <td>A75</td>\n",
       "      <td>4</td>\n",
       "      <td>A92</td>\n",
       "      <td>A101</td>\n",
       "      <td>...</td>\n",
       "      <td>20</td>\n",
       "      <td>A143</td>\n",
       "      <td>A152</td>\n",
       "      <td>1</td>\n",
       "      <td>A173</td>\n",
       "      <td>1</td>\n",
       "      <td>A192</td>\n",
       "      <td>A201</td>\n",
       "      <td>1</td>\n",
       "      <td>Young</td>\n",
       "    </tr>\n",
       "  </tbody>\n",
       "</table>\n",
       "<p>5 rows × 22 columns</p>\n",
       "</div>"
      ],
      "text/plain": [
       "    checking account balance  duration credit history purpose  amount savings  \\\n",
       "391                      A12        12            A32     A42     983     A64   \n",
       "633                      A14         9            A32     A42    1980     A61   \n",
       "513                      A12        12            A33     A43     585     A61   \n",
       "155                      A11        12            A32     A42    1282     A61   \n",
       "410                      A12        24            A32     A43    1967     A61   \n",
       "\n",
       "    employment  installment marital status other debtors   ...     age  \\\n",
       "391        A72            1            A92          A101   ...      19   \n",
       "633        A72            2            A92          A102   ...      19   \n",
       "513        A73            4            A94          A102   ...      20   \n",
       "155        A73            2            A92          A101   ...      20   \n",
       "410        A75            4            A92          A101   ...      20   \n",
       "\n",
       "    other installments  housing credits   job  persons phone  foreign repaid  \\\n",
       "391               A143     A151       1  A172        1  A191     A201      1   \n",
       "633               A143     A151       2  A173        1  A191     A201      2   \n",
       "513               A143     A151       2  A173        1  A191     A201      1   \n",
       "155               A143     A151       1  A173        1  A191     A201      2   \n",
       "410               A143     A152       1  A173        1  A192     A201      1   \n",
       "\n",
       "    agegroup  \n",
       "391    Young  \n",
       "633    Young  \n",
       "513    Young  \n",
       "155    Young  \n",
       "410    Young  \n",
       "\n",
       "[5 rows x 22 columns]"
      ]
     },
     "execution_count": 49,
     "metadata": {},
     "output_type": "execute_result"
    }
   ],
   "source": [
    "df.head()"
   ]
  },
  {
   "cell_type": "markdown",
   "metadata": {},
   "source": [
    "We now look at how some of the variables are distributed in the different age segments.\n",
    "First the employment variable:\n",
    "```\n",
    "Attribute 7:  (qualitative)\n",
    "\t      Present employment since\n",
    "\t      A71 : unemployed\n",
    "\t      A72 :       ... < 1 year\n",
    "\t      A73 : 1  <= ... < 4 years  \n",
    "\t      A74 : 4  <= ... < 7 years\n",
    "\t      A75 :       .. >= 7 years\n",
    "```"
   ]
  },
  {
   "cell_type": "code",
   "execution_count": 52,
   "metadata": {},
   "outputs": [
    {
     "data": {
      "text/plain": [
       "array([[<matplotlib.axes._subplots.AxesSubplot object at 0x000002AF464B5358>,\n",
       "        <matplotlib.axes._subplots.AxesSubplot object at 0x000002AF46BC4DD8>,\n",
       "        <matplotlib.axes._subplots.AxesSubplot object at 0x000002AF46BF4358>,\n",
       "        <matplotlib.axes._subplots.AxesSubplot object at 0x000002AF46C1C8D0>,\n",
       "        <matplotlib.axes._subplots.AxesSubplot object at 0x000002AF46C45E48>]],\n",
       "      dtype=object)"
      ]
     },
     "execution_count": 52,
     "metadata": {},
     "output_type": "execute_result"
    },
    {
     "data": {
      "image/png": "[encoded data removed]",
      "text/plain": [
       "<Figure size 1080x360 with 5 Axes>"
      ]
     },
     "metadata": {},
     "output_type": "display_data"
    }
   ],
   "source": [
    "df.groupby('agegroup')\\\n",
    "    .employment.value_counts()\\\n",
    "    .sort_index()\\\n",
    "    .unstack()\\\n",
    "    .plot.bar(subplots=True,layout=(1,5),figsize=(15,5),legend=None)"
   ]
  },
  {
   "cell_type": "markdown",
   "metadata": {},
   "source": [
    "We see that more old people are unemployed or have been in a job for a long time, whereas more young people recently started in their current job.\n",
    "\n",
    "We now look at housing:\n",
    "```\n",
    "Attribute 15: (qualitative)\n",
    "\t      Housing\n",
    "\t      A151 : rent\n",
    "\t      A152 : own\n",
    "\t      A153 : for free\n",
    "```"
   ]
  },
  {
   "cell_type": "code",
   "execution_count": 54,
   "metadata": {},
   "outputs": [
    {
     "data": {
      "text/plain": [
       "array([[<matplotlib.axes._subplots.AxesSubplot object at 0x000002AF46C7F208>,\n",
       "        <matplotlib.axes._subplots.AxesSubplot object at 0x000002AF46FB93C8>,\n",
       "        <matplotlib.axes._subplots.AxesSubplot object at 0x000002AF46FE1908>,\n",
       "        <matplotlib.axes._subplots.AxesSubplot object at 0x000002AF4719BE80>,\n",
       "        <matplotlib.axes._subplots.AxesSubplot object at 0x000002AF471CB550>]],\n",
       "      dtype=object)"
      ]
     },
     "execution_count": 54,
     "metadata": {},
     "output_type": "execute_result"
    },
    {
     "data": {
      "image/png": "[encoded data removed]",
      "text/plain": [
       "<Figure size 1080x360 with 5 Axes>"
      ]
     },
     "metadata": {},
     "output_type": "display_data"
    }
   ],
   "source": [
    "df.groupby('agegroup')\\\n",
    "    .housing.value_counts()\\\n",
    "    .sort_index()\\\n",
    "    .unstack()\\\n",
    "    .plot.bar(subplots=True,layout=(1,5),figsize=(15,5),legend=None)"
   ]
  },
  {
   "cell_type": "markdown",
   "metadata": {},
   "source": [
    "There are clear differences between the groups on housing. Very few young people have free housing, and relatively few old and middle age people rent. This means we have a dependency between the age variable and the housing variable.\n",
    "\n",
    "Finally, we look at whether there are differences between the groups in how often loans are paid back.\n",
    "\n",
    "```\n",
    "1 : Loan was repaid\n",
    "2 : Loan was defaulted\n",
    "```"
   ]
  },
  {
   "cell_type": "code",
   "execution_count": 58,
   "metadata": {},
   "outputs": [
    {
     "data": {
      "text/plain": [
       "array([[<matplotlib.axes._subplots.AxesSubplot object at 0x000002AF47517CC0>,\n",
       "        <matplotlib.axes._subplots.AxesSubplot object at 0x000002AF47551C50>,\n",
       "        <matplotlib.axes._subplots.AxesSubplot object at 0x000002AF47582208>,\n",
       "        <matplotlib.axes._subplots.AxesSubplot object at 0x000002AF475EB898>,\n",
       "        <matplotlib.axes._subplots.AxesSubplot object at 0x000002AF47612F28>]],\n",
       "      dtype=object)"
      ]
     },
     "execution_count": 58,
     "metadata": {},
     "output_type": "execute_result"
    },
    {
     "data": {
      "image/png": "[encoded data removed]",
      "text/plain": [
       "<Figure size 1080x360 with 5 Axes>"
      ]
     },
     "metadata": {},
     "output_type": "display_data"
    }
   ],
   "source": [
    "df.groupby('agegroup')\\\n",
    "    .repaid.value_counts()\\\n",
    "    .sort_index()\\\n",
    "    .unstack()\\\n",
    "    .plot.bar(subplots=True,layout=(1,5),figsize=(15,5),legend=None)"
   ]
  },
  {
   "cell_type": "markdown",
   "metadata": {},
   "source": [
    "As can be seen, a higher percentage of young people default on their loans\n",
    "\n",
    "In conclusion; We expect there to be differences in the decision of whether to get a loan between the groups, and we need to estimate how much of that difference is due to age and how much is due to other factors."
   ]
  },
  {
   "cell_type": "code",
   "execution_count": null,
   "metadata": {},
   "outputs": [],
   "source": []
  }
 ],
 "metadata": {
  "kernelspec": {
   "display_name": "Python 3",
   "language": "python",
   "name": "python3"
  },
  "language_info": {
   "codemirror_mode": {
    "name": "ipython",
    "version": 3
   },
   "file_extension": ".py",
   "mimetype": "text/x-python",
   "name": "python",
   "nbconvert_exporter": "python",
   "pygments_lexer": "ipython3",
   "version": "3.6.5"
  }
 },
 "nbformat": 4,
 "nbformat_minor": 2
}
